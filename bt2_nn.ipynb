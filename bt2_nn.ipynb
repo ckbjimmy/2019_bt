{
  "nbformat": 4,
  "nbformat_minor": 0,
  "metadata": {
    "colab": {
      "name": "bt2_nn.ipynb",
      "provenance": [],
      "collapsed_sections": [],
      "toc_visible": true,
      "include_colab_link": true
    },
    "kernelspec": {
      "display_name": "Python 3",
      "language": "python",
      "name": "python3"
    },
    "language_info": {
      "codemirror_mode": {
        "name": "ipython",
        "version": 3
      },
      "file_extension": ".py",
      "mimetype": "text/x-python",
      "name": "python",
      "nbconvert_exporter": "python",
      "pygments_lexer": "ipython3",
      "version": "3.6.8"
    }
  },
  "cells": [
    {
      "cell_type": "markdown",
      "metadata": {
        "id": "view-in-github",
        "colab_type": "text"
      },
      "source": [
        "<a href=\"https://colab.research.google.com/github/ckbjimmy/2019_bt/blob/master/bt2_nn.ipynb\" target=\"_parent\"><img src=\"https://colab.research.google.com/assets/colab-badge.svg\" alt=\"Open In Colab\"/></a>"
      ]
    },
    {
      "cell_type": "markdown",
      "metadata": {
        "colab_type": "text",
        "id": "izJch3vfcs0a"
      },
      "source": [
        "# Machine Learning for Clinical Data Analysis\n",
        "\n",
        "We would like to introduce basic machine learning techniques and toolkits for clinical knowledge discovery in the workshop.\n",
        "The material will cover common useful algorithms for clinical prediction tasks, as well as the diagnostic workflow of applying machine learning to real-world problems. \n",
        "We will use [Google colab](https://colab.research.google.com/) / python jupyter notebook and two datasets:\n",
        "\n",
        "- Breast Cancer Wisconsin (Diagnostic) Database, and \n",
        "- pre-extracted ICU data from PhysioNet Database\n",
        "  \n",
        "to build predictive models.\n",
        "\n",
        "The learning objectives of this workshop tutorial are:\n",
        "\n",
        "- Learn how to use Google colab / jupyter notebook\n",
        "- Learn how to build machine learning models for clinical classification and/or clustering tasks\n",
        "\n",
        "To accelerate the progress without obstacles, we hope that the readers fulfill the following prerequisites:\n",
        "\n",
        "- [Skillset] basic python syntax\n",
        "- [Requirements] Google account OR [anaconda](https://anaconda.org/anaconda/python)\n",
        "\n",
        "In part 1, we will go through the basic of machine learning for classification problems.\n",
        "In part 2, we will play with neural networks."
      ]
    },
    {
      "cell_type": "markdown",
      "metadata": {
        "colab_type": "text",
        "id": "kEg4H8vN_yBo"
      },
      "source": [
        "# Classification problem\n",
        "\n",
        "## Deep learning / Deep neural network\n",
        "\n",
        "Deep learning is a group of machine learning algorithms that specifically focuses on utilizing neural network architecture.\n",
        "The neural network approach attempt to mimic the function of biological neurons by stacking layers of neuron units that can pass information.\n",
        "The network will pass the inforamtion back and forth to adjust the weights of neuron units using backpropagation algorithm based on the objective function (loss function, criterion) that we provide.\n",
        "\n",
        "The advantages of using deep learning approach includes:\n",
        "- Modularization\n",
        "- Universality theorem (one hidden layer is enough, but much effective while deeper)\n",
        "- End-to-end learning (less feature engineering---if you don't know what features are important at all)\n",
        "\n",
        "![adv](https://raw.githubusercontent.com/ckbjimmy/2019_bt/master/img/adv.png)\n",
        "\n",
        "[Source] Courtesy by Prof. HY Lee (NTU)\n",
        "\n",
        "However, there are still some cons of using deep neural networks such as interpretability and heavy computation.\n",
        "\n",
        "As a promising algorithmic approach for predictive analytics (and also the hype of deep learning), we would like to introduce you how to use deep neural networks for clinical machine learning problems.\n",
        "\n",
        "The mathematical details of neural network approach will not be emphasized in the tutorial.\n",
        "The foundation of deep neural network is using **gradient descent** to update parameters, and all gradients are computed by **backpropagation algorithm**.\n",
        "Please refer to [Deep Learning book by Goodfellow et al.](http:/www.deeplearningbook.org/) for detailed information.  \n",
        "\n",
        "To build the neural network without too much efforts in python, we adopt the high-level python deep learning API, **Keras**, to train neural networks.\n",
        "\n",
        "After going through this tutorial, we hope that you will understand how to use keras to design and build simple neural network for classification problems, and how to evaluate the keras neural network models.\n",
        "\n",
        "In this tutorial, we directly use the most complicated data, PhysioNet dataset, as an example to demonstrate the performance of deep learning models.\n",
        "Please refer to tutorial Part I for all details of data preprocessing."
      ]
    },
    {
      "cell_type": "code",
      "metadata": {
        "colab_type": "code",
        "id": "xh-d9eYuCr1x",
        "colab": {}
      },
      "source": [
        "import numpy as np\n",
        "import pandas as pd\n",
        "from sklearn.preprocessing import Imputer\n",
        "from sklearn.preprocessing import StandardScaler\n",
        "from sklearn.preprocessing import LabelEncoder\n",
        "from sklearn.model_selection import train_test_split\n",
        "\n",
        "df = pd.read_csv('https://raw.githubusercontent.com/ckbjimmy/2019_bt/master/data/PhysionetChallenge2012_data.csv')\n",
        "X = df.iloc[:, 1:].values\n",
        "y = df.iloc[:, 0].values"
      ],
      "execution_count": 0,
      "outputs": []
    },
    {
      "cell_type": "markdown",
      "metadata": {
        "colab_type": "text",
        "id": "FevajKnfDnJ6"
      },
      "source": [
        "Before training neural network, we need to do some transformations for our data."
      ]
    },
    {
      "cell_type": "code",
      "metadata": {
        "colab_type": "code",
        "id": "Ge6DRpYGEYAH",
        "outputId": "a1918c02-10a2-45b6-e3d8-81c4f9fe4fec",
        "colab": {
          "base_uri": "https://localhost:8080/",
          "height": 72
        }
      },
      "source": [
        "X = Imputer(missing_values='NaN', strategy='mean', axis=0).fit(X).transform(X)\n",
        "X = StandardScaler().fit(X).transform(X)\n",
        "\n",
        "# Encoding Categorical Data\n",
        "labelencoder = LabelEncoder()\n",
        "y = labelencoder.fit_transform(y)\n",
        "\n",
        "X_train, X_test, y_train, y_test = train_test_split(X, y, test_size = 0.2, random_state = 42)"
      ],
      "execution_count": 0,
      "outputs": [
        {
          "output_type": "stream",
          "text": [
            "/usr/local/lib/python3.6/dist-packages/sklearn/utils/deprecation.py:66: DeprecationWarning: Class Imputer is deprecated; Imputer was deprecated in version 0.20 and will be removed in 0.22. Import impute.SimpleImputer from sklearn instead.\n",
            "  warnings.warn(msg, category=DeprecationWarning)\n"
          ],
          "name": "stderr"
        }
      ]
    },
    {
      "cell_type": "markdown",
      "metadata": {
        "colab_type": "text",
        "id": "PKcLH75tuGRw"
      },
      "source": [
        "Next, we import keras modules and construct a very simple three-layer neural network architecture with input, hidden and output layers."
      ]
    },
    {
      "cell_type": "code",
      "metadata": {
        "colab_type": "code",
        "id": "GUgfs1oJEmII",
        "outputId": "b544591f-2cee-4e1d-cd62-9087edb759e0",
        "colab": {
          "base_uri": "https://localhost:8080/",
          "height": 380
        }
      },
      "source": [
        "!pip install keras --upgrade\n",
        "import keras\n",
        "from keras.models import Sequential\n",
        "from keras.layers import Dense\n",
        "\n",
        "try:\n",
        "    import pydot\n",
        "except:\n",
        "    !pip install pydot\n",
        "    \n",
        "try:\n",
        "    import graphviz\n",
        "except:\n",
        "    !apt-get install graphviz -y\n",
        "    \n",
        "from keras.utils.vis_utils import plot_model\n",
        "from IPython.display import Image\n",
        "\n",
        "keras.__version__"
      ],
      "execution_count": 0,
      "outputs": [
        {
          "output_type": "stream",
          "text": [
            "Collecting keras\n",
            "\u001b[?25l  Downloading https://files.pythonhosted.org/packages/ad/fd/6bfe87920d7f4fd475acd28500a42482b6b84479832bdc0fe9e589a60ceb/Keras-2.3.1-py2.py3-none-any.whl (377kB)\n",
            "\r\u001b[K     |▉                               | 10kB 14.4MB/s eta 0:00:01\r\u001b[K     |█▊                              | 20kB 6.0MB/s eta 0:00:01\r\u001b[K     |██▋                             | 30kB 8.4MB/s eta 0:00:01\r\u001b[K     |███▌                            | 40kB 5.5MB/s eta 0:00:01\r\u001b[K     |████▍                           | 51kB 6.7MB/s eta 0:00:01\r\u001b[K     |█████▏                          | 61kB 7.8MB/s eta 0:00:01\r\u001b[K     |██████                          | 71kB 8.8MB/s eta 0:00:01\r\u001b[K     |███████                         | 81kB 9.8MB/s eta 0:00:01\r\u001b[K     |███████▉                        | 92kB 10.9MB/s eta 0:00:01\r\u001b[K     |████████▊                       | 102kB 8.8MB/s eta 0:00:01\r\u001b[K     |█████████▌                      | 112kB 8.8MB/s eta 0:00:01\r\u001b[K     |██████████▍                     | 122kB 8.8MB/s eta 0:00:01\r\u001b[K     |███████████▎                    | 133kB 8.8MB/s eta 0:00:01\r\u001b[K     |████████████▏                   | 143kB 8.8MB/s eta 0:00:01\r\u001b[K     |█████████████                   | 153kB 8.8MB/s eta 0:00:01\r\u001b[K     |█████████████▉                  | 163kB 8.8MB/s eta 0:00:01\r\u001b[K     |██████████████▊                 | 174kB 8.8MB/s eta 0:00:01\r\u001b[K     |███████████████▋                | 184kB 8.8MB/s eta 0:00:01\r\u001b[K     |████████████████▌               | 194kB 8.8MB/s eta 0:00:01\r\u001b[K     |█████████████████▍              | 204kB 8.8MB/s eta 0:00:01\r\u001b[K     |██████████████████▏             | 215kB 8.8MB/s eta 0:00:01\r\u001b[K     |███████████████████             | 225kB 8.8MB/s eta 0:00:01\r\u001b[K     |████████████████████            | 235kB 8.8MB/s eta 0:00:01\r\u001b[K     |████████████████████▉           | 245kB 8.8MB/s eta 0:00:01\r\u001b[K     |█████████████████████▊          | 256kB 8.8MB/s eta 0:00:01\r\u001b[K     |██████████████████████▌         | 266kB 8.8MB/s eta 0:00:01\r\u001b[K     |███████████████████████▍        | 276kB 8.8MB/s eta 0:00:01\r\u001b[K     |████████████████████████▎       | 286kB 8.8MB/s eta 0:00:01\r\u001b[K     |█████████████████████████▏      | 296kB 8.8MB/s eta 0:00:01\r\u001b[K     |██████████████████████████      | 307kB 8.8MB/s eta 0:00:01\r\u001b[K     |██████████████████████████▉     | 317kB 8.8MB/s eta 0:00:01\r\u001b[K     |███████████████████████████▊    | 327kB 8.8MB/s eta 0:00:01\r\u001b[K     |████████████████████████████▋   | 337kB 8.8MB/s eta 0:00:01\r\u001b[K     |█████████████████████████████▌  | 348kB 8.8MB/s eta 0:00:01\r\u001b[K     |██████████████████████████████▍ | 358kB 8.8MB/s eta 0:00:01\r\u001b[K     |███████████████████████████████▏| 368kB 8.8MB/s eta 0:00:01\r\u001b[K     |████████████████████████████████| 378kB 8.8MB/s \n",
            "\u001b[?25hRequirement already satisfied, skipping upgrade: h5py in /usr/local/lib/python3.6/dist-packages (from keras) (2.8.0)\n",
            "Requirement already satisfied, skipping upgrade: numpy>=1.9.1 in /usr/local/lib/python3.6/dist-packages (from keras) (1.17.3)\n",
            "Requirement already satisfied, skipping upgrade: keras-preprocessing>=1.0.5 in /usr/local/lib/python3.6/dist-packages (from keras) (1.1.0)\n",
            "Requirement already satisfied, skipping upgrade: scipy>=0.14 in /usr/local/lib/python3.6/dist-packages (from keras) (1.3.1)\n",
            "Requirement already satisfied, skipping upgrade: pyyaml in /usr/local/lib/python3.6/dist-packages (from keras) (3.13)\n",
            "Requirement already satisfied, skipping upgrade: six>=1.9.0 in /usr/local/lib/python3.6/dist-packages (from keras) (1.12.0)\n",
            "Requirement already satisfied, skipping upgrade: keras-applications>=1.0.6 in /usr/local/lib/python3.6/dist-packages (from keras) (1.0.8)\n",
            "Installing collected packages: keras\n",
            "  Found existing installation: Keras 2.2.5\n",
            "    Uninstalling Keras-2.2.5:\n",
            "      Successfully uninstalled Keras-2.2.5\n",
            "Successfully installed keras-2.3.1\n"
          ],
          "name": "stdout"
        },
        {
          "output_type": "stream",
          "text": [
            "Using TensorFlow backend.\n"
          ],
          "name": "stderr"
        },
        {
          "output_type": "display_data",
          "data": {
            "text/html": [
              "<p style=\"color: red;\">\n",
              "The default version of TensorFlow in Colab will soon switch to TensorFlow 2.x.<br>\n",
              "We recommend you <a href=\"https://www.tensorflow.org/guide/migrate\" target=\"_blank\">upgrade</a> now \n",
              "or ensure your notebook will continue to use TensorFlow 1.x via the <code>%tensorflow_version 1.x</code> magic:\n",
              "<a href=\"https://colab.research.google.com/notebooks/tensorflow_version.ipynb\" target=\"_blank\">more info</a>.</p>\n"
            ],
            "text/plain": [
              "<IPython.core.display.HTML object>"
            ]
          },
          "metadata": {
            "tags": []
          }
        },
        {
          "output_type": "execute_result",
          "data": {
            "text/plain": [
              "'2.3.1'"
            ]
          },
          "metadata": {
            "tags": []
          },
          "execution_count": 3
        }
      ]
    },
    {
      "cell_type": "markdown",
      "metadata": {
        "colab_type": "text",
        "id": "Gnd_ilVDvL_p"
      },
      "source": [
        "There are many variants of deep neural networks.\n",
        "\n",
        "![nn](https://raw.githubusercontent.com/ckbjimmy/2019_bt/master/img/nn.png)\n",
        "\n",
        "[Source] Deep Learning, Chapter 1 (Goodfellow, 2016)\n",
        "\n",
        "We will start from the simplest one, feedforward neural network, which is similar to the neural network architecture shown in the following figure.\n",
        "\n",
        "![nn](https://cdn-images-1.medium.com/max/1600/1*QVIyc5HnGDWTNX3m-nIm9w.png)\n",
        "\n",
        "[Source] https://medium.com/@curiousily/tensorflow-for-hackers-part-iv-neural-network-from-scratch-1a4f504dfa8\n",
        "\n",
        "In our first neural network model, we will construct the one that\n",
        "\n",
        "- take the input and pass them into the 64-dimension first hidden layer, \n",
        "- take the output of the first layer and pass them into the  8-dimension second layer,\n",
        "- take the output of the second layer and pass them into the last layer for prediction,\n",
        "- the output of the last layer is the prediction.\n",
        "\n",
        "One more hidden layer than the above figure.\n",
        "\n",
        "In keras, we use `Sequential()` as the skeleton of the neural network model, and sequentially add the layer on it.\n",
        "After building the layers, we need to compile the model and defined the optimizer, loss function and evaluation metrics to optimize our model.\n",
        "In this example, we use the optimizer called `adam`, to minimize the value of loss function `binary_crossentropy` (if you work on the regression problem, remember to change to `mse`), and judge by accuracy."
      ]
    },
    {
      "cell_type": "code",
      "metadata": {
        "colab_type": "code",
        "id": "kK615g3AErss",
        "outputId": "cb92aa37-0d52-413d-b95c-5f3447d81aca",
        "colab": {
          "base_uri": "https://localhost:8080/",
          "height": 810
        }
      },
      "source": [
        "# initialize neural network\n",
        "clf = Sequential()\n",
        "\n",
        "# first hidden layer for input data\n",
        "clf.add(Dense(units=64, \n",
        "              kernel_initializer='uniform',\n",
        "              activation='relu', \n",
        "              input_dim=X.shape[1]))\n",
        "\n",
        "# second hidden layer\n",
        "clf.add(Dense(units=8, \n",
        "              kernel_initializer='uniform', \n",
        "              activation='relu'))\n",
        "\n",
        "# the last hidden layer for output\n",
        "clf.add(Dense(units=1, \n",
        "              kernel_initializer='uniform', \n",
        "              activation='sigmoid'))\n",
        "\n",
        "# compile the network\n",
        "clf.compile(optimizer='adam', \n",
        "            loss='binary_crossentropy', \n",
        "            metrics=['accuracy'])\n",
        "\n",
        "\n",
        "print(clf.summary())\n",
        "\n",
        "plot_model(clf, to_file='clf.png', show_shapes=True, show_layer_names=True)\n",
        "Image('clf.png')"
      ],
      "execution_count": 0,
      "outputs": [
        {
          "output_type": "stream",
          "text": [
            "WARNING:tensorflow:From /usr/local/lib/python3.6/dist-packages/tensorflow_core/python/ops/resource_variable_ops.py:1630: calling BaseResourceVariable.__init__ (from tensorflow.python.ops.resource_variable_ops) with constraint is deprecated and will be removed in a future version.\n",
            "Instructions for updating:\n",
            "If using Keras pass *_constraint arguments to layers.\n",
            "WARNING:tensorflow:From /usr/local/lib/python3.6/dist-packages/tensorflow_core/python/ops/nn_impl.py:183: where (from tensorflow.python.ops.array_ops) is deprecated and will be removed in a future version.\n",
            "Instructions for updating:\n",
            "Use tf.where in 2.0, which has the same broadcast rule as np.where\n",
            "Model: \"sequential_1\"\n",
            "_________________________________________________________________\n",
            "Layer (type)                 Output Shape              Param #   \n",
            "=================================================================\n",
            "dense_1 (Dense)              (None, 64)                11712     \n",
            "_________________________________________________________________\n",
            "dense_2 (Dense)              (None, 8)                 520       \n",
            "_________________________________________________________________\n",
            "dense_3 (Dense)              (None, 1)                 9         \n",
            "=================================================================\n",
            "Total params: 12,241\n",
            "Trainable params: 12,241\n",
            "Non-trainable params: 0\n",
            "_________________________________________________________________\n",
            "None\n"
          ],
          "name": "stdout"
        },
        {
          "output_type": "execute_result",
          "data": {
            "image/png": "[encoded data removed]",
            "text/plain": [
              "<IPython.core.display.Image object>"
            ]
          },
          "metadata": {
            "tags": []
          },
          "execution_count": 4
        }
      ]
    },
    {
      "cell_type": "markdown",
      "metadata": {
        "colab_type": "text",
        "id": "N3dHEHTDWvy8"
      },
      "source": [
        "Then, it's time to train the model!\n",
        "Smaller batch size usually yields better performance, yet with slow speed.\n",
        "The epoch size of $n$ means that the algorithm will go through whole dataset $n$ times.\n",
        "\n",
        "After training, we visualize the training history and see how the accuracy and loss went during the process.\n",
        "We also use confusion matrix and **pycm** for computing the performance.\n"
      ]
    },
    {
      "cell_type": "code",
      "metadata": {
        "colab_type": "code",
        "id": "qlPbkMOpVWPN",
        "outputId": "71c7b5db-918d-47e4-9841-58e508fab6a4",
        "colab": {
          "base_uri": "https://localhost:8080/",
          "height": 790
        }
      },
      "source": [
        "# fit model\n",
        "history = clf.fit(x=X_train, y=y_train,\n",
        "                    validation_split=0.2,  \n",
        "                    batch_size=100,\n",
        "                    epochs=20, \n",
        "                    verbose=1)"
      ],
      "execution_count": 0,
      "outputs": [
        {
          "output_type": "stream",
          "text": [
            "WARNING:tensorflow:From /usr/local/lib/python3.6/dist-packages/keras/backend/tensorflow_backend.py:422: The name tf.global_variables is deprecated. Please use tf.compat.v1.global_variables instead.\n",
            "\n",
            "Train on 2560 samples, validate on 640 samples\n",
            "Epoch 1/20\n",
            "2560/2560 [==============================] - 1s 218us/step - loss: 0.6801 - accuracy: 0.8262 - val_loss: 0.6515 - val_accuracy: 0.8734\n",
            "Epoch 2/20\n",
            "2560/2560 [==============================] - 0s 22us/step - loss: 0.5791 - accuracy: 0.8625 - val_loss: 0.4649 - val_accuracy: 0.8734\n",
            "Epoch 3/20\n",
            "2560/2560 [==============================] - 0s 23us/step - loss: 0.3885 - accuracy: 0.8625 - val_loss: 0.3289 - val_accuracy: 0.8734\n",
            "Epoch 4/20\n",
            "2560/2560 [==============================] - 0s 21us/step - loss: 0.3291 - accuracy: 0.8625 - val_loss: 0.3077 - val_accuracy: 0.8734\n",
            "Epoch 5/20\n",
            "2560/2560 [==============================] - 0s 22us/step - loss: 0.3100 - accuracy: 0.8625 - val_loss: 0.2990 - val_accuracy: 0.8734\n",
            "Epoch 6/20\n",
            "2560/2560 [==============================] - 0s 22us/step - loss: 0.2998 - accuracy: 0.8625 - val_loss: 0.2939 - val_accuracy: 0.8734\n",
            "Epoch 7/20\n",
            "2560/2560 [==============================] - 0s 22us/step - loss: 0.2898 - accuracy: 0.8625 - val_loss: 0.2894 - val_accuracy: 0.8734\n",
            "Epoch 8/20\n",
            "2560/2560 [==============================] - 0s 23us/step - loss: 0.2820 - accuracy: 0.8625 - val_loss: 0.2890 - val_accuracy: 0.8734\n",
            "Epoch 9/20\n",
            "2560/2560 [==============================] - 0s 22us/step - loss: 0.2752 - accuracy: 0.8625 - val_loss: 0.2873 - val_accuracy: 0.8734\n",
            "Epoch 10/20\n",
            "2560/2560 [==============================] - 0s 24us/step - loss: 0.2695 - accuracy: 0.8625 - val_loss: 0.2877 - val_accuracy: 0.8734\n",
            "Epoch 11/20\n",
            "2560/2560 [==============================] - 0s 23us/step - loss: 0.2633 - accuracy: 0.8625 - val_loss: 0.2866 - val_accuracy: 0.8734\n",
            "Epoch 12/20\n",
            "2560/2560 [==============================] - 0s 23us/step - loss: 0.2573 - accuracy: 0.8625 - val_loss: 0.2878 - val_accuracy: 0.8734\n",
            "Epoch 13/20\n",
            "2560/2560 [==============================] - 0s 24us/step - loss: 0.2517 - accuracy: 0.8695 - val_loss: 0.2875 - val_accuracy: 0.8781\n",
            "Epoch 14/20\n",
            "2560/2560 [==============================] - 0s 22us/step - loss: 0.2455 - accuracy: 0.8816 - val_loss: 0.2896 - val_accuracy: 0.8828\n",
            "Epoch 15/20\n",
            "2560/2560 [==============================] - 0s 22us/step - loss: 0.2395 - accuracy: 0.8906 - val_loss: 0.2924 - val_accuracy: 0.8844\n",
            "Epoch 16/20\n",
            "2560/2560 [==============================] - 0s 22us/step - loss: 0.2326 - accuracy: 0.8973 - val_loss: 0.2941 - val_accuracy: 0.8828\n",
            "Epoch 17/20\n",
            "2560/2560 [==============================] - 0s 22us/step - loss: 0.2253 - accuracy: 0.9086 - val_loss: 0.2952 - val_accuracy: 0.8828\n",
            "Epoch 18/20\n",
            "2560/2560 [==============================] - 0s 25us/step - loss: 0.2175 - accuracy: 0.9129 - val_loss: 0.2978 - val_accuracy: 0.8828\n",
            "Epoch 19/20\n",
            "2560/2560 [==============================] - 0s 21us/step - loss: 0.2079 - accuracy: 0.9207 - val_loss: 0.3010 - val_accuracy: 0.8781\n",
            "Epoch 20/20\n",
            "2560/2560 [==============================] - 0s 21us/step - loss: 0.1978 - accuracy: 0.9246 - val_loss: 0.3039 - val_accuracy: 0.8703\n"
          ],
          "name": "stdout"
        }
      ]
    },
    {
      "cell_type": "code",
      "metadata": {
        "colab_type": "code",
        "id": "M_DCM8ZzEupD",
        "outputId": "6dcf9ae2-609e-4f74-e6a5-750466504718",
        "colab": {
          "base_uri": "https://localhost:8080/",
          "height": 572
        }
      },
      "source": [
        "import matplotlib.pyplot as plt  \n",
        "def show_train_history(train_history, train, validation):  \n",
        "    plt.plot(train_history.history[train])   \n",
        "    plt.plot(train_history.history[validation])  \n",
        "    plt.title('Train History')  \n",
        "    plt.ylabel(train)  \n",
        "    plt.xlabel('Epoch')  \n",
        "    plt.legend(['train', 'validation'], loc='upper left')  \n",
        "    plt.show() \n",
        "    \n",
        "show_train_history(history, 'accuracy', 'val_accuracy')\n",
        "show_train_history(history, 'loss', 'val_loss')"
      ],
      "execution_count": 0,
      "outputs": [
        {
          "output_type": "display_data",
          "data": {
            "image/png": "[encoded data removed]",
            "text/plain": [
              "<Figure size 432x288 with 1 Axes>"
            ]
          },
          "metadata": {
            "tags": []
          }
        },
        {
          "output_type": "display_data",
          "data": {
            "image/png": "[encoded data removed]",
            "text/plain": [
              "<Figure size 432x288 with 1 Axes>"
            ]
          },
          "metadata": {
            "tags": []
          }
        }
      ]
    },
    {
      "cell_type": "code",
      "metadata": {
        "colab_type": "code",
        "id": "CDwBbG8UEwek",
        "outputId": "5e313001-863e-40ba-b744-d1be90ddaca9",
        "colab": {
          "base_uri": "https://localhost:8080/",
          "height": 52
        }
      },
      "source": [
        "# we use the trained model to predict the label of test set\n",
        "y_pred = clf.predict(X_test)\n",
        "y_pred = [1 if i[0] > 0.5 else 0 for i in y_pred]\n",
        "\n",
        "# show the performance using confusion matrix\n",
        "from sklearn.metrics import confusion_matrix\n",
        "cm = confusion_matrix(y_test, y_pred) \n",
        "print(cm)"
      ],
      "execution_count": 0,
      "outputs": [
        {
          "output_type": "stream",
          "text": [
            "[[647  32]\n",
            " [ 84  37]]\n"
          ],
          "name": "stdout"
        }
      ]
    },
    {
      "cell_type": "code",
      "metadata": {
        "colab_type": "code",
        "id": "kasfl-8OGTUj",
        "outputId": "fbe0b735-8947-4655-8416-4fcac4373159",
        "colab": {
          "base_uri": "https://localhost:8080/",
          "height": 1000
        }
      },
      "source": [
        "# we use pycm to show the performance\n",
        "!pip install pycm\n",
        "from pycm import *\n",
        "\n",
        "cm = ConfusionMatrix(actual_vector=y_test, predict_vector=y_pred)\n",
        "print(cm)"
      ],
      "execution_count": 0,
      "outputs": [
        {
          "output_type": "stream",
          "text": [
            "Collecting pycm\n",
            "\u001b[?25l  Downloading https://files.pythonhosted.org/packages/cb/0b/da5b285528def59a12a4b39ed9cc7d0fd45ae8d64d81a4eeec2450c1510d/pycm-2.5-py2.py3-none-any.whl (52kB)\n",
            "\r\u001b[K     |██████▎                         | 10kB 13.2MB/s eta 0:00:01\r\u001b[K     |████████████▋                   | 20kB 7.2MB/s eta 0:00:01\r\u001b[K     |██████████████████▉             | 30kB 9.8MB/s eta 0:00:01\r\u001b[K     |█████████████████████████▏      | 40kB 12.2MB/s eta 0:00:01\r\u001b[K     |███████████████████████████████▍| 51kB 7.4MB/s eta 0:00:01\r\u001b[K     |████████████████████████████████| 61kB 3.7MB/s \n",
            "\u001b[?25hRequirement already satisfied: numpy>=1.9.0 in /usr/local/lib/python3.6/dist-packages (from pycm) (1.17.3)\n",
            "Collecting art>=1.8\n",
            "\u001b[?25l  Downloading https://files.pythonhosted.org/packages/07/81/9fbf7514d8f22098c94ac429ce45db5034146d09665b4643adbe0978932b/art-4.1-py2.py3-none-any.whl (505kB)\n",
            "\u001b[K     |████████████████████████████████| 512kB 23.2MB/s \n",
            "\u001b[?25hCollecting coverage>=4.1\n",
            "\u001b[?25l  Downloading https://files.pythonhosted.org/packages/51/b1/13609068fff1c8c056f0c4601ad6985cf5c1bbfc529196ab08bd2a57dc39/coverage-4.5.4-cp36-cp36m-manylinux1_x86_64.whl (205kB)\n",
            "\u001b[K     |████████████████████████████████| 215kB 40.8MB/s \n",
            "\u001b[31mERROR: datascience 0.10.6 has requirement coverage==3.7.1, but you'll have coverage 4.5.4 which is incompatible.\u001b[0m\n",
            "\u001b[31mERROR: datascience 0.10.6 has requirement folium==0.2.1, but you'll have folium 0.8.3 which is incompatible.\u001b[0m\n",
            "\u001b[31mERROR: coveralls 0.5 has requirement coverage<3.999,>=3.6, but you'll have coverage 4.5.4 which is incompatible.\u001b[0m\n",
            "\u001b[?25hInstalling collected packages: coverage, art, pycm\n",
            "  Found existing installation: coverage 3.7.1\n",
            "    Uninstalling coverage-3.7.1:\n",
            "      Successfully uninstalled coverage-3.7.1\n",
            "Successfully installed art-4.1 coverage-4.5.4 pycm-2.5\n",
            "Predict   0         1         \n",
            "Actual\n",
            "0         647       32        \n",
            "\n",
            "1         84        37        \n",
            "\n",
            "\n",
            "\n",
            "\n",
            "\n",
            "Overall Statistics : \n",
            "\n",
            "95% CI                                                            (0.8306,0.8794)\n",
            "ACC Macro                                                         0.855\n",
            "AUNP                                                              0.62933\n",
            "AUNU                                                              0.62933\n",
            "Bennett S                                                         0.71\n",
            "CBA                                                               0.59544\n",
            "CSI                                                               0.33999\n",
            "Chi-Squared                                                       87.18206\n",
            "Chi-Squared DF                                                    1\n",
            "Conditional Entropy                                               0.36696\n",
            "Cramer V                                                          0.33012\n",
            "Cross Entropy                                                     0.64517\n",
            "F1 Macro                                                          0.6536\n",
            "F1 Micro                                                          0.855\n",
            "Gwet AC1                                                          0.81662\n",
            "Hamming Loss                                                      0.145\n",
            "Joint Entropy                                                     0.97992\n",
            "KL Divergence                                                     0.03221\n",
            "Kappa                                                             0.31413\n",
            "Kappa 95% CI                                                      (0.19871,0.42954)\n",
            "Kappa No Prevalence                                               0.71\n",
            "Kappa Standard Error                                              0.05888\n",
            "Kappa Unbiased                                                    0.3072\n",
            "Lambda A                                                          0.04132\n",
            "Lambda B                                                          0.0\n",
            "Mutual Information                                                0.05686\n",
            "NIR                                                               0.84875\n",
            "Overall ACC                                                       0.855\n",
            "Overall CEN                                                       0.43608\n",
            "Overall J                                                         (1.0898,0.5449)\n",
            "Overall MCC                                                       0.33012\n",
            "Overall MCEN                                                      0.34919\n",
            "Overall RACC                                                      0.78859\n",
            "Overall RACCU                                                     0.7907\n",
            "P-Value                                                           0.33187\n",
            "PPV Macro                                                         0.71066\n",
            "PPV Micro                                                         0.855\n",
            "Pearson C                                                         0.31348\n",
            "Phi-Squared                                                       0.10898\n",
            "RCI                                                               0.09277\n",
            "RR                                                                400.0\n",
            "Reference Entropy                                                 0.61296\n",
            "Response Entropy                                                  0.42383\n",
            "SOA1(Landis & Koch)                                               Fair\n",
            "SOA2(Fleiss)                                                      Poor\n",
            "SOA3(Altman)                                                      Fair\n",
            "SOA4(Cicchetti)                                                   Poor\n",
            "SOA5(Cramer)                                                      Moderate\n",
            "SOA6(Matthews)                                                    Weak\n",
            "Scott PI                                                          0.3072\n",
            "Standard Error                                                    0.01245\n",
            "TPR Macro                                                         0.62933\n",
            "TPR Micro                                                         0.855\n",
            "Zero-one Loss                                                     116\n",
            "\n",
            "Class Statistics :\n",
            "\n",
            "Classes                                                           0             1             \n",
            "ACC(Accuracy)                                                     0.855         0.855         \n",
            "AGF(Adjusted F-score)                                             0.66131       0.54806       \n",
            "AGM(Adjusted geometric mean)                                      0.50905       0.72943       \n",
            "AM(Difference between automatic and manual classification)        52            -52           \n",
            "AUC(Area under the ROC curve)                                     0.62933       0.62933       \n",
            "AUCI(AUC value interpretation)                                    Fair          Fair          \n",
            "AUPR(Area under the PR curve)                                     0.91898       0.42101       \n",
            "BCD(Bray-Curtis dissimilarity)                                    0.0325        0.0325        \n",
            "BM(Informedness or bookmaker informedness)                        0.25866       0.25866       \n",
            "CEN(Confusion entropy)                                            0.36637       0.95341       \n",
            "DOR(Diagnostic odds ratio)                                        8.90588       8.90588       \n",
            "DP(Discriminant power)                                            0.52358       0.52358       \n",
            "DPI(Discriminant power interpretation)                            Poor          Poor          \n",
            "ERR(Error rate)                                                   0.145         0.145         \n",
            "F0.5(F0.5 score)                                                  0.89786       0.46599       \n",
            "F1(F1 score - harmonic mean of precision and sensitivity)         0.91773       0.38947       \n",
            "F2(F2 score)                                                      0.9385        0.33454       \n",
            "FDR(False discovery rate)                                         0.11491       0.46377       \n",
            "FN(False negative/miss/type 2 error)                              32            84            \n",
            "FNR(Miss rate or false negative rate)                             0.04713       0.69421       \n",
            "FOR(False omission rate)                                          0.46377       0.11491       \n",
            "FP(False positive/type 1 error/false alarm)                       84            32            \n",
            "FPR(Fall-out or false positive rate)                              0.69421       0.04713       \n",
            "G(G-measure geometric mean of precision and sensitivity)          0.91836       0.40493       \n",
            "GI(Gini index)                                                    0.25866       0.25866       \n",
            "GM(G-mean geometric mean of specificity and sensitivity)          0.53979       0.53979       \n",
            "IBA(Index of balanced accuracy)                                   0.47992       0.10283       \n",
            "ICSI(Individual classification success index)                     0.83796       -0.15798      \n",
            "IS(Information score)                                             0.06048       1.82592       \n",
            "J(Jaccard index)                                                  0.84797       0.24183       \n",
            "LS(Lift score)                                                    1.04281       3.54533       \n",
            "MCC(Matthews correlation coefficient)                             0.33012       0.33012       \n",
            "MCCI(Matthews correlation coefficient interpretation)             Weak          Weak          \n",
            "MCEN(Modified confusion entropy)                                  0.54234       0.94707       \n",
            "MK(Markedness)                                                    0.42132       0.42132       \n",
            "N(Condition negative)                                             121           679           \n",
            "NLR(Negative likelihood ratio)                                    0.15412       0.72855       \n",
            "NLRI(Negative likelihood ratio interpretation)                    Fair          Negligible    \n",
            "NPV(Negative predictive value)                                    0.53623       0.88509       \n",
            "OC(Overlap coefficient)                                           0.95287       0.53623       \n",
            "OOC(Otsuka-Ochiai coefficient)                                    0.91836       0.40493       \n",
            "OP(Optimized precision)                                           0.34089       0.34089       \n",
            "P(Condition positive or support)                                  679           121           \n",
            "PLR(Positive likelihood ratio)                                    1.37259       6.48838       \n",
            "PLRI(Positive likelihood ratio interpretation)                    Poor          Fair          \n",
            "POP(Population)                                                   800           800           \n",
            "PPV(Precision or positive predictive value)                       0.88509       0.53623       \n",
            "PRE(Prevalence)                                                   0.84875       0.15125       \n",
            "Q(Yule Q - coefficient of colligation)                            0.7981        0.7981        \n",
            "RACC(Random accuracy)                                             0.77555       0.01305       \n",
            "RACCU(Random accuracy unbiased)                                   0.7766        0.0141        \n",
            "TN(True negative/correct rejection)                               37            647           \n",
            "TNR(Specificity or true negative rate)                            0.30579       0.95287       \n",
            "TON(Test outcome negative)                                        69            731           \n",
            "TOP(Test outcome positive)                                        731           69            \n",
            "TP(True positive/hit)                                             647           37            \n",
            "TPR(Sensitivity, recall, hit rate, or true positive rate)         0.95287       0.30579       \n",
            "Y(Youden index)                                                   0.25866       0.25866       \n",
            "dInd(Distance index)                                              0.69581       0.69581       \n",
            "sInd(Similarity index)                                            0.50799       0.50799       \n",
            "\n"
          ],
          "name": "stdout"
        }
      ]
    },
    {
      "cell_type": "markdown",
      "metadata": {
        "colab_type": "text",
        "id": "IMkAhjr6BdKl"
      },
      "source": [
        "After seeing a simple example, we discuss more about the network.\n",
        "Normally, when building a neural network, we will do the following steps:\n",
        "\n",
        "### Define a set of function (Network architecture)\n",
        "We can see that the neuron unit can be regarded as a logistic regression-like operation.\n",
        "In general, the unit will do `activation_function(weight * input + bias)` computation.\n",
        "\n",
        "![ff](https://raw.githubusercontent.com/ckbjimmy/2019_bt/master/img/ff.png)\n",
        "\n",
        "[Source] Courtesy by Prof. HY Lee (NTU)\n",
        "\n",
        "In the feedforward model, the layer function we used is `Dense` (fully-connected layer).\n",
        "For the `Dense` layer, you need to assign the input size, output size (`units`), and the activation function.\n",
        "For activation function, you can try the following options: `softplus`, `softsign`, `relu`, `tanh`, `sigmoid`, `hard_sigmoid`, `linear`, depends on your needs.\n",
        "However, `relu` are the most commonly used functions for intermediate layers, and `sigmoid`/`softmax` for the last layer (binary/multiclass).\n",
        "\n",
        "Multiple hidden layers are good, but there is no theorerical consensus how many layers / how many neurons / what hyperparameters you need to use to get the best performance. (That's why some people think that deep learning approach has become [alchemy](https://www.reddit.com/r/compsci/comments/7jiipp/lecun_vs_rahimi_has_machine_learning_become/))\n",
        "\n",
        "![stack](https://1.bp.blogspot.com/-gZ7UBZ-wiBE/WZU12kj6wDI/AAAAAAAAKNQ/U8998PG8U30fgzZUWVtQhzl5fpVlCxnSwCLcBGAs/s1600/layers.jpg))\n",
        "\n",
        "[Source] http://www.cl.cam.ac.uk/~pv273/slides/LOSSlides.pdf"
      ]
    },
    {
      "cell_type": "markdown",
      "metadata": {
        "id": "vwRNmQS0rwFo",
        "colab_type": "text"
      },
      "source": [
        "### Goodness of function (Define loss)\n",
        "The goal of prediction is to minimize the difference between the predicted value and the ground truth label. \n",
        "We need to decide how to compute the difference between them, we call this \"objective\" in deep learning.\n",
        "\n",
        "![loss](https://raw.githubusercontent.com/ckbjimmy/2019_bt/master/img/loss.png)\n",
        "\n",
        "[Source] Courtesy by Prof. HY Lee (NTU)\n",
        "\n",
        "In the first case, we will use `binary_crossentropy` for the binary classification task. \n",
        "For more objectives, please refer to the [keras document](https://keras.io/objectives/)."
      ]
    },
    {
      "cell_type": "markdown",
      "metadata": {
        "id": "XTCvnf-hrmbX",
        "colab_type": "text"
      },
      "source": [
        "### [Optional] Choose the best function (Optimization and parameter setting)\n",
        "We also need to decide which optimizer will be used in the network. \n",
        "The commonly used optimizers include: `SGD, RMSprop, Adagrad, Adadelta, Adam, Adamax, Nadam`.\n",
        "The backpropagation algorithm will use the selected optimizer to minimize the objective (loss) function we defined previously.\n",
        "Finally, we need to decide the parameters `batch_size` and `epochs` for training. \n",
        "Batch size influences the speed and performance so you have to tune it and do some experiments.\n",
        "If you have $1000$ training samples and set `batch_size=50`, then in one epoch (going through all training samples once) you need to update parameters for $\\frac{1000}{50}=20$ times, until all \"mini-batches\" are picked.\n",
        "\n",
        "For prediction, you can simply use `model.evaluate()` to get the performance metrics, and use `model.predict()` to obtain the predicted results."
      ]
    },
    {
      "cell_type": "markdown",
      "metadata": {
        "id": "uaNxFjAkrqzl",
        "colab_type": "text"
      },
      "source": [
        "### [Optional] Exercise of regularization\n",
        "Regularization is a pratical way to prevent from overfitting problem. \n",
        "You may try to add `BatchNormalization` (batch normalization) or `Dropout` (dropout) layers and see whether they will be helpful for modeling.\n",
        "\n"
      ]
    },
    {
      "cell_type": "markdown",
      "metadata": {
        "colab_type": "text",
        "id": "g1r0BWxzyXea"
      },
      "source": [
        "\n",
        "## Exercise\n",
        "\n",
        "Now try to play with the breast cancer dataset and see whether deep neural network works well on the smaller dataset."
      ]
    },
    {
      "cell_type": "code",
      "metadata": {
        "colab_type": "code",
        "id": "MPBtBuZTIJbx",
        "outputId": "efd89de4-001d-4ef6-d724-aaacd44b03b9",
        "colab": {
          "base_uri": "https://localhost:8080/",
          "height": 1000
        }
      },
      "source": [
        "from sklearn import datasets\n",
        "\n",
        "df_bc = datasets.load_breast_cancer()\n",
        "X = df_bc['data']\n",
        "y = df_bc['target']\n",
        "X_train, X_test, y_train, y_test = train_test_split(X, y, test_size = 0.2, random_state = 42)\n",
        "\n",
        "clf = Sequential()\n",
        "clf.add(Dense(units=16, \n",
        "              kernel_initializer='uniform',\n",
        "              activation='relu', \n",
        "              input_dim=X.shape[1]))\n",
        "clf.add(Dense(units=16, \n",
        "              kernel_initializer='uniform', \n",
        "              activation='relu'))\n",
        "clf.add(Dense(units=1, \n",
        "              kernel_initializer='uniform', \n",
        "              activation='sigmoid'))\n",
        "clf.compile(optimizer='adam', \n",
        "            loss='binary_crossentropy', \n",
        "            metrics=['accuracy'])\n",
        "print(clf.summary())\n",
        "\n",
        "history = clf.fit(x=X_train, y=y_train,\n",
        "                    validation_split=0.2,  \n",
        "                    batch_size=100,\n",
        "                    epochs=50, \n",
        "                    verbose=1)\n",
        "\n",
        "show_train_history(history, 'accuracy', 'val_accuracy')\n",
        "show_train_history(history, 'loss', 'val_loss')\n",
        "\n",
        "y_pred = clf.predict(X_test)\n",
        "y_pred = [1 if i[0] > 0.5 else 0 for i in y_pred]\n",
        "\n",
        "cm = ConfusionMatrix(actual_vector=y_test, predict_vector=y_pred)\n",
        "print(cm)"
      ],
      "execution_count": 0,
      "outputs": [
        {
          "output_type": "stream",
          "text": [
            "Model: \"sequential_3\"\n",
            "_________________________________________________________________\n",
            "Layer (type)                 Output Shape              Param #   \n",
            "=================================================================\n",
            "dense_7 (Dense)              (None, 16)                496       \n",
            "_________________________________________________________________\n",
            "dense_8 (Dense)              (None, 16)                272       \n",
            "_________________________________________________________________\n",
            "dense_9 (Dense)              (None, 1)                 17        \n",
            "=================================================================\n",
            "Total params: 785\n",
            "Trainable params: 785\n",
            "Non-trainable params: 0\n",
            "_________________________________________________________________\n",
            "None\n",
            "Train on 364 samples, validate on 91 samples\n",
            "Epoch 1/50\n",
            "364/364 [==============================] - 0s 537us/step - loss: 0.7192 - accuracy: 0.6264 - val_loss: 0.6921 - val_accuracy: 0.5385\n",
            "Epoch 2/50\n",
            "364/364 [==============================] - 0s 67us/step - loss: 0.6812 - accuracy: 0.4176 - val_loss: 0.6777 - val_accuracy: 0.3626\n",
            "Epoch 3/50\n",
            "364/364 [==============================] - 0s 47us/step - loss: 0.6735 - accuracy: 0.3736 - val_loss: 0.6784 - val_accuracy: 0.3626\n",
            "Epoch 4/50\n",
            "364/364 [==============================] - 0s 41us/step - loss: 0.6711 - accuracy: 0.3736 - val_loss: 0.6741 - val_accuracy: 0.3626\n",
            "Epoch 5/50\n",
            "364/364 [==============================] - 0s 40us/step - loss: 0.6649 - accuracy: 0.3736 - val_loss: 0.6653 - val_accuracy: 0.3626\n",
            "Epoch 6/50\n",
            "364/364 [==============================] - 0s 41us/step - loss: 0.6555 - accuracy: 0.3736 - val_loss: 0.6543 - val_accuracy: 0.3626\n",
            "Epoch 7/50\n",
            "364/364 [==============================] - 0s 38us/step - loss: 0.6468 - accuracy: 0.3764 - val_loss: 0.6469 - val_accuracy: 0.3626\n",
            "Epoch 8/50\n",
            "364/364 [==============================] - 0s 40us/step - loss: 0.6386 - accuracy: 0.4121 - val_loss: 0.6384 - val_accuracy: 0.4176\n",
            "Epoch 9/50\n",
            "364/364 [==============================] - 0s 45us/step - loss: 0.6281 - accuracy: 0.4560 - val_loss: 0.6291 - val_accuracy: 0.4615\n",
            "Epoch 10/50\n",
            "364/364 [==============================] - 0s 36us/step - loss: 0.6171 - accuracy: 0.5632 - val_loss: 0.6167 - val_accuracy: 0.6044\n",
            "Epoch 11/50\n",
            "364/364 [==============================] - 0s 38us/step - loss: 0.6009 - accuracy: 0.6896 - val_loss: 0.6015 - val_accuracy: 0.6923\n",
            "Epoch 12/50\n",
            "364/364 [==============================] - 0s 33us/step - loss: 0.5831 - accuracy: 0.7775 - val_loss: 0.5858 - val_accuracy: 0.8242\n",
            "Epoch 13/50\n",
            "364/364 [==============================] - 0s 41us/step - loss: 0.5658 - accuracy: 0.8379 - val_loss: 0.5704 - val_accuracy: 0.8132\n",
            "Epoch 14/50\n",
            "364/364 [==============================] - 0s 44us/step - loss: 0.5479 - accuracy: 0.8571 - val_loss: 0.5526 - val_accuracy: 0.8571\n",
            "Epoch 15/50\n",
            "364/364 [==============================] - 0s 43us/step - loss: 0.5275 - accuracy: 0.8599 - val_loss: 0.5327 - val_accuracy: 0.8901\n",
            "Epoch 16/50\n",
            "364/364 [==============================] - 0s 43us/step - loss: 0.5058 - accuracy: 0.8929 - val_loss: 0.5114 - val_accuracy: 0.8901\n",
            "Epoch 17/50\n",
            "364/364 [==============================] - 0s 41us/step - loss: 0.4780 - accuracy: 0.9038 - val_loss: 0.4861 - val_accuracy: 0.8901\n",
            "Epoch 18/50\n",
            "364/364 [==============================] - 0s 59us/step - loss: 0.4499 - accuracy: 0.9176 - val_loss: 0.4589 - val_accuracy: 0.8681\n",
            "Epoch 19/50\n",
            "364/364 [==============================] - 0s 39us/step - loss: 0.4177 - accuracy: 0.9093 - val_loss: 0.4336 - val_accuracy: 0.8681\n",
            "Epoch 20/50\n",
            "364/364 [==============================] - 0s 40us/step - loss: 0.3884 - accuracy: 0.9038 - val_loss: 0.4075 - val_accuracy: 0.8681\n",
            "Epoch 21/50\n",
            "364/364 [==============================] - 0s 43us/step - loss: 0.3620 - accuracy: 0.9066 - val_loss: 0.3874 - val_accuracy: 0.8681\n",
            "Epoch 22/50\n",
            "364/364 [==============================] - 0s 49us/step - loss: 0.3367 - accuracy: 0.9038 - val_loss: 0.3687 - val_accuracy: 0.8681\n",
            "Epoch 23/50\n",
            "364/364 [==============================] - 0s 53us/step - loss: 0.3152 - accuracy: 0.9176 - val_loss: 0.3509 - val_accuracy: 0.8681\n",
            "Epoch 24/50\n",
            "364/364 [==============================] - 0s 50us/step - loss: 0.2999 - accuracy: 0.9093 - val_loss: 0.3416 - val_accuracy: 0.8681\n",
            "Epoch 25/50\n",
            "364/364 [==============================] - 0s 49us/step - loss: 0.2821 - accuracy: 0.9011 - val_loss: 0.3247 - val_accuracy: 0.9011\n",
            "Epoch 26/50\n",
            "364/364 [==============================] - 0s 43us/step - loss: 0.2699 - accuracy: 0.9121 - val_loss: 0.3397 - val_accuracy: 0.8571\n",
            "Epoch 27/50\n",
            "364/364 [==============================] - 0s 42us/step - loss: 0.2668 - accuracy: 0.9066 - val_loss: 0.3089 - val_accuracy: 0.9011\n",
            "Epoch 28/50\n",
            "364/364 [==============================] - 0s 46us/step - loss: 0.2550 - accuracy: 0.9093 - val_loss: 0.3219 - val_accuracy: 0.8681\n",
            "Epoch 29/50\n",
            "364/364 [==============================] - 0s 42us/step - loss: 0.2511 - accuracy: 0.9093 - val_loss: 0.3007 - val_accuracy: 0.8901\n",
            "Epoch 30/50\n",
            "364/364 [==============================] - 0s 44us/step - loss: 0.2470 - accuracy: 0.9066 - val_loss: 0.3080 - val_accuracy: 0.8791\n",
            "Epoch 31/50\n",
            "364/364 [==============================] - 0s 44us/step - loss: 0.2561 - accuracy: 0.9011 - val_loss: 0.2971 - val_accuracy: 0.8901\n",
            "Epoch 32/50\n",
            "364/364 [==============================] - 0s 61us/step - loss: 0.2433 - accuracy: 0.9093 - val_loss: 0.2894 - val_accuracy: 0.9011\n",
            "Epoch 33/50\n",
            "364/364 [==============================] - 0s 49us/step - loss: 0.2417 - accuracy: 0.9093 - val_loss: 0.3218 - val_accuracy: 0.8571\n",
            "Epoch 34/50\n",
            "364/364 [==============================] - 0s 50us/step - loss: 0.2346 - accuracy: 0.9066 - val_loss: 0.2853 - val_accuracy: 0.9011\n",
            "Epoch 35/50\n",
            "364/364 [==============================] - 0s 42us/step - loss: 0.2354 - accuracy: 0.9011 - val_loss: 0.2994 - val_accuracy: 0.8901\n",
            "Epoch 36/50\n",
            "364/364 [==============================] - 0s 47us/step - loss: 0.2304 - accuracy: 0.9121 - val_loss: 0.2858 - val_accuracy: 0.9121\n",
            "Epoch 37/50\n",
            "364/364 [==============================] - 0s 38us/step - loss: 0.2280 - accuracy: 0.9121 - val_loss: 0.2892 - val_accuracy: 0.9011\n",
            "Epoch 38/50\n",
            "364/364 [==============================] - 0s 38us/step - loss: 0.2305 - accuracy: 0.9093 - val_loss: 0.2831 - val_accuracy: 0.9011\n",
            "Epoch 39/50\n",
            "364/364 [==============================] - 0s 42us/step - loss: 0.2277 - accuracy: 0.9148 - val_loss: 0.2829 - val_accuracy: 0.9121\n",
            "Epoch 40/50\n",
            "364/364 [==============================] - 0s 41us/step - loss: 0.2241 - accuracy: 0.9093 - val_loss: 0.2934 - val_accuracy: 0.9011\n",
            "Epoch 41/50\n",
            "364/364 [==============================] - 0s 44us/step - loss: 0.2241 - accuracy: 0.9148 - val_loss: 0.2768 - val_accuracy: 0.9011\n",
            "Epoch 42/50\n",
            "364/364 [==============================] - 0s 41us/step - loss: 0.2299 - accuracy: 0.9066 - val_loss: 0.2802 - val_accuracy: 0.9121\n",
            "Epoch 43/50\n",
            "364/364 [==============================] - 0s 48us/step - loss: 0.2223 - accuracy: 0.9148 - val_loss: 0.2860 - val_accuracy: 0.9011\n",
            "Epoch 44/50\n",
            "364/364 [==============================] - 0s 38us/step - loss: 0.2199 - accuracy: 0.9093 - val_loss: 0.2752 - val_accuracy: 0.9011\n",
            "Epoch 45/50\n",
            "364/364 [==============================] - 0s 41us/step - loss: 0.2287 - accuracy: 0.9066 - val_loss: 0.2897 - val_accuracy: 0.9011\n",
            "Epoch 46/50\n",
            "364/364 [==============================] - 0s 45us/step - loss: 0.2254 - accuracy: 0.9093 - val_loss: 0.2998 - val_accuracy: 0.8681\n",
            "Epoch 47/50\n",
            "364/364 [==============================] - 0s 44us/step - loss: 0.2206 - accuracy: 0.9066 - val_loss: 0.2697 - val_accuracy: 0.9011\n",
            "Epoch 48/50\n",
            "364/364 [==============================] - 0s 43us/step - loss: 0.2298 - accuracy: 0.9121 - val_loss: 0.2907 - val_accuracy: 0.9011\n",
            "Epoch 49/50\n",
            "364/364 [==============================] - 0s 49us/step - loss: 0.2221 - accuracy: 0.9148 - val_loss: 0.2686 - val_accuracy: 0.9011\n",
            "Epoch 50/50\n",
            "364/364 [==============================] - 0s 58us/step - loss: 0.2158 - accuracy: 0.9093 - val_loss: 0.2953 - val_accuracy: 0.8791\n"
          ],
          "name": "stdout"
        },
        {
          "output_type": "display_data",
          "data": {
            "image/png": "[encoded data removed]",
            "text/plain": [
              "<Figure size 432x288 with 1 Axes>"
            ]
          },
          "metadata": {
            "tags": []
          }
        },
        {
          "output_type": "display_data",
          "data": {
            "image/png": "[encoded data removed]",
            "text/plain": [
              "<Figure size 432x288 with 1 Axes>"
            ]
          },
          "metadata": {
            "tags": []
          }
        },
        {
          "output_type": "stream",
          "text": [
            "Predict  0        1        \n",
            "Actual\n",
            "0        37       6        \n",
            "\n",
            "1        0        71       \n",
            "\n",
            "\n",
            "\n",
            "\n",
            "\n",
            "Overall Statistics : \n",
            "\n",
            "95% CI                                                            (0.90638,0.98836)\n",
            "ACC Macro                                                         0.94737\n",
            "AUNP                                                              0.93023\n",
            "AUNU                                                              0.93023\n",
            "Bennett S                                                         0.89474\n",
            "CBA                                                               0.89127\n",
            "CSI                                                               0.89127\n",
            "Chi-Squared                                                       90.44941\n",
            "Chi-Squared DF                                                    1\n",
            "Conditional Entropy                                               0.21991\n",
            "Cramer V                                                          0.89074\n",
            "Cross Entropy                                                     0.96492\n",
            "F1 Macro                                                          0.94223\n",
            "F1 Micro                                                          0.94737\n",
            "Gwet AC1                                                          0.90334\n",
            "Hamming Loss                                                      0.05263\n",
            "Joint Entropy                                                     1.17595\n",
            "KL Divergence                                                     0.00889\n",
            "Kappa                                                             0.88481\n",
            "Kappa 95% CI                                                      (0.7951,0.97452)\n",
            "Kappa No Prevalence                                               0.89474\n",
            "Kappa Standard Error                                              0.04577\n",
            "Kappa Unbiased                                                    0.88446\n",
            "Lambda A                                                          0.86047\n",
            "Lambda B                                                          0.83784\n",
            "Mutual Information                                                0.68936\n",
            "NIR                                                               0.62281\n",
            "Overall ACC                                                       0.94737\n",
            "Overall CEN                                                       0.22004\n",
            "Overall J                                                         (1.78254,0.89127)\n",
            "Overall MCC                                                       0.89074\n",
            "Overall MCEN                                                      0.17166\n",
            "Overall RACC                                                      0.54309\n",
            "Overall RACCU                                                     0.54448\n",
            "P-Value                                                           0.0\n",
            "PPV Macro                                                         0.96104\n",
            "PPV Micro                                                         0.94737\n",
            "Pearson C                                                         0.66514\n",
            "Phi-Squared                                                       0.79342\n",
            "RCI                                                               0.72106\n",
            "RR                                                                57.0\n",
            "Reference Entropy                                                 0.95604\n",
            "Response Entropy                                                  0.90927\n",
            "SOA1(Landis & Koch)                                               Almost Perfect\n",
            "SOA2(Fleiss)                                                      Excellent\n",
            "SOA3(Altman)                                                      Very Good\n",
            "SOA4(Cicchetti)                                                   Excellent\n",
            "SOA5(Cramer)                                                      Very Strong\n",
            "SOA6(Matthews)                                                    Strong\n",
            "Scott PI                                                          0.88446\n",
            "Standard Error                                                    0.02091\n",
            "TPR Macro                                                         0.93023\n",
            "TPR Micro                                                         0.94737\n",
            "Zero-one Loss                                                     6\n",
            "\n",
            "Class Statistics :\n",
            "\n",
            "Classes                                                           0             1             \n",
            "ACC(Accuracy)                                                     0.94737       0.94737       \n",
            "AGF(Adjusted F-score)                                             0.91056       0.97595       \n",
            "AGM(Adjusted geometric mean)                                      0.95539       0.90922       \n",
            "AM(Difference between automatic and manual classification)        -6            6             \n",
            "AUC(Area under the ROC curve)                                     0.93023       0.93023       \n",
            "AUCI(AUC value interpretation)                                    Excellent     Excellent     \n",
            "AUPR(Area under the PR curve)                                     0.93023       0.96104       \n",
            "BCD(Bray-Curtis dissimilarity)                                    0.02632       0.02632       \n",
            "BM(Informedness or bookmaker informedness)                        0.86047       0.86047       \n",
            "CEN(Confusion entropy)                                            0.28027       0.18748       \n",
            "DOR(Diagnostic odds ratio)                                        None          None          \n",
            "DP(Discriminant power)                                            None          None          \n",
            "DPI(Discriminant power interpretation)                            None          None          \n",
            "ERR(Error rate)                                                   0.05263       0.05263       \n",
            "F0.5(F0.5 score)                                                  0.96859       0.93668       \n",
            "F1(F1 score - harmonic mean of precision and sensitivity)         0.925         0.95946       \n",
            "F2(F2 score)                                                      0.88517       0.98338       \n",
            "FDR(False discovery rate)                                         0.0           0.07792       \n",
            "FN(False negative/miss/type 2 error)                              6             0             \n",
            "FNR(Miss rate or false negative rate)                             0.13953       0.0           \n",
            "FOR(False omission rate)                                          0.07792       0.0           \n",
            "FP(False positive/type 1 error/false alarm)                       0             6             \n",
            "FPR(Fall-out or false positive rate)                              0.0           0.13953       \n",
            "G(G-measure geometric mean of precision and sensitivity)          0.92761       0.96025       \n",
            "GI(Gini index)                                                    0.86047       0.86047       \n",
            "GM(G-mean geometric mean of specificity and sensitivity)          0.92761       0.92761       \n",
            "IBA(Index of balanced accuracy)                                   0.7404        0.98053       \n",
            "ICSI(Individual classification success index)                     0.86047       0.92208       \n",
            "IS(Information score)                                             1.40663       0.5661        \n",
            "J(Jaccard index)                                                  0.86047       0.92208       \n",
            "LS(Lift score)                                                    2.65116       1.48052       \n",
            "MCC(Matthews correlation coefficient)                             0.89074       0.89074       \n",
            "MCCI(Matthews correlation coefficient interpretation)             Strong        Strong        \n",
            "MCEN(Modified confusion entropy)                                  0.39646       0.2869        \n",
            "MK(Markedness)                                                    0.92208       0.92208       \n",
            "N(Condition negative)                                             71            43            \n",
            "NLR(Negative likelihood ratio)                                    0.13953       0.0           \n",
            "NLRI(Negative likelihood ratio interpretation)                    Fair          Good          \n",
            "NPV(Negative predictive value)                                    0.92208       1.0           \n",
            "OC(Overlap coefficient)                                           1.0           1.0           \n",
            "OOC(Otsuka-Ochiai coefficient)                                    0.92761       0.96025       \n",
            "OP(Optimized precision)                                           0.87237       0.87237       \n",
            "P(Condition positive or support)                                  43            71            \n",
            "PLR(Positive likelihood ratio)                                    None          7.16667       \n",
            "PLRI(Positive likelihood ratio interpretation)                    None          Fair          \n",
            "POP(Population)                                                   114           114           \n",
            "PPV(Precision or positive predictive value)                       1.0           0.92208       \n",
            "PRE(Prevalence)                                                   0.37719       0.62281       \n",
            "Q(Yule Q - coefficient of colligation)                            None          None          \n",
            "RACC(Random accuracy)                                             0.12242       0.42067       \n",
            "RACCU(Random accuracy unbiased)                                   0.12311       0.42136       \n",
            "TN(True negative/correct rejection)                               71            37            \n",
            "TNR(Specificity or true negative rate)                            1.0           0.86047       \n",
            "TON(Test outcome negative)                                        77            37            \n",
            "TOP(Test outcome positive)                                        37            77            \n",
            "TP(True positive/hit)                                             37            71            \n",
            "TPR(Sensitivity, recall, hit rate, or true positive rate)         0.86047       1.0           \n",
            "Y(Youden index)                                                   0.86047       0.86047       \n",
            "dInd(Distance index)                                              0.13953       0.13953       \n",
            "sInd(Similarity index)                                            0.90133       0.90133       \n",
            "\n"
          ],
          "name": "stdout"
        }
      ]
    },
    {
      "cell_type": "markdown",
      "metadata": {
        "colab_type": "text",
        "id": "LwAYzccT97E6"
      },
      "source": [
        "## Further reading\n",
        "\n",
        "### Theory and mathematics\n",
        "- [Deep learning book](http://www.deeplearningbook.org/)\n",
        "- [Stanford CS224n: Natural Language Processing with Deep Learning](http://web.stanford.edu/class/cs224n/)\n",
        "- [Stanford CS231n: Convolutional Neural Networks for Visual Recognition](http://cs231n.stanford.edu/)\n",
        "\n",
        "### Practical\n",
        "You may want to read the documents of TensorFlow, PyTorch, Keras, Scikit-learn, ... etc. to know how to use them.\n",
        "\n",
        "- [Tensorflow Programmer's Guide](https://www.tensorflow.org/programmers_guide/)\n",
        "- [PyTorch Tutorials](https://pytorch.org/tutorials/)\n",
        "- [Coursera Deep Learning Specialization](https://www.coursera.org/specializations/deep-learning)\n",
        "- [Google Machine Learning Crash Course\n",
        "](https://developers.google.com/machine-learning/crash-course/ml-intro)\n",
        "- [Coursera Machine Learning with TensorFlow on Google Cloud Platform Specialization](https://www.coursera.org/specializations/machine-learning-tensorflow-gcp)"
      ]
    },
    {
      "cell_type": "code",
      "metadata": {
        "id": "wYndt2nXtr4s",
        "colab_type": "code",
        "colab": {}
      },
      "source": [
        ""
      ],
      "execution_count": 0,
      "outputs": []
    }
  ]
}