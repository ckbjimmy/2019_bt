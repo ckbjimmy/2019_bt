{
  "nbformat": 4,
  "nbformat_minor": 0,
  "metadata": {
    "colab": {
      "name": "bt2_nn.ipynb",
      "provenance": [],
      "collapsed_sections": [],
      "toc_visible": true,
      "include_colab_link": true
    },
    "kernelspec": {
      "display_name": "Python 3",
      "language": "python",
      "name": "python3"
    },
    "language_info": {
      "codemirror_mode": {
        "name": "ipython",
        "version": 3
      },
      "file_extension": ".py",
      "mimetype": "text/x-python",
      "name": "python",
      "nbconvert_exporter": "python",
      "pygments_lexer": "ipython3",
      "version": "3.6.8"
    }
  },
  "cells": [
    {
      "cell_type": "markdown",
      "metadata": {
        "id": "view-in-github",
        "colab_type": "text"
      },
      "source": [
        "<a href=\"https://colab.research.google.com/github/ckbjimmy/2019_bt/blob/master/bt2_nn.ipynb\" target=\"_parent\"><img src=\"https://colab.research.google.com/assets/colab-badge.svg\" alt=\"Open In Colab\"/></a>"
      ]
    },
    {
      "cell_type": "markdown",
      "metadata": {
        "colab_type": "text",
        "id": "izJch3vfcs0a"
      },
      "source": [
        "# Machine Learning for Clinical Data Analysis\n",
        "\n",
        "We would like to introduce basic machine learning techniques and toolkits for clinical knowledge discovery in the workshop.\n",
        "The material will cover common useful algorithms for clinical prediction tasks, as well as the diagnostic workflow of applying machine learning to real-world problems. \n",
        "We will use [Google colab](https://colab.research.google.com/) / python jupyter notebook and two datasets:\n",
        "\n",
        "- Breast Cancer Wisconsin (Diagnostic) Database, and \n",
        "- pre-extracted ICU data from PhysioNet Database\n",
        "  \n",
        "to build predictive models.\n",
        "\n",
        "The learning objectives of this workshop tutorial are:\n",
        "\n",
        "- Learn how to use Google colab / jupyter notebook\n",
        "- Learn how to build machine learning models for clinical classification and/or clustering tasks\n",
        "\n",
        "To accelerate the progress without obstacles, we hope that the readers fulfill the following prerequisites:\n",
        "\n",
        "- [Skillset] basic python syntax\n",
        "- [Requirements] Google account OR [anaconda](https://anaconda.org/anaconda/python)\n",
        "\n",
        "In part 1, we will go through the basic of machine learning for classification problems.\n",
        "In part 2, we will play with neural networks."
      ]
    },
    {
      "cell_type": "markdown",
      "metadata": {
        "colab_type": "text",
        "id": "kEg4H8vN_yBo"
      },
      "source": [
        "# Classification problem\n",
        "\n",
        "## Deep learning / Deep neural network\n",
        "\n",
        "Deep learning is a group of machine learning algorithms that specifically focuses on utilizing neural network architecture.\n",
        "The neural network approach attempt to mimic the function of biological neurons by stacking layers of neuron units that can pass information.\n",
        "The network will pass the inforamtion back and forth to adjust the weights of neuron units using backpropagation algorithm based on the objective function (loss function, criterion) that we provide.\n",
        "\n",
        "The advantages of using deep learning approach includes:\n",
        "- Modularization\n",
        "- Universality theorem (one hidden layer is enough, but much effective while deeper)\n",
        "- End-to-end learning (less feature engineering---if you don't know what features are important at all)\n",
        "\n",
        "![adv](https://raw.githubusercontent.com/ckbjimmy/2019_bt/master/img/adv.png)\n",
        "\n",
        "[Source] Courtesy by Prof. HY Lee (NTU)\n",
        "\n",
        "However, there are still some cons of using deep neural networks such as interpretability and heavy computation.\n",
        "\n",
        "As a promising algorithmic approach for predictive analytics (and also the hype of deep learning), we would like to introduce you how to use deep neural networks for clinical machine learning problems.\n",
        "\n",
        "The mathematical details of neural network approach will not be emphasized in the tutorial.\n",
        "The foundation of deep neural network is using **gradient descent** to update parameters, and all gradients are computed by **backpropagation algorithm**.\n",
        "Please refer to [Deep Learning book by Goodfellow et al.](http:/www.deeplearningbook.org/) for detailed information.  \n",
        "\n",
        "To build the neural network without too much efforts in python, we adopt the high-level python deep learning API, **Keras**, to train neural networks.\n",
        "\n",
        "After going through this tutorial, we hope that you will understand how to use keras to design and build simple neural network for classification problems, and how to evaluate the keras neural network models.\n",
        "\n",
        "In this tutorial, we directly use the most complicated data, PhysioNet dataset, as an example to demonstrate the performance of deep learning models.\n",
        "Please refer to tutorial Part I for all details of data preprocessing."
      ]
    },
    {
      "cell_type": "code",
      "metadata": {
        "colab_type": "code",
        "id": "xh-d9eYuCr1x",
        "colab": {}
      },
      "source": [
        "import numpy as np\n",
        "import pandas as pd\n",
        "from sklearn.preprocessing import Imputer\n",
        "from sklearn.preprocessing import StandardScaler\n",
        "from sklearn.preprocessing import LabelEncoder\n",
        "from sklearn.model_selection import train_test_split\n",
        "\n",
        "df = pd.read_csv('https://raw.githubusercontent.com/ckbjimmy/2019_bt/master/data/PhysionetChallenge2012_data.csv')\n",
        "X = df.iloc[:, 1:].values\n",
        "y = df.iloc[:, 0].values"
      ],
      "execution_count": 0,
      "outputs": []
    },
    {
      "cell_type": "markdown",
      "metadata": {
        "colab_type": "text",
        "id": "FevajKnfDnJ6"
      },
      "source": [
        "Before training neural network, we need to do some transformations for our data."
      ]
    },
    {
      "cell_type": "code",
      "metadata": {
        "colab_type": "code",
        "id": "Ge6DRpYGEYAH",
        "colab": {}
      },
      "source": [
        "X = Imputer(missing_values='NaN', strategy='mean', axis=0).fit(X).transform(X)\n",
        "X = StandardScaler().fit(X).transform(X)\n",
        "\n",
        "# Encoding Categorical Data\n",
        "labelencoder = LabelEncoder()\n",
        "y = labelencoder.fit_transform(y)\n",
        "\n",
        "X_train, X_test, y_train, y_test = train_test_split(X, y, test_size = 0.2, random_state = 42)"
      ],
      "execution_count": 0,
      "outputs": []
    },
    {
      "cell_type": "markdown",
      "metadata": {
        "colab_type": "text",
        "id": "PKcLH75tuGRw"
      },
      "source": [
        "Next, we import keras modules and construct a very simple three-layer neural network architecture with input, hidden and output layers."
      ]
    },
    {
      "cell_type": "code",
      "metadata": {
        "colab_type": "code",
        "id": "GUgfs1oJEmII",
        "outputId": "f69b2a77-e86c-4e7b-8570-a9b6cf8b9065",
        "colab": {
          "base_uri": "https://localhost:8080/",
          "height": 280
        }
      },
      "source": [
        "!pip install keras --upgrade\n",
        "import keras\n",
        "from keras.models import Sequential\n",
        "from keras.layers import Dense\n",
        "\n",
        "try:\n",
        "    import pydot\n",
        "except:\n",
        "    !pip install pydot\n",
        "    \n",
        "try:\n",
        "    import graphviz\n",
        "except:\n",
        "    !apt-get install graphviz -y\n",
        "    \n",
        "from keras.utils.vis_utils import plot_model\n",
        "from IPython.display import Image\n",
        "\n",
        "keras.__version__"
      ],
      "execution_count": 0,
      "outputs": [
        {
          "output_type": "stream",
          "text": [
            "Requirement already up-to-date: keras in /usr/local/lib/python3.6/dist-packages (2.2.0)\r\n",
            "Requirement not upgraded as not directly required: h5py in /usr/local/lib/python3.6/dist-packages (from keras) (2.8.0)\r\n",
            "Requirement not upgraded as not directly required: scipy>=0.14 in /usr/local/lib/python3.6/dist-packages (from keras) (0.19.1)\r\n",
            "Requirement not upgraded as not directly required: keras-preprocessing==1.0.1 in /usr/local/lib/python3.6/dist-packages (from keras) (1.0.1)\n",
            "Requirement not upgraded as not directly required: six>=1.9.0 in /usr/local/lib/python3.6/dist-packages (from keras) (1.11.0)\n",
            "Requirement not upgraded as not directly required: keras-applications==1.0.2 in /usr/local/lib/python3.6/dist-packages (from keras) (1.0.2)\n",
            "Requirement not upgraded as not directly required: pyyaml in /usr/local/lib/python3.6/dist-packages (from keras) (3.12)\n",
            "Requirement not upgraded as not directly required: numpy>=1.9.1 in /usr/local/lib/python3.6/dist-packages (from keras) (1.14.5)\n"
          ],
          "name": "stdout"
        },
        {
          "output_type": "stream",
          "text": [
            "Using TensorFlow backend.\n"
          ],
          "name": "stderr"
        },
        {
          "output_type": "stream",
          "text": [
            "Reading package lists... Done\n",
            "Building dependency tree       \n",
            "Reading state information... Done\n",
            "graphviz is already the newest version (2.38.0-16ubuntu2).\n",
            "0 upgraded, 0 newly installed, 0 to remove and 6 not upgraded.\n"
          ],
          "name": "stdout"
        },
        {
          "output_type": "execute_result",
          "data": {
            "text/plain": [
              "'2.2.0'"
            ]
          },
          "metadata": {
            "tags": []
          },
          "execution_count": 3
        }
      ]
    },
    {
      "cell_type": "markdown",
      "metadata": {
        "colab_type": "text",
        "id": "Gnd_ilVDvL_p"
      },
      "source": [
        "There are many variants of deep neural networks.\n",
        "\n",
        "![nn](https://raw.githubusercontent.com/ckbjimmy/2019_bt/master/img/nn.png)\n",
        "\n",
        "[Source] Deep Learning, Chapter 1 (Goodfellow, 2016)\n",
        "\n",
        "We will start from the simplest one, feedforward neural network, which is similar to the neural network architecture shown in the following figure.\n",
        "\n",
        "![nn](https://cdn-images-1.medium.com/max/1600/1*QVIyc5HnGDWTNX3m-nIm9w.png)\n",
        "\n",
        "[Source] https://medium.com/@curiousily/tensorflow-for-hackers-part-iv-neural-network-from-scratch-1a4f504dfa8\n",
        "\n",
        "In our first neural network model, we will construct the one that\n",
        "\n",
        "- take the input and pass them into the 64-dimension first hidden layer, \n",
        "- take the output of the first layer and pass them into the  8-dimension second layer,\n",
        "- take the output of the second layer and pass them into the last layer for prediction,\n",
        "- the output of the last layer is the prediction.\n",
        "\n",
        "One more hidden layer than the above figure.\n",
        "\n",
        "In keras, we use `Sequential()` as the skeleton of the neural network model, and sequentially add the layer on it.\n",
        "After building the layers, we need to compile the model and defined the optimizer, loss function and evaluation metrics to optimize our model.\n",
        "In this example, we use the optimizer called `adam`, to minimize the value of loss function `binary_crossentropy` (if you work on the regression problem, remember to change to `mse`), and judge by accuracy."
      ]
    },
    {
      "cell_type": "code",
      "metadata": {
        "colab_type": "code",
        "id": "kK615g3AErss",
        "outputId": "4ac6ba57-43f6-4b5d-a608-67f958312af3",
        "colab": {
          "base_uri": "https://localhost:8080/",
          "height": 655
        }
      },
      "source": [
        "# initialize neural network\n",
        "clf = Sequential()\n",
        "\n",
        "# first hidden layer for input data\n",
        "clf.add(Dense(units=64, \n",
        "              kernel_initializer='uniform',\n",
        "              activation='relu', \n",
        "              input_dim=X.shape[1]))\n",
        "\n",
        "# second hidden layer\n",
        "clf.add(Dense(units=8, \n",
        "              kernel_initializer='uniform', \n",
        "              activation='relu'))\n",
        "\n",
        "# the last hidden layer for output\n",
        "clf.add(Dense(units=1, \n",
        "              kernel_initializer='uniform', \n",
        "              activation='sigmoid'))\n",
        "\n",
        "# compile the network\n",
        "clf.compile(optimizer='adam', \n",
        "            loss='binary_crossentropy', \n",
        "            metrics=['accuracy'])\n",
        "\n",
        "\n",
        "print(clf.summary())\n",
        "\n",
        "plot_model(clf, to_file='clf.png', show_shapes=True, show_layer_names=True)\n",
        "Image('clf.png')"
      ],
      "execution_count": 0,
      "outputs": [
        {
          "output_type": "stream",
          "text": [
            "_________________________________________________________________\n",
            "Layer (type)                 Output Shape              Param #   \n",
            "=================================================================\n",
            "dense_1 (Dense)              (None, 64)                11712     \n",
            "_________________________________________________________________\n",
            "dense_2 (Dense)              (None, 8)                 520       \n",
            "_________________________________________________________________\n",
            "dense_3 (Dense)              (None, 1)                 9         \n",
            "=================================================================\n",
            "Total params: 12,241\n",
            "Trainable params: 12,241\n",
            "Non-trainable params: 0\n",
            "_________________________________________________________________\n",
            "None\n"
          ],
          "name": "stdout"
        },
        {
          "output_type": "execute_result",
          "data": {
            "image/png": "[encoded data removed]",
            "text/plain": [
              "<IPython.core.display.Image object>"
            ]
          },
          "metadata": {
            "tags": []
          },
          "execution_count": 4
        }
      ]
    },
    {
      "cell_type": "markdown",
      "metadata": {
        "colab_type": "text",
        "id": "N3dHEHTDWvy8"
      },
      "source": [
        "Then, it's time to train the model!\n",
        "Smaller batch size usually yields better performance, yet with slow speed.\n",
        "The epoch size of $n$ means that the algorithm will go through whole dataset $n$ times.\n",
        "\n",
        "After training, we visualize the training history and see how the accuracy and loss went during the process.\n",
        "We also use confusion matrix and **pycm** for computing the performance.\n"
      ]
    },
    {
      "cell_type": "code",
      "metadata": {
        "colab_type": "code",
        "id": "qlPbkMOpVWPN",
        "outputId": "f76f855a-6e7e-42b5-ec60-06bd29356304",
        "colab": {
          "base_uri": "https://localhost:8080/",
          "height": 735
        }
      },
      "source": [
        "# fit model\n",
        "history = clf.fit(x=X_train, y=y_train,\n",
        "                    validation_split=0.2,  \n",
        "                    batch_size=100,\n",
        "                    epochs=20, \n",
        "                    verbose=1)"
      ],
      "execution_count": 0,
      "outputs": [
        {
          "output_type": "stream",
          "text": [
            "Train on 2560 samples, validate on 640 samples\n",
            "Epoch 1/20\n",
            "2560/2560 [==============================] - 0s 96us/step - loss: 0.6743 - acc: 0.8340 - val_loss: 0.6330 - val_acc: 0.8734\n",
            "Epoch 2/20\n",
            "2560/2560 [==============================] - 0s 19us/step - loss: 0.5472 - acc: 0.8625 - val_loss: 0.4188 - val_acc: 0.8734\n",
            "Epoch 3/20\n",
            "2560/2560 [==============================] - 0s 20us/step - loss: 0.3675 - acc: 0.8625 - val_loss: 0.3155 - val_acc: 0.8734\n",
            "Epoch 4/20\n",
            "2560/2560 [==============================] - 0s 28us/step - loss: 0.3206 - acc: 0.8625 - val_loss: 0.3010 - val_acc: 0.8734\n",
            "Epoch 5/20\n",
            "2560/2560 [==============================] - 0s 19us/step - loss: 0.3040 - acc: 0.8625 - val_loss: 0.2937 - val_acc: 0.8734\n",
            "Epoch 6/20\n",
            "2560/2560 [==============================] - 0s 19us/step - loss: 0.2929 - acc: 0.8625 - val_loss: 0.2900 - val_acc: 0.8734\n",
            "Epoch 7/20\n",
            "2560/2560 [==============================] - 0s 21us/step - loss: 0.2842 - acc: 0.8625 - val_loss: 0.2879 - val_acc: 0.8734\n",
            "Epoch 8/20\n",
            "2560/2560 [==============================] - 0s 18us/step - loss: 0.2764 - acc: 0.8625 - val_loss: 0.2877 - val_acc: 0.8734\n",
            "Epoch 9/20\n",
            "2560/2560 [==============================] - 0s 21us/step - loss: 0.2706 - acc: 0.8625 - val_loss: 0.2859 - val_acc: 0.8734\n",
            "Epoch 10/20\n",
            "2560/2560 [==============================] - 0s 19us/step - loss: 0.2633 - acc: 0.8625 - val_loss: 0.2870 - val_acc: 0.8734\n",
            "Epoch 11/20\n",
            "2560/2560 [==============================] - 0s 19us/step - loss: 0.2575 - acc: 0.8625 - val_loss: 0.2886 - val_acc: 0.8734\n",
            "Epoch 12/20\n",
            "2560/2560 [==============================] - 0s 23us/step - loss: 0.2519 - acc: 0.8703 - val_loss: 0.2887 - val_acc: 0.8813\n",
            "Epoch 13/20\n",
            "2560/2560 [==============================] - 0s 19us/step - loss: 0.2460 - acc: 0.8809 - val_loss: 0.2906 - val_acc: 0.8859\n",
            "Epoch 14/20\n",
            "2560/2560 [==============================] - 0s 22us/step - loss: 0.2396 - acc: 0.8906 - val_loss: 0.2926 - val_acc: 0.8844\n",
            "Epoch 15/20\n",
            "2560/2560 [==============================] - 0s 21us/step - loss: 0.2333 - acc: 0.8922 - val_loss: 0.2941 - val_acc: 0.8797\n",
            "Epoch 16/20\n",
            "2560/2560 [==============================] - 0s 22us/step - loss: 0.2271 - acc: 0.9031 - val_loss: 0.2945 - val_acc: 0.8797\n",
            "Epoch 17/20\n",
            "2560/2560 [==============================] - 0s 19us/step - loss: 0.2205 - acc: 0.9055 - val_loss: 0.2972 - val_acc: 0.8781\n",
            "Epoch 18/20\n",
            "2560/2560 [==============================] - 0s 20us/step - loss: 0.2148 - acc: 0.9141 - val_loss: 0.3008 - val_acc: 0.8781\n",
            "Epoch 19/20\n",
            "2560/2560 [==============================] - 0s 33us/step - loss: 0.2074 - acc: 0.9246 - val_loss: 0.3010 - val_acc: 0.8781\n",
            "Epoch 20/20\n",
            "2560/2560 [==============================] - 0s 32us/step - loss: 0.1985 - acc: 0.9289 - val_loss: 0.3095 - val_acc: 0.8766\n"
          ],
          "name": "stdout"
        }
      ]
    },
    {
      "cell_type": "code",
      "metadata": {
        "colab_type": "code",
        "id": "M_DCM8ZzEupD",
        "outputId": "da812050-447a-47a5-cc03-6fd643862705",
        "colab": {
          "base_uri": "https://localhost:8080/",
          "height": 735
        }
      },
      "source": [
        "import matplotlib.pyplot as plt  \n",
        "def show_train_history(train_history, train, validation):  \n",
        "    plt.plot(train_history.history[train])   \n",
        "    plt.plot(train_history.history[validation])  \n",
        "    plt.title('Train History')  \n",
        "    plt.ylabel(train)  \n",
        "    plt.xlabel('Epoch')  \n",
        "    plt.legend(['train', 'validation'], loc='upper left')  \n",
        "    plt.show() \n",
        "    \n",
        "show_train_history(history, 'acc', 'val_acc')\n",
        "show_train_history(history, 'loss', 'val_loss')"
      ],
      "execution_count": 0,
      "outputs": [
        {
          "output_type": "display_data",
          "data": {
            "image/png": "[encoded data removed]",
            "text/plain": [
              "<matplotlib.figure.Figure at 0x7fbded3a9160>"
            ]
          },
          "metadata": {
            "tags": []
          }
        },
        {
          "output_type": "display_data",
          "data": {
            "image/png": "[encoded data removed]",
            "text/plain": [
              "<matplotlib.figure.Figure at 0x7fbdeb031240>"
            ]
          },
          "metadata": {
            "tags": []
          }
        }
      ]
    },
    {
      "cell_type": "code",
      "metadata": {
        "colab_type": "code",
        "id": "CDwBbG8UEwek",
        "outputId": "caab7292-ad9f-4c11-f9f4-0567d43938e6",
        "colab": {
          "base_uri": "https://localhost:8080/",
          "height": 52
        }
      },
      "source": [
        "# we use the trained model to predict the label of test set\n",
        "y_pred = clf.predict(X_test)\n",
        "y_pred = [1 if i[0] > 0.5 else 0 for i in y_pred]\n",
        "\n",
        "# show the performance using confusion matrix\n",
        "from sklearn.metrics import confusion_matrix\n",
        "cm = confusion_matrix(y_test, y_pred) \n",
        "print(cm)"
      ],
      "execution_count": 0,
      "outputs": [
        {
          "output_type": "stream",
          "text": [
            "[[658  21]\n",
            " [ 89  32]]\n"
          ],
          "name": "stdout"
        }
      ]
    },
    {
      "cell_type": "code",
      "metadata": {
        "colab_type": "code",
        "id": "kasfl-8OGTUj",
        "outputId": "24066438-002f-4dc7-f4f0-7046b3367d6d",
        "colab": {
          "base_uri": "https://localhost:8080/",
          "height": 2082
        }
      },
      "source": [
        "# we use pycm to show the performance\n",
        "!pip install pycm\n",
        "from pycm import *\n",
        "\n",
        "cm = ConfusionMatrix(actual_vector=y_test, predict_vector=y_pred)\n",
        "print(cm)"
      ],
      "execution_count": 0,
      "outputs": [
        {
          "output_type": "stream",
          "text": [
            "Collecting pycm\n",
            "  Downloading https://files.pythonhosted.org/packages/65/2e/d44ea887e13f048d2225e58d819c14e0a57fb8821e0efca21a57181f67dc/pycm-0.9-py2.py3-none-any.whl\n",
            "Collecting codecov==2.0.15 (from pycm)\n",
            "  Downloading https://files.pythonhosted.org/packages/8b/28/4c1950a61c3c5786f0f34d643d0d28ec832433c9a7c0bd157690d4eb1d5f/codecov-2.0.15-py2.py3-none-any.whl\n",
            "Collecting pytest-cov==2.5.1 (from pycm)\n",
            "  Downloading https://files.pythonhosted.org/packages/30/7d/7f6a78ae44a1248ee28cc777586c18b28a1df903470e5d34a6e25712b8aa/pytest_cov-2.5.1-py2.py3-none-any.whl\n",
            "Requirement already satisfied: numpy==1.14.5 in /usr/local/lib/python3.6/dist-packages (from pycm) (1.14.5)\n",
            "Collecting pytest==3.6.2 (from pycm)\n",
            "\u001b[?25l  Downloading https://files.pythonhosted.org/packages/11/c4/cfb5f51f401cd54bbaaacff530c96827422a29dca2683ff314e4938444c9/pytest-3.6.2-py2.py3-none-any.whl (195kB)\n",
            "\u001b[K    100% |████████████████████████████████| 204kB 8.4MB/s \n",
            "\u001b[?25hCollecting art==1.5 (from pycm)\n",
            "\u001b[?25l  Downloading https://files.pythonhosted.org/packages/1d/18/666545604f79bf6b919cd066076e6cf47d993a2a9bdf3ff0caf48a507b95/art-1.5-py2.py3-none-any.whl (174kB)\n",
            "\u001b[K    100% |████████████████████████████████| 184kB 10.1MB/s \n",
            "\u001b[?25hRequirement already satisfied: requests>=2.7.9 in /usr/local/lib/python3.6/dist-packages (from codecov==2.0.15->pycm) (2.18.4)\n",
            "Collecting coverage (from codecov==2.0.15->pycm)\n",
            "\u001b[?25l  Downloading https://files.pythonhosted.org/packages/3d/a0/b12090c40e0b8196b973962ec71c1c541a6c04af58ba5ad85683b3de251a/coverage-4.5.1-cp36-cp36m-manylinux1_x86_64.whl (202kB)\n",
            "\u001b[K    100% |████████████████████████████████| 204kB 11.5MB/s \n",
            "\u001b[?25hRequirement already satisfied: setuptools in /usr/local/lib/python3.6/dist-packages (from pytest==3.6.2->pycm) (39.1.0)\n",
            "Collecting atomicwrites>=1.0 (from pytest==3.6.2->pycm)\n",
            "  Downloading https://files.pythonhosted.org/packages/0a/e8/cd6375e7a59664eeea9e1c77a766eeac0fc3083bb958c2b41ec46b95f29c/atomicwrites-1.1.5-py2.py3-none-any.whl\n",
            "Requirement already satisfied: py>=1.5.0 in /usr/local/lib/python3.6/dist-packages (from pytest==3.6.2->pycm) (1.5.4)\n",
            "Requirement already satisfied: pluggy<0.7,>=0.5 in /usr/local/lib/python3.6/dist-packages (from pytest==3.6.2->pycm) (0.6.0)\n",
            "Collecting attrs>=17.4.0 (from pytest==3.6.2->pycm)\n",
            "  Downloading https://files.pythonhosted.org/packages/41/59/cedf87e91ed541be7957c501a92102f9cc6363c623a7666d69d51c78ac5b/attrs-18.1.0-py2.py3-none-any.whl\n",
            "Collecting more-itertools>=4.0.0 (from pytest==3.6.2->pycm)\n",
            "\u001b[?25l  Downloading https://files.pythonhosted.org/packages/85/40/90c3b0393e12b9827381004224de8814686e3d7182f9d4182477f600826d/more_itertools-4.2.0-py3-none-any.whl (45kB)\n",
            "\u001b[K    100% |████████████████████████████████| 51kB 19.4MB/s \n",
            "\u001b[?25hRequirement already satisfied: six>=1.10.0 in /usr/local/lib/python3.6/dist-packages (from pytest==3.6.2->pycm) (1.11.0)\n",
            "Requirement already satisfied: certifi>=2017.4.17 in /usr/local/lib/python3.6/dist-packages (from requests>=2.7.9->codecov==2.0.15->pycm) (2018.4.16)\n",
            "Requirement already satisfied: urllib3<1.23,>=1.21.1 in /usr/local/lib/python3.6/dist-packages (from requests>=2.7.9->codecov==2.0.15->pycm) (1.22)\n",
            "Requirement already satisfied: chardet<3.1.0,>=3.0.2 in /usr/local/lib/python3.6/dist-packages (from requests>=2.7.9->codecov==2.0.15->pycm) (3.0.4)\n",
            "Requirement already satisfied: idna<2.7,>=2.5 in /usr/local/lib/python3.6/dist-packages (from requests>=2.7.9->codecov==2.0.15->pycm) (2.6)\n",
            "\u001b[31mart 1.5 has requirement setuptools==39.2.0, but you'll have setuptools 39.1.0 which is incompatible.\u001b[0m\n",
            "Installing collected packages: coverage, codecov, atomicwrites, attrs, more-itertools, pytest, pytest-cov, art, pycm\n",
            "Successfully installed art-1.5 atomicwrites-1.1.5 attrs-18.1.0 codecov-2.0.15 coverage-4.5.1 more-itertools-4.2.0 pycm-0.9 pytest-3.6.2 pytest-cov-2.5.1\n",
            "Predict          0        1        \n",
            "Actual\n",
            "0                658      21       \n",
            "1                89       32       \n",
            "\n",
            "\n",
            "\n",
            "\n",
            "Overall Statistics : \n",
            "\n",
            "95% CI                                                           (0.83864,0.88636)\n",
            "Bennett_S                                                        0.725\n",
            "Chi-Squared                                                      None\n",
            "Chi-Squared DF                                                   1\n",
            "Conditional Entropy                                              None\n",
            "Cramer_V                                                         None\n",
            "Cross Entropy                                                    0.67622\n",
            "Gwet_AC1                                                         0.82944\n",
            "Joint Entropy                                                    None\n",
            "KL Divergence                                                    0.06326\n",
            "Kappa                                                            0.30365\n",
            "Kappa 95% CI                                                     (0.1828,0.42451)\n",
            "Kappa No Prevalence                                              0.725\n",
            "Kappa Standard Error                                             0.06166\n",
            "Kappa Unbiased                                                   0.29068\n",
            "Lambda A                                                         None\n",
            "Lambda B                                                         None\n",
            "Mutual Information                                               None\n",
            "Overall_ACC                                                      0.8625\n",
            "Overall_J                                                        (1.08212,0.54106)\n",
            "Overall_RACC                                                     0.80254\n",
            "Overall_RACCU                                                    0.80615\n",
            "PPV_Macro                                                        0.74232\n",
            "PPV_Micro                                                        0.8625\n",
            "Phi-Squared                                                      None\n",
            "Reference Entropy                                                0.61296\n",
            "Response Entropy                                                 0.35177\n",
            "Scott_PI                                                         0.29068\n",
            "Standard Error                                                   0.01218\n",
            "Strength_Of_Agreement(Altman)                                    Fair\n",
            "Strength_Of_Agreement(Cicchetti)                                 Poor\n",
            "Strength_Of_Agreement(Fleiss)                                    Poor\n",
            "Strength_Of_Agreement(Landis and Koch)                           Fair\n",
            "TPR_Macro                                                        0.61677\n",
            "TPR_Micro                                                        0.8625\n",
            "\n",
            "Class Statistics :\n",
            "\n",
            "Classes                                                          0                       1                       \n",
            "ACC(Accuracy)                                                    0.8625                  0.8625                  \n",
            "BM(Informedness or bookmaker informedness)                       0.23353                 0.23353                 \n",
            "DOR(Diagnostic odds ratio)                                       11.26592                11.26592                \n",
            "ERR(Error rate)                                                  0.1375                  0.1375                  \n",
            "F0.5(F0.5 score)                                                 0.89719                 0.48048                 \n",
            "F1(F1 score - harmonic mean of precision and sensitivity)        0.92286                 0.36782                 \n",
            "F2(F2 score)                                                     0.95004                 0.29795                 \n",
            "FDR(False discovery rate)                                        0.11914                 0.39623                 \n",
            "FN(False negative/miss/type 2 error)                             21                      89                      \n",
            "FNR(Miss rate or false negative rate)                            0.03093                 0.73554                 \n",
            "FOR(False omission rate)                                         0.39623                 0.11914                 \n",
            "FP(False positive/type 1 error/false alarm)                      89                      21                      \n",
            "FPR(Fall-out or false positive rate)                             0.73554                 0.03093                 \n",
            "G(G-measure geometric mean of precision and sensitivity)         0.92391                 0.39959                 \n",
            "J(Jaccard index)                                                 0.85677                 0.22535                 \n",
            "LR+(Positive likelihood ratio)                                   1.3175                  8.55096                 \n",
            "LR-(Negative likelihood ratio)                                   0.11695                 0.75901                 \n",
            "MCC(Matthews correlation coefficient)                            0.33642                 0.33642                 \n",
            "MK(Markedness)                                                   0.48463                 0.48463                 \n",
            "N(Condition negative)                                            121                     679                     \n",
            "NPV(Negative predictive value)                                   0.60377                 0.88086                 \n",
            "P(Condition positive)                                            679                     121                     \n",
            "POP(Population)                                                  800                     800                     \n",
            "PPV(Precision or positive predictive value)                      0.88086                 0.60377                 \n",
            "PRE(Prevalence)                                                  0.84875                 0.15125                 \n",
            "RACC(Random accuracy)                                            0.79252                 0.01002                 \n",
            "RACCU(Random accuracy unbiased)                                  0.79433                 0.01183                 \n",
            "TN(True negative/correct rejection)                              32                      658                     \n",
            "TNR(Specificity or true negative rate)                           0.26446                 0.96907                 \n",
            "TON(Test outcome negative)                                       53                      747                     \n",
            "TOP(Test outcome positive)                                       747                     53                      \n",
            "TP(True positive/hit)                                            658                     32                      \n",
            "TPR(Sensitivity, recall, hit rate, or true positive rate)        0.96907                 0.26446                 \n",
            "\n"
          ],
          "name": "stdout"
        }
      ]
    },
    {
      "cell_type": "markdown",
      "metadata": {
        "colab_type": "text",
        "id": "IMkAhjr6BdKl"
      },
      "source": [
        "After seeing a simple example, we discuss more about the network.\n",
        "Normally, when building a neural network, we will do the following steps:\n",
        "\n",
        "### Define a set of function (Network architecture)\n",
        "We can see that the neuron unit can be regarded as a logistic regression-like operation.\n",
        "In general, the unit will do `activation_function(weight * input + bias)` computation.\n",
        "\n",
        "![ff](https://raw.githubusercontent.com/ckbjimmy/2019_bt/master/img/ff.png)\n",
        "\n",
        "[Source] Courtesy by Prof. HY Lee (NTU)\n",
        "\n",
        "In the feedforward model, the layer function we used is `Dense` (fully-connected layer).\n",
        "For the `Dense` layer, you need to assign the input size, output size (`units`), and the activation function.\n",
        "For activation function, you can try the following options: `softplus`, `softsign`, `relu`, `tanh`, `sigmoid`, `hard_sigmoid`, `linear`, depends on your needs.\n",
        "However, `relu` are the most commonly used functions for intermediate layers, and `sigmoid`/`softmax` for the last layer (binary/multiclass).\n",
        "\n",
        "Multiple hidden layers are good, but there is no theorerical consensus how many layers / how many neurons / what hyperparameters you need to use to get the best performance. (That's why some people think that deep learning approach has become [alchemy](https://www.reddit.com/r/compsci/comments/7jiipp/lecun_vs_rahimi_has_machine_learning_become/))\n",
        "\n",
        "![stack](https://1.bp.blogspot.com/-gZ7UBZ-wiBE/WZU12kj6wDI/AAAAAAAAKNQ/U8998PG8U30fgzZUWVtQhzl5fpVlCxnSwCLcBGAs/s1600/layers.jpg))\n",
        "\n",
        "[Source] http://www.cl.cam.ac.uk/~pv273/slides/LOSSlides.pdf"
      ]
    },
    {
      "cell_type": "markdown",
      "metadata": {
        "id": "vwRNmQS0rwFo",
        "colab_type": "text"
      },
      "source": [
        "### Goodness of function (Define loss)\n",
        "The goal of prediction is to minimize the difference between the predicted value and the ground truth label. \n",
        "We need to decide how to compute the difference between them, we call this \"objective\" in deep learning.\n",
        "\n",
        "![loss](https://raw.githubusercontent.com/ckbjimmy/2019_bt/master/img/loss.png)\n",
        "\n",
        "[Source] Courtesy by Prof. HY Lee (NTU)\n",
        "\n",
        "In the first case, we will use `binary_crossentropy` for the binary classification task. \n",
        "For more objectives, please refer to the [keras document](https://keras.io/objectives/)."
      ]
    },
    {
      "cell_type": "markdown",
      "metadata": {
        "id": "XTCvnf-hrmbX",
        "colab_type": "text"
      },
      "source": [
        "### [Optional] Choose the best function (Optimization and parameter setting)\n",
        "We also need to decide which optimizer will be used in the network. \n",
        "The commonly used optimizers include: `SGD, RMSprop, Adagrad, Adadelta, Adam, Adamax, Nadam`.\n",
        "The backpropagation algorithm will use the selected optimizer to minimize the objective (loss) function we defined previously.\n",
        "Finally, we need to decide the parameters `batch_size` and `epochs` for training. \n",
        "Batch size influences the speed and performance so you have to tune it and do some experiments.\n",
        "If you have $1000$ training samples and set `batch_size=50`, then in one epoch (going through all training samples once) you need to update parameters for $\\frac{1000}{50}=20$ times, until all \"mini-batches\" are picked.\n",
        "\n",
        "For prediction, you can simply use `model.evaluate()` to get the performance metrics, and use `model.predict()` to obtain the predicted results."
      ]
    },
    {
      "cell_type": "markdown",
      "metadata": {
        "id": "uaNxFjAkrqzl",
        "colab_type": "text"
      },
      "source": [
        "### [Optional] Exercise of regularization\n",
        "Regularization is a pratical way to prevent from overfitting problem. \n",
        "You may try to add `BatchNormalization` (batch normalization) or `Dropout` (dropout) layers and see whether they will be helpful for modeling.\n",
        "\n"
      ]
    },
    {
      "cell_type": "markdown",
      "metadata": {
        "colab_type": "text",
        "id": "g1r0BWxzyXea"
      },
      "source": [
        "\n",
        "## Exercise\n",
        "\n",
        "Now try to play with the breast cancer dataset and see whether deep neural network works well on the smaller dataset."
      ]
    },
    {
      "cell_type": "code",
      "metadata": {
        "colab_type": "code",
        "id": "MPBtBuZTIJbx",
        "outputId": "d882b50d-c067-4efe-96bf-2c5195feb980",
        "colab": {
          "base_uri": "https://localhost:8080/",
          "height": 4220
        }
      },
      "source": [
        "from sklearn import datasets\n",
        "\n",
        "df_bc = datasets.load_breast_cancer()\n",
        "X = df_bc['data']\n",
        "y = df_bc['target']\n",
        "X_train, X_test, y_train, y_test = train_test_split(X, y, test_size = 0.2, random_state = 42)\n",
        "\n",
        "clf = Sequential()\n",
        "clf.add(Dense(units=16, \n",
        "              kernel_initializer='uniform',\n",
        "              activation='relu', \n",
        "              input_dim=X.shape[1]))\n",
        "clf.add(Dense(units=16, \n",
        "              kernel_initializer='uniform', \n",
        "              activation='relu'))\n",
        "clf.add(Dense(units=1, \n",
        "              kernel_initializer='uniform', \n",
        "              activation='sigmoid'))\n",
        "clf.compile(optimizer='adam', \n",
        "            loss='binary_crossentropy', \n",
        "            metrics=['accuracy'])\n",
        "print(clf.summary())\n",
        "\n",
        "history = clf.fit(x=X_train, y=y_train,\n",
        "                    validation_split=0.2,  \n",
        "                    batch_size=100,\n",
        "                    epochs=50, \n",
        "                    verbose=1)\n",
        "\n",
        "show_train_history(history, 'acc', 'val_acc')\n",
        "show_train_history(history, 'loss', 'val_loss')\n",
        "\n",
        "y_pred = clf.predict(X_test)\n",
        "y_pred = [1 if i[0] > 0.5 else 0 for i in y_pred]\n",
        "\n",
        "cm = ConfusionMatrix(actual_vector=y_test, predict_vector=y_pred)\n",
        "print(cm)"
      ],
      "execution_count": 0,
      "outputs": [
        {
          "output_type": "stream",
          "text": [
            "_________________________________________________________________\n",
            "Layer (type)                 Output Shape              Param #   \n",
            "=================================================================\n",
            "dense_4 (Dense)              (None, 16)                496       \n",
            "_________________________________________________________________\n",
            "dense_5 (Dense)              (None, 16)                272       \n",
            "_________________________________________________________________\n",
            "dense_6 (Dense)              (None, 1)                 17        \n",
            "=================================================================\n",
            "Total params: 785\n",
            "Trainable params: 785\n",
            "Non-trainable params: 0\n",
            "_________________________________________________________________\n",
            "None\n",
            "Train on 364 samples, validate on 91 samples\n",
            "Epoch 1/50\n",
            "364/364 [==============================] - 0s 679us/step - loss: 0.6901 - acc: 0.3462 - val_loss: 0.6836 - val_acc: 0.3626\n",
            "Epoch 2/50\n",
            "364/364 [==============================] - 0s 35us/step - loss: 0.6830 - acc: 0.3736 - val_loss: 0.6825 - val_acc: 0.3626\n",
            "Epoch 3/50\n",
            "364/364 [==============================] - 0s 28us/step - loss: 0.6771 - acc: 0.3736 - val_loss: 0.6774 - val_acc: 0.3626\n",
            "Epoch 4/50\n",
            "364/364 [==============================] - 0s 27us/step - loss: 0.6747 - acc: 0.3736 - val_loss: 0.6732 - val_acc: 0.3626\n",
            "Epoch 5/50\n",
            "364/364 [==============================] - 0s 23us/step - loss: 0.6702 - acc: 0.3736 - val_loss: 0.6700 - val_acc: 0.3626\n",
            "Epoch 6/50\n",
            "364/364 [==============================] - 0s 22us/step - loss: 0.6659 - acc: 0.3736 - val_loss: 0.6660 - val_acc: 0.3626\n",
            "Epoch 7/50\n",
            "364/364 [==============================] - 0s 25us/step - loss: 0.6606 - acc: 0.3736 - val_loss: 0.6601 - val_acc: 0.3626\n",
            "Epoch 8/50\n",
            "364/364 [==============================] - 0s 32us/step - loss: 0.6536 - acc: 0.3736 - val_loss: 0.6520 - val_acc: 0.3626\n",
            "Epoch 9/50\n",
            "364/364 [==============================] - 0s 25us/step - loss: 0.6454 - acc: 0.4451 - val_loss: 0.6420 - val_acc: 0.5385\n",
            "Epoch 10/50\n",
            "364/364 [==============================] - 0s 25us/step - loss: 0.6339 - acc: 0.6016 - val_loss: 0.6299 - val_acc: 0.5714\n",
            "Epoch 11/50\n",
            "364/364 [==============================] - 0s 26us/step - loss: 0.6197 - acc: 0.6731 - val_loss: 0.6165 - val_acc: 0.6703\n",
            "Epoch 12/50\n",
            "364/364 [==============================] - 0s 24us/step - loss: 0.6035 - acc: 0.6896 - val_loss: 0.6009 - val_acc: 0.7582\n",
            "Epoch 13/50\n",
            "364/364 [==============================] - 0s 24us/step - loss: 0.5846 - acc: 0.8242 - val_loss: 0.5817 - val_acc: 0.8681\n",
            "Epoch 14/50\n",
            "364/364 [==============================] - 0s 32us/step - loss: 0.5637 - acc: 0.8791 - val_loss: 0.5627 - val_acc: 0.8681\n",
            "Epoch 15/50\n",
            "364/364 [==============================] - 0s 36us/step - loss: 0.5401 - acc: 0.8984 - val_loss: 0.5407 - val_acc: 0.9011\n",
            "Epoch 16/50\n",
            "364/364 [==============================] - 0s 25us/step - loss: 0.5147 - acc: 0.9011 - val_loss: 0.5173 - val_acc: 0.8901\n",
            "Epoch 17/50\n",
            "364/364 [==============================] - 0s 26us/step - loss: 0.4876 - acc: 0.9038 - val_loss: 0.4890 - val_acc: 0.9011\n",
            "Epoch 18/50\n",
            "364/364 [==============================] - 0s 26us/step - loss: 0.4554 - acc: 0.9093 - val_loss: 0.4608 - val_acc: 0.8901\n",
            "Epoch 19/50\n",
            "364/364 [==============================] - 0s 27us/step - loss: 0.4233 - acc: 0.9093 - val_loss: 0.4318 - val_acc: 0.8901\n",
            "Epoch 20/50\n",
            "364/364 [==============================] - 0s 32us/step - loss: 0.3902 - acc: 0.9066 - val_loss: 0.4066 - val_acc: 0.8571\n",
            "Epoch 21/50\n",
            "364/364 [==============================] - 0s 30us/step - loss: 0.3600 - acc: 0.9066 - val_loss: 0.3799 - val_acc: 0.8681\n",
            "Epoch 22/50\n",
            "364/364 [==============================] - 0s 29us/step - loss: 0.3311 - acc: 0.9093 - val_loss: 0.3595 - val_acc: 0.8571\n",
            "Epoch 23/50\n",
            "364/364 [==============================] - 0s 26us/step - loss: 0.3089 - acc: 0.9066 - val_loss: 0.3430 - val_acc: 0.8571\n",
            "Epoch 24/50\n",
            "364/364 [==============================] - 0s 34us/step - loss: 0.2891 - acc: 0.9121 - val_loss: 0.3255 - val_acc: 0.8901\n",
            "Epoch 25/50\n",
            "364/364 [==============================] - 0s 26us/step - loss: 0.2727 - acc: 0.9038 - val_loss: 0.3125 - val_acc: 0.9011\n",
            "Epoch 26/50\n",
            "364/364 [==============================] - 0s 26us/step - loss: 0.2615 - acc: 0.9148 - val_loss: 0.3118 - val_acc: 0.8901\n",
            "Epoch 27/50\n",
            "364/364 [==============================] - 0s 27us/step - loss: 0.2537 - acc: 0.9066 - val_loss: 0.3008 - val_acc: 0.8901\n",
            "Epoch 28/50\n",
            "364/364 [==============================] - 0s 32us/step - loss: 0.2450 - acc: 0.9121 - val_loss: 0.2932 - val_acc: 0.9011\n",
            "Epoch 29/50\n",
            "364/364 [==============================] - 0s 28us/step - loss: 0.2382 - acc: 0.9121 - val_loss: 0.2954 - val_acc: 0.8901\n",
            "Epoch 30/50\n",
            "364/364 [==============================] - 0s 24us/step - loss: 0.2377 - acc: 0.9066 - val_loss: 0.2886 - val_acc: 0.9011\n",
            "Epoch 31/50\n",
            "364/364 [==============================] - 0s 44us/step - loss: 0.2325 - acc: 0.9121 - val_loss: 0.2877 - val_acc: 0.9011\n",
            "Epoch 32/50\n",
            "364/364 [==============================] - 0s 33us/step - loss: 0.2277 - acc: 0.9148 - val_loss: 0.2790 - val_acc: 0.9121\n",
            "Epoch 33/50\n",
            "364/364 [==============================] - 0s 27us/step - loss: 0.2292 - acc: 0.9121 - val_loss: 0.2795 - val_acc: 0.9011\n",
            "Epoch 34/50\n",
            "364/364 [==============================] - 0s 26us/step - loss: 0.2311 - acc: 0.9093 - val_loss: 0.2813 - val_acc: 0.9011\n",
            "Epoch 35/50\n",
            "364/364 [==============================] - 0s 35us/step - loss: 0.2319 - acc: 0.9038 - val_loss: 0.2783 - val_acc: 0.9011\n",
            "Epoch 36/50\n",
            "364/364 [==============================] - 0s 27us/step - loss: 0.2277 - acc: 0.9038 - val_loss: 0.2714 - val_acc: 0.9011\n",
            "Epoch 37/50\n",
            "364/364 [==============================] - 0s 45us/step - loss: 0.2155 - acc: 0.9093 - val_loss: 0.3174 - val_acc: 0.8571\n",
            "Epoch 38/50\n",
            "364/364 [==============================] - 0s 30us/step - loss: 0.2304 - acc: 0.9038 - val_loss: 0.2692 - val_acc: 0.9011\n",
            "Epoch 39/50\n",
            "364/364 [==============================] - 0s 29us/step - loss: 0.2201 - acc: 0.9121 - val_loss: 0.2753 - val_acc: 0.9011\n",
            "Epoch 40/50\n",
            "364/364 [==============================] - 0s 29us/step - loss: 0.2163 - acc: 0.9176 - val_loss: 0.2727 - val_acc: 0.9121\n",
            "Epoch 41/50\n",
            "364/364 [==============================] - 0s 29us/step - loss: 0.2158 - acc: 0.9148 - val_loss: 0.2746 - val_acc: 0.9011\n",
            "Epoch 42/50\n",
            "364/364 [==============================] - 0s 29us/step - loss: 0.2316 - acc: 0.9066 - val_loss: 0.2720 - val_acc: 0.9121\n",
            "Epoch 43/50\n",
            "364/364 [==============================] - 0s 26us/step - loss: 0.2197 - acc: 0.9176 - val_loss: 0.2644 - val_acc: 0.9011\n",
            "Epoch 44/50\n",
            "364/364 [==============================] - 0s 33us/step - loss: 0.2169 - acc: 0.9148 - val_loss: 0.2964 - val_acc: 0.9011\n",
            "Epoch 45/50\n",
            "100/364 [=======>......................] - ETA: 0s - loss: 0.2562 - acc: 0.8800364/364 [==============================] - 0s 26us/step - loss: 0.2175 - acc: 0.9121 - val_loss: 0.2646 - val_acc: 0.9011\n",
            "Epoch 46/50\n",
            "364/364 [==============================] - 0s 37us/step - loss: 0.2128 - acc: 0.9093 - val_loss: 0.2671 - val_acc: 0.9121\n",
            "Epoch 47/50\n",
            "364/364 [==============================] - 0s 37us/step - loss: 0.2108 - acc: 0.9176 - val_loss: 0.2775 - val_acc: 0.9011\n",
            "Epoch 48/50\n",
            "364/364 [==============================] - 0s 24us/step - loss: 0.2119 - acc: 0.9121 - val_loss: 0.2684 - val_acc: 0.9121\n",
            "Epoch 49/50\n",
            "364/364 [==============================] - 0s 29us/step - loss: 0.2094 - acc: 0.9121 - val_loss: 0.2619 - val_acc: 0.9011\n",
            "Epoch 50/50\n",
            "364/364 [==============================] - 0s 23us/step - loss: 0.2101 - acc: 0.9176 - val_loss: 0.2668 - val_acc: 0.9121\n"
          ],
          "name": "stdout"
        },
        {
          "output_type": "display_data",
          "data": {
            "image/png": "[encoded data removed]",
            "text/plain": [
              "<matplotlib.figure.Figure at 0x7fbde75c4978>"
            ]
          },
          "metadata": {
            "tags": []
          }
        },
        {
          "output_type": "display_data",
          "data": {
            "image/png": "[encoded data removed]",
            "text/plain": [
              "<matplotlib.figure.Figure at 0x7fbde7360ba8>"
            ]
          },
          "metadata": {
            "tags": []
          }
        },
        {
          "output_type": "stream",
          "text": [
            "Predict          0        1        \n",
            "Actual\n",
            "0                40       3        \n",
            "1                0        71       \n",
            "\n",
            "\n",
            "\n",
            "\n",
            "Overall Statistics : \n",
            "\n",
            "95% CI                                                           (0.9443,1.00307)\n",
            "Bennett_S                                                        0.94737\n",
            "Chi-Squared                                                      None\n",
            "Chi-Squared DF                                                   1\n",
            "Conditional Entropy                                              None\n",
            "Cramer_V                                                         None\n",
            "Cross Entropy                                                    0.9582\n",
            "Gwet_AC1                                                         0.95099\n",
            "Joint Entropy                                                    None\n",
            "KL Divergence                                                    0.00217\n",
            "Kappa                                                            0.94321\n",
            "Kappa 95% CI                                                     (0.87979,1.00662)\n",
            "Kappa No Prevalence                                              0.94737\n",
            "Kappa Standard Error                                             0.03235\n",
            "Kappa Unbiased                                                   0.94317\n",
            "Lambda A                                                         None\n",
            "Lambda B                                                         None\n",
            "Mutual Information                                               None\n",
            "Overall_ACC                                                      0.97368\n",
            "Overall_J                                                        (1.88969,0.94485)\n",
            "Overall_RACC                                                     0.53663\n",
            "Overall_RACCU                                                    0.53697\n",
            "PPV_Macro                                                        0.97973\n",
            "PPV_Micro                                                        0.97368\n",
            "Phi-Squared                                                      None\n",
            "Reference Entropy                                                0.95604\n",
            "Response Entropy                                                 0.93485\n",
            "Scott_PI                                                         0.94317\n",
            "Standard Error                                                   0.01499\n",
            "Strength_Of_Agreement(Altman)                                    Very Good\n",
            "Strength_Of_Agreement(Cicchetti)                                 Excellent\n",
            "Strength_Of_Agreement(Fleiss)                                    Excellent\n",
            "Strength_Of_Agreement(Landis and Koch)                           Almost Perfect\n",
            "TPR_Macro                                                        0.96512\n",
            "TPR_Micro                                                        0.97368\n",
            "\n",
            "Class Statistics :\n",
            "\n",
            "Classes                                                          0                       1                       \n",
            "ACC(Accuracy)                                                    0.97368                 0.97368                 \n",
            "BM(Informedness or bookmaker informedness)                       0.93023                 0.93023                 \n",
            "DOR(Diagnostic odds ratio)                                       None                    None                    \n",
            "ERR(Error rate)                                                  0.02632                 0.02632                 \n",
            "F0.5(F0.5 score)                                                 0.98522                 0.9673                  \n",
            "F1(F1 score - harmonic mean of precision and sensitivity)        0.96386                 0.97931                 \n",
            "F2(F2 score)                                                     0.9434                  0.99162                 \n",
            "FDR(False discovery rate)                                        0.0                     0.04054                 \n",
            "FN(False negative/miss/type 2 error)                             3                       0                       \n",
            "FNR(Miss rate or false negative rate)                            0.06977                 0.0                     \n",
            "FOR(False omission rate)                                         0.04054                 0.0                     \n",
            "FP(False positive/type 1 error/false alarm)                      0                       3                       \n",
            "FPR(Fall-out or false positive rate)                             0.0                     0.06977                 \n",
            "G(G-measure geometric mean of precision and sensitivity)         0.96449                 0.97952                 \n",
            "J(Jaccard index)                                                 0.93023                 0.95946                 \n",
            "LR+(Positive likelihood ratio)                                   None                    14.33333                \n",
            "LR-(Negative likelihood ratio)                                   0.06977                 0.0                     \n",
            "MCC(Matthews correlation coefficient)                            0.94473                 0.94473                 \n",
            "MK(Markedness)                                                   0.95946                 0.95946                 \n",
            "N(Condition negative)                                            71                      43                      \n",
            "NPV(Negative predictive value)                                   0.95946                 1.0                     \n",
            "P(Condition positive)                                            43                      71                      \n",
            "POP(Population)                                                  114                     114                     \n",
            "PPV(Precision or positive predictive value)                      1.0                     0.95946                 \n",
            "PRE(Prevalence)                                                  0.37719                 0.62281                 \n",
            "RACC(Random accuracy)                                            0.13235                 0.40428                 \n",
            "RACCU(Random accuracy unbiased)                                  0.13252                 0.40445                 \n",
            "TN(True negative/correct rejection)                              71                      40                      \n",
            "TNR(Specificity or true negative rate)                           1.0                     0.93023                 \n",
            "TON(Test outcome negative)                                       74                      40                      \n",
            "TOP(Test outcome positive)                                       40                      74                      \n",
            "TP(True positive/hit)                                            40                      71                      \n",
            "TPR(Sensitivity, recall, hit rate, or true positive rate)        0.93023                 1.0                     \n",
            "\n"
          ],
          "name": "stdout"
        }
      ]
    },
    {
      "cell_type": "markdown",
      "metadata": {
        "colab_type": "text",
        "id": "LwAYzccT97E6"
      },
      "source": [
        "## Further reading\n",
        "\n",
        "### Theory and mathematics\n",
        "- [Deep learning book](http://www.deeplearningbook.org/)\n",
        "- [Stanford CS224n: Natural Language Processing with Deep Learning](http://web.stanford.edu/class/cs224n/)\n",
        "- [Stanford CS231n: Convolutional Neural Networks for Visual Recognition](http://cs231n.stanford.edu/)\n",
        "\n",
        "### Practical\n",
        "You may want to read the documents of TensorFlow, PyTorch, Keras, Scikit-learn, ... etc. to know how to use them.\n",
        "\n",
        "- [Tensorflow Programmer's Guide](https://www.tensorflow.org/programmers_guide/)\n",
        "- [PyTorch Tutorials](https://pytorch.org/tutorials/)\n",
        "- [Coursera Deep Learning Specialization](https://www.coursera.org/specializations/deep-learning)\n",
        "- [Google Machine Learning Crash Course\n",
        "](https://developers.google.com/machine-learning/crash-course/ml-intro)\n",
        "- [Coursera Machine Learning with TensorFlow on Google Cloud Platform Specialization](https://www.coursera.org/specializations/machine-learning-tensorflow-gcp)"
      ]
    }
  ]
}