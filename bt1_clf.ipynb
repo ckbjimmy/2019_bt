{
  "nbformat": 4,
  "nbformat_minor": 0,
  "metadata": {
    "colab": {
      "name": "bt1_clf.ipynb",
      "provenance": [],
      "collapsed_sections": [],
      "toc_visible": true,
      "include_colab_link": true
    },
    "kernelspec": {
      "display_name": "Python 2",
      "language": "python",
      "name": "python2"
    },
    "language_info": {
      "codemirror_mode": {
        "name": "ipython",
        "version": 3
      },
      "file_extension": ".py",
      "mimetype": "text/x-python",
      "name": "python",
      "nbconvert_exporter": "python",
      "pygments_lexer": "ipython3",
      "version": "3.6.8"
    }
  },
  "cells": [
    {
      "cell_type": "markdown",
      "metadata": {
        "id": "view-in-github",
        "colab_type": "text"
      },
      "source": [
        "<a href=\"https://colab.research.google.com/github/ckbjimmy/2019_bt/blob/master/bt1_clf.ipynb\" target=\"_parent\"><img src=\"https://colab.research.google.com/assets/colab-badge.svg\" alt=\"Open In Colab\"/></a>"
      ]
    },
    {
      "cell_type": "markdown",
      "metadata": {
        "colab_type": "text",
        "id": "acE7JrXS2ahZ"
      },
      "source": [
        "# Machine Learning for Clinical Data Analysis\n",
        "\n",
        "We would like to introduce basic machine learning techniques and toolkits for clinical knowledge discovery in the workshop.\n",
        "The material will cover common useful algorithms for clinical prediction tasks, as well as the diagnostic workflow of applying machine learning to real-world problems. \n",
        "We will use [Google colab](https://colab.research.google.com/) / python jupyter notebook and two datasets:\n",
        "\n",
        "- Breast Cancer Wisconsin (Diagnostic) Database, and \n",
        "- pre-extracted ICU data from PhysioNet Database\n",
        "  \n",
        "to build predictive models.\n",
        "\n",
        "The learning objectives of this workshop tutorial are:\n",
        "\n",
        "- Learn how to use Google colab / jupyter notebook\n",
        "- Learn how to build machine learning models for clinical classification and/or clustering tasks\n",
        "\n",
        "To accelerate the progress without obstacles, we hope that the readers fulfill the following prerequisites:\n",
        "\n",
        "- [Skillset] basic python syntax\n",
        "- [Requirements] Google account OR [anaconda](https://anaconda.org/anaconda/python)\n",
        "\n",
        "In part 1, we will go through the basic of machine learning for classification problems.\n",
        "In part 2, we will play with neural networks.\n",
        "\n"
      ]
    },
    {
      "cell_type": "markdown",
      "metadata": {
        "colab_type": "text",
        "id": "ZWiyY6ZanrTq"
      },
      "source": [
        "# Classification problem (supervised learning)\n",
        "\n",
        "In the first part of the workshop, we would like to explore how to utilize machine learning algorithms to approach clinical predictive analytic problems, specifically, the classification problem.\n",
        "\n",
        "After going through this tutorial, we hope that you will understand how to use python and scikit-learn to design and build simple machine learning models for classification problems and how to evaluate the performance and make it be interpretable.\n",
        "\n",
        "The tutorial is modified from Dr. Alistair Johnson's version for 2017 workshop.\n",
        "\n",
        "In the beginning, we will install and import the packages needed for the workshop (we usually do this in python). \n",
        "Then we will work on a well-structured breast cancer dataset, then move on to the real world PhysioNet dataset.\n",
        "\n",
        "In the first chunk, it will take few seconds to install and import packages we need in the tutorial.\n",
        "Colab / jupyter notebook provides a convenient function that you can run the bash command by adding `!` before the command. e.g. `!pip install tensorflow` , `!ls`, `!clear`."
      ]
    },
    {
      "cell_type": "code",
      "metadata": {
        "colab_type": "code",
        "id": "2oc7_qvU2U1e",
        "colab": {}
      },
      "source": [
        "# try:\n",
        "#     import psycopg2\n",
        "# except:\n",
        "#     !pip install psycopg2\n",
        "  \n",
        "try:\n",
        "    import pydotplus\n",
        "except:\n",
        "    !pip install pydotplus\n",
        "    \n",
        "try:\n",
        "    import graphviz\n",
        "except:\n",
        "    !apt-get install graphviz -y\n",
        "\n",
        "\n",
        "from __future__ import print_function\n",
        "\n",
        "import numpy as np\n",
        "import pandas as pd\n",
        "import sklearn\n",
        "import sys\n",
        "import datetime as dt\n",
        "\n",
        "import matplotlib\n",
        "import matplotlib.pyplot as plt\n",
        "from matplotlib.font_manager import FontProperties # for unicode fonts\n",
        "\n",
        "from collections import OrderedDict\n",
        "\n",
        "from sklearn import datasets\n",
        "\n",
        "# used to print out pretty pandas dataframes\n",
        "from IPython.display import display, HTML\n",
        "\n",
        "from sklearn.pipeline import Pipeline\n",
        "\n",
        "# used to impute mean for data and standardize for computational stability\n",
        "from sklearn.preprocessing import Imputer\n",
        "from sklearn.preprocessing import StandardScaler\n",
        "\n",
        "# logistic regression is our favourite model ever\n",
        "from sklearn.model_selection import train_test_split\n",
        "from sklearn.linear_model import LogisticRegression\n",
        "from sklearn.linear_model import LogisticRegressionCV # l2 regularized regression\n",
        "from sklearn.linear_model import LassoCV\n",
        "\n",
        "from sklearn.tree import DecisionTreeClassifier\n",
        "from sklearn.ensemble import GradientBoostingClassifier\n",
        "from sklearn.ensemble import RandomForestClassifier\n",
        "from sklearn.ensemble import BaggingClassifier\n",
        "from sklearn.ensemble import AdaBoostClassifier\n",
        "from sklearn.naive_bayes import MultinomialNB\n",
        "from sklearn.svm import LinearSVC\n",
        "from sklearn.svm import SVC\n",
        "from sklearn.calibration import CalibratedClassifierCV\n",
        "from sklearn.neural_network import MLPClassifier         \n",
        "\n",
        "from sklearn import model_selection\n",
        "\n",
        "# used to calculate AUROC/accuracy\n",
        "from sklearn import metrics\n",
        "from sklearn.model_selection import cross_val_score\n",
        "\n",
        "# used to create confusion matrix\n",
        "from sklearn.metrics import confusion_matrix\n",
        "\n",
        "%matplotlib inline"
      ],
      "execution_count": 0,
      "outputs": []
    },
    {
      "cell_type": "markdown",
      "metadata": {
        "colab_type": "text",
        "id": "kdPWuNeStkxs"
      },
      "source": [
        "We also defined the `plot_model_pred_2d` function for plotting. \n",
        "We will use this function later for visualizing the decision boundaries."
      ]
    },
    {
      "cell_type": "code",
      "metadata": {
        "colab_type": "code",
        "id": "_O8cVt7dztAa",
        "colab": {}
      },
      "source": [
        "def plot_model_pred_2d(mdl, X, y, feat):\n",
        "    # look at the regions in a 2d plot\n",
        "    # based on scikit-learn tutorial plot_iris.html\n",
        "\n",
        "    # get minimum and maximum values\n",
        "    x0_min = X[:, 0].min()\n",
        "    x0_max = X[:, 0].max()\n",
        "    x1_min = X[:, 1].min()\n",
        "    x1_max = X[:, 1].max()\n",
        "\n",
        "    xx, yy = np.meshgrid(np.linspace(x0_min, x0_max, 100),\n",
        "                         np.linspace(x1_min, x1_max, 100))\n",
        "\n",
        "    Z = mdl.predict(np.c_[xx.ravel(), yy.ravel()])\n",
        "    Z = Z.reshape(xx.shape)\n",
        "\n",
        "    # plot the contour - colouring different regions\n",
        "    cs = plt.contourf(xx, yy, Z, cmap='Blues')\n",
        "\n",
        "    # plot the individual data points - colouring by the *true* outcome\n",
        "    color = y.ravel()\n",
        "    plt.scatter(X[:, 0], X[:, 1], c=color, marker='o', s=40, cmap='Blues')\n",
        "\n",
        "    plt.xlabel(feat[0])\n",
        "    plt.ylabel(feat[1])\n",
        "    plt.axis(\"tight\")\n",
        "    plt.colorbar()"
      ],
      "execution_count": 0,
      "outputs": []
    },
    {
      "cell_type": "markdown",
      "metadata": {
        "colab_type": "text",
        "id": "SGxn4Qv91tSX"
      },
      "source": [
        "## Breast cancer prediction\n",
        "\n",
        "Let's start from using the [breast cancer dataset in UCI data repository](https://archive.ics.uci.edu/ml/machine-learning-databases/breast-cancer-wisconsin/wdbc.names) to have a quick look on how to do the analysis and build models using well-structured data (without missing data and other data cleaning problems). \n",
        "The python machine learning package `scikit-learn` has already helped us preprocess the data. \n",
        "We load the breast cancer dataset from `sklearn.datasets`, and show the description of this dataset."
      ]
    },
    {
      "cell_type": "code",
      "metadata": {
        "colab_type": "code",
        "id": "_aOVF6602Bdl",
        "outputId": "a4db4bf1-b32e-4e03-bf41-2b72d5f09513",
        "colab": {
          "base_uri": "https://localhost:8080/",
          "height": 1000
        }
      },
      "source": [
        "# load the data\n",
        "df_bc = datasets.load_breast_cancer()\n",
        "print([k for k in df_bc.keys()])\n",
        "print(df_bc['feature_names'])\n",
        "\n",
        "# if you want a description of the dataset, uncomment the below line\n",
        "print(df_bc['DESCR'])\n",
        "\n",
        "# pick index of the features to use (only pick 2)\n",
        "#    :Attribute Information (in order):\n",
        "#        0 - CRIM     per capita crime rate by town\n",
        "#        1 - ZN       proportion of residential land zoned for lots over 25,000 sq.ft.\n",
        "#        2 - INDUS    proportion of non-retail business acres per town\n",
        "#        3 - CHAS     Charles River dummy variable (= 1 if tract bounds river; 0 otherwise)\n",
        "#        4 - NOX      nitric oxides concentration (parts per 10 million)\n",
        "#        5 - RM       average number of rooms per dwelling\n",
        "#        6 - AGE      proportion of owner-occupied units built prior to 1940\n",
        "#        7 - DIS      weighted distances to five Boston employment centres\n",
        "#        8 - RAD      index of accessibility to radial highways\n",
        "#        9 - TAX      full-value property-tax rate per $10,000\n",
        "#       10 - PTRATIO  pupil-teacher ratio by town\n",
        "#       11 - B        1000(Bk - 0.63)^2 where Bk is the proportion of blacks by town\n",
        "#       12 - LSTAT    % lower status of the population\n",
        "#       13 - MEDV     Median value of owner-occupied homes in $1000's"
      ],
      "execution_count": 0,
      "outputs": [
        {
          "output_type": "stream",
          "text": [
            "['target', 'DESCR', 'target_names', 'feature_names', 'data', 'filename']\n",
            "['mean radius' 'mean texture' 'mean perimeter' 'mean area'\n",
            " 'mean smoothness' 'mean compactness' 'mean concavity'\n",
            " 'mean concave points' 'mean symmetry' 'mean fractal dimension'\n",
            " 'radius error' 'texture error' 'perimeter error' 'area error'\n",
            " 'smoothness error' 'compactness error' 'concavity error'\n",
            " 'concave points error' 'symmetry error' 'fractal dimension error'\n",
            " 'worst radius' 'worst texture' 'worst perimeter' 'worst area'\n",
            " 'worst smoothness' 'worst compactness' 'worst concavity'\n",
            " 'worst concave points' 'worst symmetry' 'worst fractal dimension']\n",
            ".. _breast_cancer_dataset:\n",
            "\n",
            "Breast cancer wisconsin (diagnostic) dataset\n",
            "--------------------------------------------\n",
            "\n",
            "**Data Set Characteristics:**\n",
            "\n",
            "    :Number of Instances: 569\n",
            "\n",
            "    :Number of Attributes: 30 numeric, predictive attributes and the class\n",
            "\n",
            "    :Attribute Information:\n",
            "        - radius (mean of distances from center to points on the perimeter)\n",
            "        - texture (standard deviation of gray-scale values)\n",
            "        - perimeter\n",
            "        - area\n",
            "        - smoothness (local variation in radius lengths)\n",
            "        - compactness (perimeter^2 / area - 1.0)\n",
            "        - concavity (severity of concave portions of the contour)\n",
            "        - concave points (number of concave portions of the contour)\n",
            "        - symmetry \n",
            "        - fractal dimension (\"coastline approximation\" - 1)\n",
            "\n",
            "        The mean, standard error, and \"worst\" or largest (mean of the three\n",
            "        largest values) of these features were computed for each image,\n",
            "        resulting in 30 features.  For instance, field 3 is Mean Radius, field\n",
            "        13 is Radius SE, field 23 is Worst Radius.\n",
            "\n",
            "        - class:\n",
            "                - WDBC-Malignant\n",
            "                - WDBC-Benign\n",
            "\n",
            "    :Summary Statistics:\n",
            "\n",
            "    ===================================== ====== ======\n",
            "                                           Min    Max\n",
            "    ===================================== ====== ======\n",
            "    radius (mean):                        6.981  28.11\n",
            "    texture (mean):                       9.71   39.28\n",
            "    perimeter (mean):                     43.79  188.5\n",
            "    area (mean):                          143.5  2501.0\n",
            "    smoothness (mean):                    0.053  0.163\n",
            "    compactness (mean):                   0.019  0.345\n",
            "    concavity (mean):                     0.0    0.427\n",
            "    concave points (mean):                0.0    0.201\n",
            "    symmetry (mean):                      0.106  0.304\n",
            "    fractal dimension (mean):             0.05   0.097\n",
            "    radius (standard error):              0.112  2.873\n",
            "    texture (standard error):             0.36   4.885\n",
            "    perimeter (standard error):           0.757  21.98\n",
            "    area (standard error):                6.802  542.2\n",
            "    smoothness (standard error):          0.002  0.031\n",
            "    compactness (standard error):         0.002  0.135\n",
            "    concavity (standard error):           0.0    0.396\n",
            "    concave points (standard error):      0.0    0.053\n",
            "    symmetry (standard error):            0.008  0.079\n",
            "    fractal dimension (standard error):   0.001  0.03\n",
            "    radius (worst):                       7.93   36.04\n",
            "    texture (worst):                      12.02  49.54\n",
            "    perimeter (worst):                    50.41  251.2\n",
            "    area (worst):                         185.2  4254.0\n",
            "    smoothness (worst):                   0.071  0.223\n",
            "    compactness (worst):                  0.027  1.058\n",
            "    concavity (worst):                    0.0    1.252\n",
            "    concave points (worst):               0.0    0.291\n",
            "    symmetry (worst):                     0.156  0.664\n",
            "    fractal dimension (worst):            0.055  0.208\n",
            "    ===================================== ====== ======\n",
            "\n",
            "    :Missing Attribute Values: None\n",
            "\n",
            "    :Class Distribution: 212 - Malignant, 357 - Benign\n",
            "\n",
            "    :Creator:  Dr. William H. Wolberg, W. Nick Street, Olvi L. Mangasarian\n",
            "\n",
            "    :Donor: Nick Street\n",
            "\n",
            "    :Date: November, 1995\n",
            "\n",
            "This is a copy of UCI ML Breast Cancer Wisconsin (Diagnostic) datasets.\n",
            "https://goo.gl/U2Uwz2\n",
            "\n",
            "Features are computed from a digitized image of a fine needle\n",
            "aspirate (FNA) of a breast mass.  They describe\n",
            "characteristics of the cell nuclei present in the image.\n",
            "\n",
            "Separating plane described above was obtained using\n",
            "Multisurface Method-Tree (MSM-T) [K. P. Bennett, \"Decision Tree\n",
            "Construction Via Linear Programming.\" Proceedings of the 4th\n",
            "Midwest Artificial Intelligence and Cognitive Science Society,\n",
            "pp. 97-101, 1992], a classification method which uses linear\n",
            "programming to construct a decision tree.  Relevant features\n",
            "were selected using an exhaustive search in the space of 1-4\n",
            "features and 1-3 separating planes.\n",
            "\n",
            "The actual linear program used to obtain the separating plane\n",
            "in the 3-dimensional space is that described in:\n",
            "[K. P. Bennett and O. L. Mangasarian: \"Robust Linear\n",
            "Programming Discrimination of Two Linearly Inseparable Sets\",\n",
            "Optimization Methods and Software 1, 1992, 23-34].\n",
            "\n",
            "This database is also available through the UW CS ftp server:\n",
            "\n",
            "ftp ftp.cs.wisc.edu\n",
            "cd math-prog/cpo-dataset/machine-learn/WDBC/\n",
            "\n",
            ".. topic:: References\n",
            "\n",
            "   - W.N. Street, W.H. Wolberg and O.L. Mangasarian. Nuclear feature extraction \n",
            "     for breast tumor diagnosis. IS&T/SPIE 1993 International Symposium on \n",
            "     Electronic Imaging: Science and Technology, volume 1905, pages 861-870,\n",
            "     San Jose, CA, 1993.\n",
            "   - O.L. Mangasarian, W.N. Street and W.H. Wolberg. Breast cancer diagnosis and \n",
            "     prognosis via linear programming. Operations Research, 43(4), pages 570-577, \n",
            "     July-August 1995.\n",
            "   - W.H. Wolberg, W.N. Street, and O.L. Mangasarian. Machine learning techniques\n",
            "     to diagnose breast cancer from fine-needle aspirates. Cancer Letters 77 (1994) \n",
            "     163-171.\n"
          ],
          "name": "stdout"
        }
      ]
    },
    {
      "cell_type": "markdown",
      "metadata": {
        "colab_type": "text",
        "id": "w_O-14OFtYTF"
      },
      "source": [
        "In the next chunk, we use the second and the last feature (mean texture and worst fractal dimension, `[1, 29]`) to build models to classify whether the lesion is tumor or not.\n",
        "\n",
        "We use the features and the corresponding label to build the model.\n",
        "For training machine learning models, we usually split our data into training and testing dataset, and only use the training subset for modeling (using `train_test_split` function). \n",
        "The purpose of this splitting step is to make the model less overfit and be more generalizable.\n",
        "For much robust models, we may further split the training set to training and validation sets. \n",
        "Check the figure to understand the relationship between training, validation and testing splitted sets.\n",
        "\n",
        "![split](http://www.codeproject.com/KB/AI/1146582/validation.PNG)\n",
        "\n",
        "[Source] http://magizbox.com/training/machinelearning/site/evaluation/"
      ]
    },
    {
      "cell_type": "code",
      "metadata": {
        "colab_type": "code",
        "id": "S5pYln4Brnc6",
        "colab": {}
      },
      "source": [
        "idx = [1, 29] # choose the features for modeling, you can change the idx and see what will happen\n",
        "X = df_bc['data'][:, idx] # X is your feature set\n",
        "y = df_bc['target'] # y is the target, the label\n",
        "X_train, X_test, y_train, y_test = train_test_split(X, y, test_size=0.30, random_state=42) # split your data to train/test sets\n",
        "\n",
        "feat = [x for x in df_bc['feature_names'][idx]]"
      ],
      "execution_count": 0,
      "outputs": []
    },
    {
      "cell_type": "markdown",
      "metadata": {
        "colab_type": "text",
        "id": "u3HTF8Nr0IlT"
      },
      "source": [
        "Above, we've extracted only two features out of the breast cancer dataset as predictors.\n",
        "Then, we run six different machine learning algorithms to build the classifier for predicting the lesion is malignant or not.\n",
        "\n",
        "We quickly visualize the results of all the models we have presented here. \n",
        "In the figure, we can see the decision boundaries created by the models.\n",
        "These boundaries can be a source of interpretability of the clinical predictive model.\n",
        "We also print out their performance as measured by the **Area Under the Receiver Operator Characteristic curve (AUROC)**, which is a commonly used metrics in the machine learning world."
      ]
    },
    {
      "cell_type": "code",
      "metadata": {
        "colab_type": "code",
        "id": "8mlvRFyUzePi",
        "outputId": "c4521486-f302-4e79-f4a0-a2d0a9251ea3",
        "colab": {
          "base_uri": "https://localhost:8080/",
          "height": 745
        }
      },
      "source": [
        "# we put all algorithms in a dictionary, you can add/remove them\n",
        "# there are many algorithms in scikit-learn you can try: \n",
        "# http://scikit-learn.org/stable/supervised_learning.html#supervised-learning\n",
        "# the `.fit` step is the training process\n",
        "clf = dict()\n",
        "clf['Logistic Regression'] = LogisticRegression(fit_intercept=True).fit(X_train,y_train)\n",
        "clf['Decision Tree'] = DecisionTreeClassifier(criterion='entropy', splitter='best').fit(X_train,y_train)\n",
        "clf['Gradient Boosting'] = GradientBoostingClassifier(n_estimators=10).fit(X_train, y_train)\n",
        "clf['Random Forest'] = RandomForestClassifier(n_estimators=10).fit(X_train, y_train)\n",
        "clf['Bagging'] = BaggingClassifier(n_estimators=10).fit(X_train, y_train)\n",
        "clf['AdaBoost'] = AdaBoostClassifier(n_estimators=10).fit(X_train, y_train)\n",
        "\n",
        "# visualization\n",
        "fig = plt.figure(figsize=[16,9])\n",
        "\n",
        "print('AUROC\\tModel')\n",
        "for i, curr_mdl in enumerate(clf):\n",
        "    yhat = clf[curr_mdl].predict_proba(X_test)[:,1] # prediction\n",
        "    score = metrics.roc_auc_score(y_test, yhat) # get AUROC\n",
        "    print('{:0.3f}\\t{}'.format(score, curr_mdl))\n",
        "    ax = fig.add_subplot(2,3,i+1)\n",
        "    plot_model_pred_2d(clf[curr_mdl], X_test, y_test, feat) # we define this function in the beginning\n",
        "    plt.title(curr_mdl)\n",
        "    \n",
        "plt.show()"
      ],
      "execution_count": 0,
      "outputs": [
        {
          "output_type": "stream",
          "text": [
            "AUROC\tModel\n",
            "0.764\tBagging\n"
          ],
          "name": "stdout"
        },
        {
          "output_type": "stream",
          "text": [
            "/usr/local/lib/python2.7/dist-packages/sklearn/linear_model/logistic.py:433: FutureWarning: Default solver will be changed to 'lbfgs' in 0.22. Specify a solver to silence this warning.\n",
            "  FutureWarning)\n"
          ],
          "name": "stderr"
        },
        {
          "output_type": "stream",
          "text": [
            "0.706\tDecision Tree\n",
            "0.807\tGradient Boosting\n",
            "0.801\tAdaBoost\n",
            "0.780\tLogistic Regression\n",
            "0.797\tRandom Forest\n"
          ],
          "name": "stdout"
        },
        {
          "output_type": "display_data",
          "data": {
            "image/png": "[encoded data removed]",
            "text/plain": [
              "<Figure size 1152x648 with 12 Axes>"
            ]
          },
          "metadata": {
            "tags": []
          }
        }
      ]
    },
    {
      "cell_type": "markdown",
      "metadata": {
        "colab_type": "text",
        "id": "1NDKbl9b0L3a"
      },
      "source": [
        "Here we can see that quantitatively, Logistic Regression, AdaBoost and Gradient Boosting have produced the highest discrimination among all the models (~0.80). \n",
        "The decision surfaces of these models also seem simpler, and less \"noisy\", which is likely the reason for the improved **generalization** on the held out test set.\n",
        "\n",
        "### K-fold cross-validation\n",
        "\n",
        "Now we will include all features of the breast cancer dataset - we will no longer be able to easily visualize the models, but we will be able to better evaluate them. \n",
        "We'll also switch to using **5-fold cross-validation** to get a good estimate of the generalization performance of the model.\n",
        "For the k-fold cross-validation, you can still split the data to train/test sets to make your models much robust.\n",
        "\n",
        "The figure demonstrates the simple 4-fold cross-validation.\n",
        "\n",
        "![cv](https://upload.wikimedia.org/wikipedia/commons/1/1c/K-fold_cross_validation_EN.jpg)\n",
        "\n",
        "[Source] https://en.wikipedia.org/wiki/Cross-validation_(statistics)"
      ]
    },
    {
      "cell_type": "code",
      "metadata": {
        "colab_type": "code",
        "id": "y4sDcTBjz31R",
        "outputId": "1bbf2083-81e6-4d70-9a1d-61ecf2a2b734",
        "colab": {
          "base_uri": "https://localhost:8080/",
          "height": 140
        }
      },
      "source": [
        "# use all features\n",
        "X = df_bc['data']\n",
        "y = df_bc['target']\n",
        "\n",
        "# use cross-validation to estimate the performance of each model\n",
        "print('Acc\\tAUROC\\tModel')\n",
        "for curr_mdl in clf:\n",
        "    scores = cross_val_score(clf[curr_mdl], X, y, cv=5, scoring='accuracy')\n",
        "    auc = cross_val_score(clf[curr_mdl], X, y, cv=5, scoring='roc_auc')\n",
        "    print('{:0.3f}\\t{:0.3f}\\t{}'.format(scores.mean(), auc.mean(), curr_mdl))"
      ],
      "execution_count": 0,
      "outputs": [
        {
          "output_type": "stream",
          "text": [
            "Acc\tAUROC\tModel\n",
            "0.956\t0.983\tBagging\n",
            "0.928\t0.935\tDecision Tree\n",
            "0.947\t0.981\tGradient Boosting\n",
            "0.946\t0.988\tAdaBoost\n",
            "0.953\t0.992\tLogistic Regression\n",
            "0.958\t0.988\tRandom Forest\n"
          ],
          "name": "stdout"
        }
      ]
    },
    {
      "cell_type": "markdown",
      "metadata": {
        "colab_type": "text",
        "id": "KlLzJkbq0Osd"
      },
      "source": [
        "We note two things here:\n",
        "\n",
        "1. by **using the entire feature set** we have dramatically improved performance of the model, indicating that there was more information contained in the other columns, and\n",
        "2. most of our models are performing relatively equivalently (except for the super simple model, the decision tree), and do not forget **logistic regression**!"
      ]
    },
    {
      "cell_type": "markdown",
      "metadata": {
        "colab_type": "text",
        "id": "1PECpeMGzBZ1"
      },
      "source": [
        "## PhysioNet\n",
        "We will now practice using these models on a dataset acquired from patients admitted to intensive care units at the Beth Israel Deaconness Medical Center in Boston, MA. \n",
        "All patients in the cohort stayed for at least 48 hours, and the goal of the prediction task is to predict in-hospital mortality. \n",
        "If you're interested, you can read more about the dataset [here](http://physionet.org/challenge/2012/).\n",
        "\n",
        "The data is originally provided as hourly observations for a number of variables, and the preprocessing step involved extracting summary statistics across all these observations.\n",
        "The outcome is the first column `hospitalmortality` (`0` means alive while discharge).\n",
        "The rest of the data are features you can use to predict this binary outcome.\n",
        "\n",
        "We will again try to build the classifier using logistic regression.\n",
        "You may want to use other algorithms such as AdaBoost, Random Forest, Bagging, and Gradient Boosting. \n",
        "Pick your favourite and play with the parameters to see how well you can do.\n",
        "\n",
        "First, we start from loading the data and look at all columns in the dataset---there are 182 possible predictors and an outcome variable.\n",
        "\n",
        "This time we read the data in a slightly different way using pandas `dataframe` format. \n",
        "pandas `dataframe` is useful for importing the tabular data/spreadsheet."
      ]
    },
    {
      "cell_type": "code",
      "metadata": {
        "colab_type": "code",
        "id": "EQPT1u6z2ZYQ",
        "outputId": "362a854f-a104-4342-bc5b-2d6be8c4e9b2",
        "colab": {
          "base_uri": "https://localhost:8080/",
          "height": 238
        }
      },
      "source": [
        "df = pd.read_csv('https://raw.githubusercontent.com/ckbjimmy/2019_bt/master/data/PhysionetChallenge2012_data.csv')\n",
        "df.head()"
      ],
      "execution_count": 0,
      "outputs": [
        {
          "output_type": "execute_result",
          "data": {
            "text/html": [
              "<div>\n",
              "<style scoped>\n",
              "    .dataframe tbody tr th:only-of-type {\n",
              "        vertical-align: middle;\n",
              "    }\n",
              "\n",
              "    .dataframe tbody tr th {\n",
              "        vertical-align: top;\n",
              "    }\n",
              "\n",
              "    .dataframe thead th {\n",
              "        text-align: right;\n",
              "    }\n",
              "</style>\n",
              "<table border=\"1\" class=\"dataframe\">\n",
              "  <thead>\n",
              "    <tr style=\"text-align: right;\">\n",
              "      <th></th>\n",
              "      <th>hospitalmortality</th>\n",
              "      <th>ALPMin</th>\n",
              "      <th>ALPMax</th>\n",
              "      <th>ALPFirst</th>\n",
              "      <th>ALPLast</th>\n",
              "      <th>ALPMedian</th>\n",
              "      <th>ALTMin</th>\n",
              "      <th>ALTMax</th>\n",
              "      <th>ALTFirst</th>\n",
              "      <th>ALTLast</th>\n",
              "      <th>ALTMedian</th>\n",
              "      <th>ASTMin</th>\n",
              "      <th>ASTMax</th>\n",
              "      <th>ASTFirst</th>\n",
              "      <th>ASTLast</th>\n",
              "      <th>ASTMedian</th>\n",
              "      <th>Age</th>\n",
              "      <th>AlbuminMin</th>\n",
              "      <th>AlbuminMax</th>\n",
              "      <th>AlbuminFirst</th>\n",
              "      <th>AlbuminLast</th>\n",
              "      <th>AlbuminMedian</th>\n",
              "      <th>BUNMin</th>\n",
              "      <th>BUNMax</th>\n",
              "      <th>BUNFirst</th>\n",
              "      <th>BUNLast</th>\n",
              "      <th>BUNMedian</th>\n",
              "      <th>BilirubinMin</th>\n",
              "      <th>BilirubinMax</th>\n",
              "      <th>BilirubinFirst</th>\n",
              "      <th>BilirubinLast</th>\n",
              "      <th>BilirubinMedian</th>\n",
              "      <th>CholesterolFirst</th>\n",
              "      <th>CholesterolLast</th>\n",
              "      <th>CreatinineMin</th>\n",
              "      <th>CreatinineMax</th>\n",
              "      <th>CreatinineFirst</th>\n",
              "      <th>CreatinineLast</th>\n",
              "      <th>CreatinineMedian</th>\n",
              "      <th>DiasABPMin</th>\n",
              "      <th>...</th>\n",
              "      <th>SaO2Last</th>\n",
              "      <th>SaO2Median</th>\n",
              "      <th>SysABPMin</th>\n",
              "      <th>SysABPMax</th>\n",
              "      <th>SysABPFirst</th>\n",
              "      <th>SysABPLast</th>\n",
              "      <th>SysABPMedian</th>\n",
              "      <th>TempMin</th>\n",
              "      <th>TempMax</th>\n",
              "      <th>TempFirst</th>\n",
              "      <th>TempLast</th>\n",
              "      <th>TempMedian</th>\n",
              "      <th>TroponinIFirst</th>\n",
              "      <th>TroponinILast</th>\n",
              "      <th>TroponinTFirst</th>\n",
              "      <th>TroponinTLast</th>\n",
              "      <th>UrineMin</th>\n",
              "      <th>UrineMax</th>\n",
              "      <th>UrineFirst</th>\n",
              "      <th>UrineLast</th>\n",
              "      <th>UrineMedian</th>\n",
              "      <th>WBCMin</th>\n",
              "      <th>WBCMax</th>\n",
              "      <th>WBCFirst</th>\n",
              "      <th>WBCLast</th>\n",
              "      <th>WBCMedian</th>\n",
              "      <th>WeightFirst</th>\n",
              "      <th>WeightLast</th>\n",
              "      <th>WeightInitMedian</th>\n",
              "      <th>pHMin</th>\n",
              "      <th>pHMax</th>\n",
              "      <th>pHFirst</th>\n",
              "      <th>pHLast</th>\n",
              "      <th>pHMedian</th>\n",
              "      <th>MechVentFirst</th>\n",
              "      <th>MechVentLast</th>\n",
              "      <th>MechVentMax</th>\n",
              "      <th>MechVentStartTime</th>\n",
              "      <th>MechVentDuration</th>\n",
              "      <th>TroponinMeasured</th>\n",
              "    </tr>\n",
              "  </thead>\n",
              "  <tbody>\n",
              "    <tr>\n",
              "      <th>0</th>\n",
              "      <td>0.0</td>\n",
              "      <td>NaN</td>\n",
              "      <td>NaN</td>\n",
              "      <td>NaN</td>\n",
              "      <td>NaN</td>\n",
              "      <td>NaN</td>\n",
              "      <td>NaN</td>\n",
              "      <td>NaN</td>\n",
              "      <td>NaN</td>\n",
              "      <td>NaN</td>\n",
              "      <td>NaN</td>\n",
              "      <td>NaN</td>\n",
              "      <td>NaN</td>\n",
              "      <td>NaN</td>\n",
              "      <td>NaN</td>\n",
              "      <td>NaN</td>\n",
              "      <td>54.0</td>\n",
              "      <td>NaN</td>\n",
              "      <td>NaN</td>\n",
              "      <td>NaN</td>\n",
              "      <td>NaN</td>\n",
              "      <td>NaN</td>\n",
              "      <td>8.0</td>\n",
              "      <td>13.0</td>\n",
              "      <td>13.0</td>\n",
              "      <td>8.0</td>\n",
              "      <td>10.5</td>\n",
              "      <td>NaN</td>\n",
              "      <td>NaN</td>\n",
              "      <td>NaN</td>\n",
              "      <td>NaN</td>\n",
              "      <td>NaN</td>\n",
              "      <td>NaN</td>\n",
              "      <td>NaN</td>\n",
              "      <td>0.7</td>\n",
              "      <td>0.8</td>\n",
              "      <td>0.8</td>\n",
              "      <td>0.7</td>\n",
              "      <td>0.75</td>\n",
              "      <td>NaN</td>\n",
              "      <td>...</td>\n",
              "      <td>NaN</td>\n",
              "      <td>NaN</td>\n",
              "      <td>NaN</td>\n",
              "      <td>NaN</td>\n",
              "      <td>NaN</td>\n",
              "      <td>NaN</td>\n",
              "      <td>NaN</td>\n",
              "      <td>35.1</td>\n",
              "      <td>38.2</td>\n",
              "      <td>35.1</td>\n",
              "      <td>37.8</td>\n",
              "      <td>37.70</td>\n",
              "      <td>NaN</td>\n",
              "      <td>NaN</td>\n",
              "      <td>NaN</td>\n",
              "      <td>NaN</td>\n",
              "      <td>0.0</td>\n",
              "      <td>900.0</td>\n",
              "      <td>900.0</td>\n",
              "      <td>280.0</td>\n",
              "      <td>100.0</td>\n",
              "      <td>9.4</td>\n",
              "      <td>11.2</td>\n",
              "      <td>11.2</td>\n",
              "      <td>9.4</td>\n",
              "      <td>10.3</td>\n",
              "      <td>NaN</td>\n",
              "      <td>NaN</td>\n",
              "      <td>NaN</td>\n",
              "      <td>NaN</td>\n",
              "      <td>NaN</td>\n",
              "      <td>NaN</td>\n",
              "      <td>NaN</td>\n",
              "      <td>NaN</td>\n",
              "      <td>0.0</td>\n",
              "      <td>0.0</td>\n",
              "      <td>0.0</td>\n",
              "      <td>0.0</td>\n",
              "      <td>0.0</td>\n",
              "      <td>0.0</td>\n",
              "    </tr>\n",
              "    <tr>\n",
              "      <th>1</th>\n",
              "      <td>0.0</td>\n",
              "      <td>NaN</td>\n",
              "      <td>NaN</td>\n",
              "      <td>NaN</td>\n",
              "      <td>NaN</td>\n",
              "      <td>NaN</td>\n",
              "      <td>NaN</td>\n",
              "      <td>NaN</td>\n",
              "      <td>NaN</td>\n",
              "      <td>NaN</td>\n",
              "      <td>NaN</td>\n",
              "      <td>NaN</td>\n",
              "      <td>NaN</td>\n",
              "      <td>NaN</td>\n",
              "      <td>NaN</td>\n",
              "      <td>NaN</td>\n",
              "      <td>76.0</td>\n",
              "      <td>NaN</td>\n",
              "      <td>NaN</td>\n",
              "      <td>NaN</td>\n",
              "      <td>NaN</td>\n",
              "      <td>NaN</td>\n",
              "      <td>16.0</td>\n",
              "      <td>21.0</td>\n",
              "      <td>16.0</td>\n",
              "      <td>21.0</td>\n",
              "      <td>18.0</td>\n",
              "      <td>NaN</td>\n",
              "      <td>NaN</td>\n",
              "      <td>NaN</td>\n",
              "      <td>NaN</td>\n",
              "      <td>NaN</td>\n",
              "      <td>NaN</td>\n",
              "      <td>NaN</td>\n",
              "      <td>0.8</td>\n",
              "      <td>1.3</td>\n",
              "      <td>0.8</td>\n",
              "      <td>1.3</td>\n",
              "      <td>1.20</td>\n",
              "      <td>32.0</td>\n",
              "      <td>...</td>\n",
              "      <td>97.0</td>\n",
              "      <td>97.0</td>\n",
              "      <td>66.0</td>\n",
              "      <td>138.0</td>\n",
              "      <td>105.0</td>\n",
              "      <td>103.0</td>\n",
              "      <td>116.5</td>\n",
              "      <td>34.5</td>\n",
              "      <td>37.9</td>\n",
              "      <td>35.2</td>\n",
              "      <td>37.1</td>\n",
              "      <td>37.45</td>\n",
              "      <td>NaN</td>\n",
              "      <td>NaN</td>\n",
              "      <td>NaN</td>\n",
              "      <td>NaN</td>\n",
              "      <td>0.0</td>\n",
              "      <td>770.0</td>\n",
              "      <td>770.0</td>\n",
              "      <td>220.0</td>\n",
              "      <td>90.0</td>\n",
              "      <td>7.4</td>\n",
              "      <td>13.3</td>\n",
              "      <td>7.4</td>\n",
              "      <td>13.3</td>\n",
              "      <td>13.1</td>\n",
              "      <td>80.6</td>\n",
              "      <td>81.6</td>\n",
              "      <td>76.0</td>\n",
              "      <td>7.34</td>\n",
              "      <td>7.45</td>\n",
              "      <td>7.45</td>\n",
              "      <td>7.37</td>\n",
              "      <td>7.4</td>\n",
              "      <td>1.0</td>\n",
              "      <td>0.0</td>\n",
              "      <td>1.0</td>\n",
              "      <td>71.0</td>\n",
              "      <td>360.0</td>\n",
              "      <td>0.0</td>\n",
              "    </tr>\n",
              "    <tr>\n",
              "      <th>2</th>\n",
              "      <td>0.0</td>\n",
              "      <td>105.0</td>\n",
              "      <td>127.0</td>\n",
              "      <td>127.0</td>\n",
              "      <td>105.0</td>\n",
              "      <td>116.0</td>\n",
              "      <td>75.0</td>\n",
              "      <td>91.0</td>\n",
              "      <td>91.0</td>\n",
              "      <td>75.0</td>\n",
              "      <td>83.0</td>\n",
              "      <td>164.0</td>\n",
              "      <td>235.0</td>\n",
              "      <td>235.0</td>\n",
              "      <td>164.0</td>\n",
              "      <td>199.5</td>\n",
              "      <td>44.0</td>\n",
              "      <td>2.3</td>\n",
              "      <td>2.7</td>\n",
              "      <td>2.7</td>\n",
              "      <td>2.3</td>\n",
              "      <td>2.5</td>\n",
              "      <td>3.0</td>\n",
              "      <td>8.0</td>\n",
              "      <td>8.0</td>\n",
              "      <td>3.0</td>\n",
              "      <td>3.0</td>\n",
              "      <td>2.8</td>\n",
              "      <td>3.0</td>\n",
              "      <td>3.0</td>\n",
              "      <td>2.8</td>\n",
              "      <td>2.9</td>\n",
              "      <td>NaN</td>\n",
              "      <td>NaN</td>\n",
              "      <td>0.3</td>\n",
              "      <td>0.4</td>\n",
              "      <td>0.4</td>\n",
              "      <td>0.3</td>\n",
              "      <td>0.30</td>\n",
              "      <td>52.0</td>\n",
              "      <td>...</td>\n",
              "      <td>95.0</td>\n",
              "      <td>95.0</td>\n",
              "      <td>103.0</td>\n",
              "      <td>148.0</td>\n",
              "      <td>148.0</td>\n",
              "      <td>126.0</td>\n",
              "      <td>125.0</td>\n",
              "      <td>36.7</td>\n",
              "      <td>39.0</td>\n",
              "      <td>37.8</td>\n",
              "      <td>37.2</td>\n",
              "      <td>37.85</td>\n",
              "      <td>NaN</td>\n",
              "      <td>NaN</td>\n",
              "      <td>NaN</td>\n",
              "      <td>NaN</td>\n",
              "      <td>18.0</td>\n",
              "      <td>425.0</td>\n",
              "      <td>100.0</td>\n",
              "      <td>35.0</td>\n",
              "      <td>100.0</td>\n",
              "      <td>3.7</td>\n",
              "      <td>6.2</td>\n",
              "      <td>4.2</td>\n",
              "      <td>6.2</td>\n",
              "      <td>4.2</td>\n",
              "      <td>56.7</td>\n",
              "      <td>56.7</td>\n",
              "      <td>56.7</td>\n",
              "      <td>7.47</td>\n",
              "      <td>7.51</td>\n",
              "      <td>7.51</td>\n",
              "      <td>7.47</td>\n",
              "      <td>7.5</td>\n",
              "      <td>0.0</td>\n",
              "      <td>1.0</td>\n",
              "      <td>1.0</td>\n",
              "      <td>617.0</td>\n",
              "      <td>2160.0</td>\n",
              "      <td>0.0</td>\n",
              "    </tr>\n",
              "    <tr>\n",
              "      <th>3</th>\n",
              "      <td>0.0</td>\n",
              "      <td>105.0</td>\n",
              "      <td>105.0</td>\n",
              "      <td>105.0</td>\n",
              "      <td>105.0</td>\n",
              "      <td>105.0</td>\n",
              "      <td>12.0</td>\n",
              "      <td>12.0</td>\n",
              "      <td>12.0</td>\n",
              "      <td>12.0</td>\n",
              "      <td>12.0</td>\n",
              "      <td>15.0</td>\n",
              "      <td>15.0</td>\n",
              "      <td>15.0</td>\n",
              "      <td>15.0</td>\n",
              "      <td>15.0</td>\n",
              "      <td>68.0</td>\n",
              "      <td>4.4</td>\n",
              "      <td>4.4</td>\n",
              "      <td>4.4</td>\n",
              "      <td>4.4</td>\n",
              "      <td>4.4</td>\n",
              "      <td>10.0</td>\n",
              "      <td>23.0</td>\n",
              "      <td>23.0</td>\n",
              "      <td>10.0</td>\n",
              "      <td>20.0</td>\n",
              "      <td>0.2</td>\n",
              "      <td>0.2</td>\n",
              "      <td>0.2</td>\n",
              "      <td>0.2</td>\n",
              "      <td>0.2</td>\n",
              "      <td>NaN</td>\n",
              "      <td>NaN</td>\n",
              "      <td>0.7</td>\n",
              "      <td>0.9</td>\n",
              "      <td>0.9</td>\n",
              "      <td>0.7</td>\n",
              "      <td>0.70</td>\n",
              "      <td>NaN</td>\n",
              "      <td>...</td>\n",
              "      <td>NaN</td>\n",
              "      <td>NaN</td>\n",
              "      <td>NaN</td>\n",
              "      <td>NaN</td>\n",
              "      <td>NaN</td>\n",
              "      <td>NaN</td>\n",
              "      <td>NaN</td>\n",
              "      <td>35.1</td>\n",
              "      <td>37.0</td>\n",
              "      <td>36.3</td>\n",
              "      <td>37.0</td>\n",
              "      <td>36.40</td>\n",
              "      <td>NaN</td>\n",
              "      <td>NaN</td>\n",
              "      <td>NaN</td>\n",
              "      <td>NaN</td>\n",
              "      <td>100.0</td>\n",
              "      <td>700.0</td>\n",
              "      <td>600.0</td>\n",
              "      <td>550.0</td>\n",
              "      <td>625.0</td>\n",
              "      <td>7.9</td>\n",
              "      <td>11.5</td>\n",
              "      <td>11.5</td>\n",
              "      <td>7.9</td>\n",
              "      <td>8.8</td>\n",
              "      <td>84.6</td>\n",
              "      <td>84.6</td>\n",
              "      <td>84.6</td>\n",
              "      <td>NaN</td>\n",
              "      <td>NaN</td>\n",
              "      <td>NaN</td>\n",
              "      <td>NaN</td>\n",
              "      <td>NaN</td>\n",
              "      <td>0.0</td>\n",
              "      <td>0.0</td>\n",
              "      <td>0.0</td>\n",
              "      <td>0.0</td>\n",
              "      <td>0.0</td>\n",
              "      <td>0.0</td>\n",
              "    </tr>\n",
              "    <tr>\n",
              "      <th>4</th>\n",
              "      <td>0.0</td>\n",
              "      <td>NaN</td>\n",
              "      <td>NaN</td>\n",
              "      <td>NaN</td>\n",
              "      <td>NaN</td>\n",
              "      <td>NaN</td>\n",
              "      <td>NaN</td>\n",
              "      <td>NaN</td>\n",
              "      <td>NaN</td>\n",
              "      <td>NaN</td>\n",
              "      <td>NaN</td>\n",
              "      <td>NaN</td>\n",
              "      <td>NaN</td>\n",
              "      <td>NaN</td>\n",
              "      <td>NaN</td>\n",
              "      <td>NaN</td>\n",
              "      <td>88.0</td>\n",
              "      <td>3.3</td>\n",
              "      <td>3.3</td>\n",
              "      <td>3.3</td>\n",
              "      <td>3.3</td>\n",
              "      <td>3.3</td>\n",
              "      <td>25.0</td>\n",
              "      <td>45.0</td>\n",
              "      <td>45.0</td>\n",
              "      <td>25.0</td>\n",
              "      <td>35.0</td>\n",
              "      <td>NaN</td>\n",
              "      <td>NaN</td>\n",
              "      <td>NaN</td>\n",
              "      <td>NaN</td>\n",
              "      <td>NaN</td>\n",
              "      <td>NaN</td>\n",
              "      <td>NaN</td>\n",
              "      <td>1.0</td>\n",
              "      <td>1.0</td>\n",
              "      <td>1.0</td>\n",
              "      <td>1.0</td>\n",
              "      <td>1.00</td>\n",
              "      <td>NaN</td>\n",
              "      <td>...</td>\n",
              "      <td>NaN</td>\n",
              "      <td>NaN</td>\n",
              "      <td>NaN</td>\n",
              "      <td>NaN</td>\n",
              "      <td>NaN</td>\n",
              "      <td>NaN</td>\n",
              "      <td>NaN</td>\n",
              "      <td>35.8</td>\n",
              "      <td>37.8</td>\n",
              "      <td>37.8</td>\n",
              "      <td>36.7</td>\n",
              "      <td>37.00</td>\n",
              "      <td>NaN</td>\n",
              "      <td>NaN</td>\n",
              "      <td>NaN</td>\n",
              "      <td>NaN</td>\n",
              "      <td>16.0</td>\n",
              "      <td>220.0</td>\n",
              "      <td>140.0</td>\n",
              "      <td>80.0</td>\n",
              "      <td>50.0</td>\n",
              "      <td>3.8</td>\n",
              "      <td>4.8</td>\n",
              "      <td>3.8</td>\n",
              "      <td>4.8</td>\n",
              "      <td>4.3</td>\n",
              "      <td>NaN</td>\n",
              "      <td>NaN</td>\n",
              "      <td>NaN</td>\n",
              "      <td>NaN</td>\n",
              "      <td>NaN</td>\n",
              "      <td>NaN</td>\n",
              "      <td>NaN</td>\n",
              "      <td>NaN</td>\n",
              "      <td>0.0</td>\n",
              "      <td>0.0</td>\n",
              "      <td>0.0</td>\n",
              "      <td>0.0</td>\n",
              "      <td>0.0</td>\n",
              "      <td>0.0</td>\n",
              "    </tr>\n",
              "  </tbody>\n",
              "</table>\n",
              "<p>5 rows × 183 columns</p>\n",
              "</div>"
            ],
            "text/plain": [
              "   hospitalmortality  ALPMin  ...  MechVentDuration  TroponinMeasured\n",
              "0                0.0     NaN  ...               0.0               0.0\n",
              "1                0.0     NaN  ...             360.0               0.0\n",
              "2                0.0   105.0  ...            2160.0               0.0\n",
              "3                0.0   105.0  ...               0.0               0.0\n",
              "4                0.0     NaN  ...               0.0               0.0\n",
              "\n",
              "[5 rows x 183 columns]"
            ]
          },
          "metadata": {
            "tags": []
          },
          "execution_count": 7
        }
      ]
    },
    {
      "cell_type": "code",
      "metadata": {
        "colab_type": "code",
        "id": "UpSdfcIS6N3T",
        "outputId": "b7424360-f862-4f15-8fd0-f94dad62740c",
        "colab": {
          "base_uri": "https://localhost:8080/",
          "height": 55
        }
      },
      "source": [
        "# check our features\n",
        "print([x for x in df.columns])"
      ],
      "execution_count": 0,
      "outputs": [
        {
          "output_type": "stream",
          "text": [
            "['hospitalmortality', 'ALPMin', 'ALPMax', 'ALPFirst', 'ALPLast', 'ALPMedian', 'ALTMin', 'ALTMax', 'ALTFirst', 'ALTLast', 'ALTMedian', 'ASTMin', 'ASTMax', 'ASTFirst', 'ASTLast', 'ASTMedian', 'Age', 'AlbuminMin', 'AlbuminMax', 'AlbuminFirst', 'AlbuminLast', 'AlbuminMedian', 'BUNMin', 'BUNMax', 'BUNFirst', 'BUNLast', 'BUNMedian', 'BilirubinMin', 'BilirubinMax', 'BilirubinFirst', 'BilirubinLast', 'BilirubinMedian', 'CholesterolFirst', 'CholesterolLast', 'CreatinineMin', 'CreatinineMax', 'CreatinineFirst', 'CreatinineLast', 'CreatinineMedian', 'DiasABPMin', 'DiasABPMax', 'DiasABPFirst', 'DiasABPLast', 'DiasABPMedian', 'FiO2Min', 'FiO2Max', 'FiO2First', 'FiO2Last', 'FiO2Median', 'GCSMin', 'GCSMax', 'GCSFirst', 'GCSLast', 'GCSMedian', 'Gender', 'GlucoseMin', 'GlucoseMax', 'GlucoseFirst', 'GlucoseLast', 'GlucoseMedian', 'HCO3Min', 'HCO3Max', 'HCO3First', 'HCO3Last', 'HCO3Median', 'HCTMin', 'HCTMax', 'HCTFirst', 'HCTLast', 'HCTMedian', 'HRMin', 'HRMax', 'HRFirst', 'HRLast', 'HRMedian', 'Height', 'CCU', 'CSRU', 'MICU', 'SICU', 'KMin', 'KMax', 'KFirst', 'KLast', 'KMedian', 'LactateMin', 'LactateMax', 'LactateFirst', 'LactateLast', 'LactateMedian', 'MAPMin', 'MAPMax', 'MAPFirst', 'MAPLast', 'MAPMedian', 'MgMin', 'MgMax', 'MgFirst', 'MgLast', 'MgMedian', 'NIDiasABPMin', 'NIDiasABPMax', 'NIDiasABPFirst', 'NIDiasABPLast', 'NIDiasABPMedian', 'NIMAPMin', 'NIMAPMax', 'NIMAPFirst', 'NIMAPLast', 'NIMAPMedian', 'NISysABPMin', 'NISysABPMax', 'NISysABPFirst', 'NISysABPLast', 'NISysABPMedian', 'NaMin', 'NaMax', 'NaFirst', 'NaLast', 'NaMedian', 'PaCO2Min', 'PaCO2Max', 'PaCO2First', 'PaCO2Last', 'PaCO2Median', 'PaO2Min', 'PaO2Max', 'PaO2First', 'PaO2Last', 'PaO2Median', 'PlateletsMin', 'PlateletsMax', 'PlateletsFirst', 'PlateletsLast', 'PlateletsMedian', 'RespRateMin', 'RespRateMax', 'RespRateFirst', 'RespRateLast', 'RespRateMedian', 'SaO2Min', 'SaO2Max', 'SaO2First', 'SaO2Last', 'SaO2Median', 'SysABPMin', 'SysABPMax', 'SysABPFirst', 'SysABPLast', 'SysABPMedian', 'TempMin', 'TempMax', 'TempFirst', 'TempLast', 'TempMedian', 'TroponinIFirst', 'TroponinILast', 'TroponinTFirst', 'TroponinTLast', 'UrineMin', 'UrineMax', 'UrineFirst', 'UrineLast', 'UrineMedian', 'WBCMin', 'WBCMax', 'WBCFirst', 'WBCLast', 'WBCMedian', 'WeightFirst', 'WeightLast', 'WeightInitMedian', 'pHMin', 'pHMax', 'pHFirst', 'pHLast', 'pHMedian', 'MechVentFirst', 'MechVentLast', 'MechVentMax', 'MechVentStartTime', 'MechVentDuration', 'TroponinMeasured']\n"
          ],
          "name": "stdout"
        }
      ]
    },
    {
      "cell_type": "markdown",
      "metadata": {
        "colab_type": "text",
        "id": "_gySSCmuBt0y"
      },
      "source": [
        "Next, we split features and outcome variables."
      ]
    },
    {
      "cell_type": "code",
      "metadata": {
        "colab_type": "code",
        "id": "EWP4-EAqxde1",
        "colab": {}
      },
      "source": [
        "# first column [0] is target (outcome variable)\n",
        "y = df['hospitalmortality'].values\n",
        "\n",
        "# second column onward [1:] are features \n",
        "X = df.drop(['hospitalmortality'], axis=1).values\n",
        "\n",
        "# we keep the feature name in X_header\n",
        "X_header = df.drop(['hospitalmortality'],axis=1).columns"
      ],
      "execution_count": 0,
      "outputs": []
    },
    {
      "cell_type": "code",
      "metadata": {
        "colab_type": "code",
        "id": "xWTgWn0bCC5c",
        "outputId": "2afac5ac-5ac6-44ce-96bb-0494b399d27f",
        "colab": {
          "base_uri": "https://localhost:8080/",
          "height": 315
        }
      },
      "source": [
        "# train a simple logistic regression, and...\n",
        "clf = LogisticRegression(fit_intercept=True).fit(X, y)"
      ],
      "execution_count": 0,
      "outputs": [
        {
          "output_type": "error",
          "ename": "ValueError",
          "evalue": "ignored",
          "traceback": [
            "\u001b[0;31m\u001b[0m",
            "\u001b[0;31mValueError\u001b[0mTraceback (most recent call last)",
            "\u001b[0;32m<ipython-input-10-e62c06311945>\u001b[0m in \u001b[0;36m<module>\u001b[0;34m()\u001b[0m\n\u001b[0;32m----> 1\u001b[0;31m \u001b[0mclf\u001b[0m \u001b[0;34m=\u001b[0m \u001b[0mLogisticRegression\u001b[0m\u001b[0;34m(\u001b[0m\u001b[0mfit_intercept\u001b[0m\u001b[0;34m=\u001b[0m\u001b[0mTrue\u001b[0m\u001b[0;34m)\u001b[0m\u001b[0;34m.\u001b[0m\u001b[0mfit\u001b[0m\u001b[0;34m(\u001b[0m\u001b[0mX\u001b[0m\u001b[0;34m,\u001b[0m \u001b[0my\u001b[0m\u001b[0;34m)\u001b[0m\u001b[0;34m\u001b[0m\u001b[0;34m\u001b[0m\u001b[0m\n\u001b[0m",
            "\u001b[0;32m/usr/local/lib/python2.7/dist-packages/sklearn/linear_model/logistic.pyc\u001b[0m in \u001b[0;36mfit\u001b[0;34m(self, X, y, sample_weight)\u001b[0m\n\u001b[1;32m   1286\u001b[0m \u001b[0;34m\u001b[0m\u001b[0m\n\u001b[1;32m   1287\u001b[0m         X, y = check_X_y(X, y, accept_sparse='csr', dtype=_dtype, order=\"C\",\n\u001b[0;32m-> 1288\u001b[0;31m                          accept_large_sparse=solver != 'liblinear')\n\u001b[0m\u001b[1;32m   1289\u001b[0m         \u001b[0mcheck_classification_targets\u001b[0m\u001b[0;34m(\u001b[0m\u001b[0my\u001b[0m\u001b[0;34m)\u001b[0m\u001b[0;34m\u001b[0m\u001b[0;34m\u001b[0m\u001b[0m\n\u001b[1;32m   1290\u001b[0m         \u001b[0mself\u001b[0m\u001b[0;34m.\u001b[0m\u001b[0mclasses_\u001b[0m \u001b[0;34m=\u001b[0m \u001b[0mnp\u001b[0m\u001b[0;34m.\u001b[0m\u001b[0munique\u001b[0m\u001b[0;34m(\u001b[0m\u001b[0my\u001b[0m\u001b[0;34m)\u001b[0m\u001b[0;34m\u001b[0m\u001b[0;34m\u001b[0m\u001b[0m\n",
            "\u001b[0;32m/usr/local/lib/python2.7/dist-packages/sklearn/utils/validation.pyc\u001b[0m in \u001b[0;36mcheck_X_y\u001b[0;34m(X, y, accept_sparse, accept_large_sparse, dtype, order, copy, force_all_finite, ensure_2d, allow_nd, multi_output, ensure_min_samples, ensure_min_features, y_numeric, warn_on_dtype, estimator)\u001b[0m\n\u001b[1;32m    754\u001b[0m                     \u001b[0mensure_min_features\u001b[0m\u001b[0;34m=\u001b[0m\u001b[0mensure_min_features\u001b[0m\u001b[0;34m,\u001b[0m\u001b[0;34m\u001b[0m\u001b[0;34m\u001b[0m\u001b[0m\n\u001b[1;32m    755\u001b[0m                     \u001b[0mwarn_on_dtype\u001b[0m\u001b[0;34m=\u001b[0m\u001b[0mwarn_on_dtype\u001b[0m\u001b[0;34m,\u001b[0m\u001b[0;34m\u001b[0m\u001b[0;34m\u001b[0m\u001b[0m\n\u001b[0;32m--> 756\u001b[0;31m                     estimator=estimator)\n\u001b[0m\u001b[1;32m    757\u001b[0m     \u001b[0;32mif\u001b[0m \u001b[0mmulti_output\u001b[0m\u001b[0;34m:\u001b[0m\u001b[0;34m\u001b[0m\u001b[0;34m\u001b[0m\u001b[0m\n\u001b[1;32m    758\u001b[0m         y = check_array(y, 'csr', force_all_finite=True, ensure_2d=False,\n",
            "\u001b[0;32m/usr/local/lib/python2.7/dist-packages/sklearn/utils/validation.pyc\u001b[0m in \u001b[0;36mcheck_array\u001b[0;34m(array, accept_sparse, accept_large_sparse, dtype, order, copy, force_all_finite, ensure_2d, allow_nd, ensure_min_samples, ensure_min_features, warn_on_dtype, estimator)\u001b[0m\n\u001b[1;32m    571\u001b[0m         \u001b[0;32mif\u001b[0m \u001b[0mforce_all_finite\u001b[0m\u001b[0;34m:\u001b[0m\u001b[0;34m\u001b[0m\u001b[0;34m\u001b[0m\u001b[0m\n\u001b[1;32m    572\u001b[0m             _assert_all_finite(array,\n\u001b[0;32m--> 573\u001b[0;31m                                allow_nan=force_all_finite == 'allow-nan')\n\u001b[0m\u001b[1;32m    574\u001b[0m \u001b[0;34m\u001b[0m\u001b[0m\n\u001b[1;32m    575\u001b[0m     \u001b[0mshape_repr\u001b[0m \u001b[0;34m=\u001b[0m \u001b[0m_shape_repr\u001b[0m\u001b[0;34m(\u001b[0m\u001b[0marray\u001b[0m\u001b[0;34m.\u001b[0m\u001b[0mshape\u001b[0m\u001b[0;34m)\u001b[0m\u001b[0;34m\u001b[0m\u001b[0;34m\u001b[0m\u001b[0m\n",
            "\u001b[0;32m/usr/local/lib/python2.7/dist-packages/sklearn/utils/validation.pyc\u001b[0m in \u001b[0;36m_assert_all_finite\u001b[0;34m(X, allow_nan)\u001b[0m\n\u001b[1;32m     54\u001b[0m                 not allow_nan and not np.isfinite(X).all()):\n\u001b[1;32m     55\u001b[0m             \u001b[0mtype_err\u001b[0m \u001b[0;34m=\u001b[0m \u001b[0;34m'infinity'\u001b[0m \u001b[0;32mif\u001b[0m \u001b[0mallow_nan\u001b[0m \u001b[0;32melse\u001b[0m \u001b[0;34m'NaN, infinity'\u001b[0m\u001b[0;34m\u001b[0m\u001b[0;34m\u001b[0m\u001b[0m\n\u001b[0;32m---> 56\u001b[0;31m             \u001b[0;32mraise\u001b[0m \u001b[0mValueError\u001b[0m\u001b[0;34m(\u001b[0m\u001b[0mmsg_err\u001b[0m\u001b[0;34m.\u001b[0m\u001b[0mformat\u001b[0m\u001b[0;34m(\u001b[0m\u001b[0mtype_err\u001b[0m\u001b[0;34m,\u001b[0m \u001b[0mX\u001b[0m\u001b[0;34m.\u001b[0m\u001b[0mdtype\u001b[0m\u001b[0;34m)\u001b[0m\u001b[0;34m)\u001b[0m\u001b[0;34m\u001b[0m\u001b[0;34m\u001b[0m\u001b[0m\n\u001b[0m\u001b[1;32m     57\u001b[0m \u001b[0;34m\u001b[0m\u001b[0m\n\u001b[1;32m     58\u001b[0m \u001b[0;34m\u001b[0m\u001b[0m\n",
            "\u001b[0;31mValueError\u001b[0m: Input contains NaN, infinity or a value too large for dtype('float64')."
          ]
        }
      ]
    },
    {
      "cell_type": "markdown",
      "metadata": {
        "colab_type": "text",
        "id": "w5pvjOujGT19"
      },
      "source": [
        "The above error of  `ValueError: Input contains NaN, infinity or a value too large for dtype('float64').` tells us that we have missing data! (Alistair: Dramatic music plays).\n",
        "\n",
        "Good thing about Google colab---they have a button for you to search stackoverflow.\n",
        "\n",
        "We then check the `NaN` using the transpose view---there are a lot `NaN` in our dataset."
      ]
    },
    {
      "cell_type": "code",
      "metadata": {
        "colab_type": "code",
        "id": "t_bOTDBexhap",
        "outputId": "adb8d8c8-b2ce-482a-8836-f1edb3dc4e9f",
        "colab": {
          "base_uri": "https://localhost:8080/",
          "height": 1000
        }
      },
      "source": [
        "df.head().T"
      ],
      "execution_count": 0,
      "outputs": [
        {
          "output_type": "execute_result",
          "data": {
            "text/html": [
              "<div>\n",
              "<style scoped>\n",
              "    .dataframe tbody tr th:only-of-type {\n",
              "        vertical-align: middle;\n",
              "    }\n",
              "\n",
              "    .dataframe tbody tr th {\n",
              "        vertical-align: top;\n",
              "    }\n",
              "\n",
              "    .dataframe thead th {\n",
              "        text-align: right;\n",
              "    }\n",
              "</style>\n",
              "<table border=\"1\" class=\"dataframe\">\n",
              "  <thead>\n",
              "    <tr style=\"text-align: right;\">\n",
              "      <th></th>\n",
              "      <th>0</th>\n",
              "      <th>1</th>\n",
              "      <th>2</th>\n",
              "      <th>3</th>\n",
              "      <th>4</th>\n",
              "    </tr>\n",
              "  </thead>\n",
              "  <tbody>\n",
              "    <tr>\n",
              "      <th>hospitalmortality</th>\n",
              "      <td>0.0</td>\n",
              "      <td>0.00</td>\n",
              "      <td>0.00</td>\n",
              "      <td>0.0</td>\n",
              "      <td>0.0</td>\n",
              "    </tr>\n",
              "    <tr>\n",
              "      <th>ALPMin</th>\n",
              "      <td>NaN</td>\n",
              "      <td>NaN</td>\n",
              "      <td>105.00</td>\n",
              "      <td>105.0</td>\n",
              "      <td>NaN</td>\n",
              "    </tr>\n",
              "    <tr>\n",
              "      <th>ALPMax</th>\n",
              "      <td>NaN</td>\n",
              "      <td>NaN</td>\n",
              "      <td>127.00</td>\n",
              "      <td>105.0</td>\n",
              "      <td>NaN</td>\n",
              "    </tr>\n",
              "    <tr>\n",
              "      <th>ALPFirst</th>\n",
              "      <td>NaN</td>\n",
              "      <td>NaN</td>\n",
              "      <td>127.00</td>\n",
              "      <td>105.0</td>\n",
              "      <td>NaN</td>\n",
              "    </tr>\n",
              "    <tr>\n",
              "      <th>ALPLast</th>\n",
              "      <td>NaN</td>\n",
              "      <td>NaN</td>\n",
              "      <td>105.00</td>\n",
              "      <td>105.0</td>\n",
              "      <td>NaN</td>\n",
              "    </tr>\n",
              "    <tr>\n",
              "      <th>ALPMedian</th>\n",
              "      <td>NaN</td>\n",
              "      <td>NaN</td>\n",
              "      <td>116.00</td>\n",
              "      <td>105.0</td>\n",
              "      <td>NaN</td>\n",
              "    </tr>\n",
              "    <tr>\n",
              "      <th>ALTMin</th>\n",
              "      <td>NaN</td>\n",
              "      <td>NaN</td>\n",
              "      <td>75.00</td>\n",
              "      <td>12.0</td>\n",
              "      <td>NaN</td>\n",
              "    </tr>\n",
              "    <tr>\n",
              "      <th>ALTMax</th>\n",
              "      <td>NaN</td>\n",
              "      <td>NaN</td>\n",
              "      <td>91.00</td>\n",
              "      <td>12.0</td>\n",
              "      <td>NaN</td>\n",
              "    </tr>\n",
              "    <tr>\n",
              "      <th>ALTFirst</th>\n",
              "      <td>NaN</td>\n",
              "      <td>NaN</td>\n",
              "      <td>91.00</td>\n",
              "      <td>12.0</td>\n",
              "      <td>NaN</td>\n",
              "    </tr>\n",
              "    <tr>\n",
              "      <th>ALTLast</th>\n",
              "      <td>NaN</td>\n",
              "      <td>NaN</td>\n",
              "      <td>75.00</td>\n",
              "      <td>12.0</td>\n",
              "      <td>NaN</td>\n",
              "    </tr>\n",
              "    <tr>\n",
              "      <th>ALTMedian</th>\n",
              "      <td>NaN</td>\n",
              "      <td>NaN</td>\n",
              "      <td>83.00</td>\n",
              "      <td>12.0</td>\n",
              "      <td>NaN</td>\n",
              "    </tr>\n",
              "    <tr>\n",
              "      <th>ASTMin</th>\n",
              "      <td>NaN</td>\n",
              "      <td>NaN</td>\n",
              "      <td>164.00</td>\n",
              "      <td>15.0</td>\n",
              "      <td>NaN</td>\n",
              "    </tr>\n",
              "    <tr>\n",
              "      <th>ASTMax</th>\n",
              "      <td>NaN</td>\n",
              "      <td>NaN</td>\n",
              "      <td>235.00</td>\n",
              "      <td>15.0</td>\n",
              "      <td>NaN</td>\n",
              "    </tr>\n",
              "    <tr>\n",
              "      <th>ASTFirst</th>\n",
              "      <td>NaN</td>\n",
              "      <td>NaN</td>\n",
              "      <td>235.00</td>\n",
              "      <td>15.0</td>\n",
              "      <td>NaN</td>\n",
              "    </tr>\n",
              "    <tr>\n",
              "      <th>ASTLast</th>\n",
              "      <td>NaN</td>\n",
              "      <td>NaN</td>\n",
              "      <td>164.00</td>\n",
              "      <td>15.0</td>\n",
              "      <td>NaN</td>\n",
              "    </tr>\n",
              "    <tr>\n",
              "      <th>ASTMedian</th>\n",
              "      <td>NaN</td>\n",
              "      <td>NaN</td>\n",
              "      <td>199.50</td>\n",
              "      <td>15.0</td>\n",
              "      <td>NaN</td>\n",
              "    </tr>\n",
              "    <tr>\n",
              "      <th>Age</th>\n",
              "      <td>54.0</td>\n",
              "      <td>76.00</td>\n",
              "      <td>44.00</td>\n",
              "      <td>68.0</td>\n",
              "      <td>88.0</td>\n",
              "    </tr>\n",
              "    <tr>\n",
              "      <th>AlbuminMin</th>\n",
              "      <td>NaN</td>\n",
              "      <td>NaN</td>\n",
              "      <td>2.30</td>\n",
              "      <td>4.4</td>\n",
              "      <td>3.3</td>\n",
              "    </tr>\n",
              "    <tr>\n",
              "      <th>AlbuminMax</th>\n",
              "      <td>NaN</td>\n",
              "      <td>NaN</td>\n",
              "      <td>2.70</td>\n",
              "      <td>4.4</td>\n",
              "      <td>3.3</td>\n",
              "    </tr>\n",
              "    <tr>\n",
              "      <th>AlbuminFirst</th>\n",
              "      <td>NaN</td>\n",
              "      <td>NaN</td>\n",
              "      <td>2.70</td>\n",
              "      <td>4.4</td>\n",
              "      <td>3.3</td>\n",
              "    </tr>\n",
              "    <tr>\n",
              "      <th>AlbuminLast</th>\n",
              "      <td>NaN</td>\n",
              "      <td>NaN</td>\n",
              "      <td>2.30</td>\n",
              "      <td>4.4</td>\n",
              "      <td>3.3</td>\n",
              "    </tr>\n",
              "    <tr>\n",
              "      <th>AlbuminMedian</th>\n",
              "      <td>NaN</td>\n",
              "      <td>NaN</td>\n",
              "      <td>2.50</td>\n",
              "      <td>4.4</td>\n",
              "      <td>3.3</td>\n",
              "    </tr>\n",
              "    <tr>\n",
              "      <th>BUNMin</th>\n",
              "      <td>8.0</td>\n",
              "      <td>16.00</td>\n",
              "      <td>3.00</td>\n",
              "      <td>10.0</td>\n",
              "      <td>25.0</td>\n",
              "    </tr>\n",
              "    <tr>\n",
              "      <th>BUNMax</th>\n",
              "      <td>13.0</td>\n",
              "      <td>21.00</td>\n",
              "      <td>8.00</td>\n",
              "      <td>23.0</td>\n",
              "      <td>45.0</td>\n",
              "    </tr>\n",
              "    <tr>\n",
              "      <th>BUNFirst</th>\n",
              "      <td>13.0</td>\n",
              "      <td>16.00</td>\n",
              "      <td>8.00</td>\n",
              "      <td>23.0</td>\n",
              "      <td>45.0</td>\n",
              "    </tr>\n",
              "    <tr>\n",
              "      <th>BUNLast</th>\n",
              "      <td>8.0</td>\n",
              "      <td>21.00</td>\n",
              "      <td>3.00</td>\n",
              "      <td>10.0</td>\n",
              "      <td>25.0</td>\n",
              "    </tr>\n",
              "    <tr>\n",
              "      <th>BUNMedian</th>\n",
              "      <td>10.5</td>\n",
              "      <td>18.00</td>\n",
              "      <td>3.00</td>\n",
              "      <td>20.0</td>\n",
              "      <td>35.0</td>\n",
              "    </tr>\n",
              "    <tr>\n",
              "      <th>BilirubinMin</th>\n",
              "      <td>NaN</td>\n",
              "      <td>NaN</td>\n",
              "      <td>2.80</td>\n",
              "      <td>0.2</td>\n",
              "      <td>NaN</td>\n",
              "    </tr>\n",
              "    <tr>\n",
              "      <th>BilirubinMax</th>\n",
              "      <td>NaN</td>\n",
              "      <td>NaN</td>\n",
              "      <td>3.00</td>\n",
              "      <td>0.2</td>\n",
              "      <td>NaN</td>\n",
              "    </tr>\n",
              "    <tr>\n",
              "      <th>BilirubinFirst</th>\n",
              "      <td>NaN</td>\n",
              "      <td>NaN</td>\n",
              "      <td>3.00</td>\n",
              "      <td>0.2</td>\n",
              "      <td>NaN</td>\n",
              "    </tr>\n",
              "    <tr>\n",
              "      <th>...</th>\n",
              "      <td>...</td>\n",
              "      <td>...</td>\n",
              "      <td>...</td>\n",
              "      <td>...</td>\n",
              "      <td>...</td>\n",
              "    </tr>\n",
              "    <tr>\n",
              "      <th>TempLast</th>\n",
              "      <td>37.8</td>\n",
              "      <td>37.10</td>\n",
              "      <td>37.20</td>\n",
              "      <td>37.0</td>\n",
              "      <td>36.7</td>\n",
              "    </tr>\n",
              "    <tr>\n",
              "      <th>TempMedian</th>\n",
              "      <td>37.7</td>\n",
              "      <td>37.45</td>\n",
              "      <td>37.85</td>\n",
              "      <td>36.4</td>\n",
              "      <td>37.0</td>\n",
              "    </tr>\n",
              "    <tr>\n",
              "      <th>TroponinIFirst</th>\n",
              "      <td>NaN</td>\n",
              "      <td>NaN</td>\n",
              "      <td>NaN</td>\n",
              "      <td>NaN</td>\n",
              "      <td>NaN</td>\n",
              "    </tr>\n",
              "    <tr>\n",
              "      <th>TroponinILast</th>\n",
              "      <td>NaN</td>\n",
              "      <td>NaN</td>\n",
              "      <td>NaN</td>\n",
              "      <td>NaN</td>\n",
              "      <td>NaN</td>\n",
              "    </tr>\n",
              "    <tr>\n",
              "      <th>TroponinTFirst</th>\n",
              "      <td>NaN</td>\n",
              "      <td>NaN</td>\n",
              "      <td>NaN</td>\n",
              "      <td>NaN</td>\n",
              "      <td>NaN</td>\n",
              "    </tr>\n",
              "    <tr>\n",
              "      <th>TroponinTLast</th>\n",
              "      <td>NaN</td>\n",
              "      <td>NaN</td>\n",
              "      <td>NaN</td>\n",
              "      <td>NaN</td>\n",
              "      <td>NaN</td>\n",
              "    </tr>\n",
              "    <tr>\n",
              "      <th>UrineMin</th>\n",
              "      <td>0.0</td>\n",
              "      <td>0.00</td>\n",
              "      <td>18.00</td>\n",
              "      <td>100.0</td>\n",
              "      <td>16.0</td>\n",
              "    </tr>\n",
              "    <tr>\n",
              "      <th>UrineMax</th>\n",
              "      <td>900.0</td>\n",
              "      <td>770.00</td>\n",
              "      <td>425.00</td>\n",
              "      <td>700.0</td>\n",
              "      <td>220.0</td>\n",
              "    </tr>\n",
              "    <tr>\n",
              "      <th>UrineFirst</th>\n",
              "      <td>900.0</td>\n",
              "      <td>770.00</td>\n",
              "      <td>100.00</td>\n",
              "      <td>600.0</td>\n",
              "      <td>140.0</td>\n",
              "    </tr>\n",
              "    <tr>\n",
              "      <th>UrineLast</th>\n",
              "      <td>280.0</td>\n",
              "      <td>220.00</td>\n",
              "      <td>35.00</td>\n",
              "      <td>550.0</td>\n",
              "      <td>80.0</td>\n",
              "    </tr>\n",
              "    <tr>\n",
              "      <th>UrineMedian</th>\n",
              "      <td>100.0</td>\n",
              "      <td>90.00</td>\n",
              "      <td>100.00</td>\n",
              "      <td>625.0</td>\n",
              "      <td>50.0</td>\n",
              "    </tr>\n",
              "    <tr>\n",
              "      <th>WBCMin</th>\n",
              "      <td>9.4</td>\n",
              "      <td>7.40</td>\n",
              "      <td>3.70</td>\n",
              "      <td>7.9</td>\n",
              "      <td>3.8</td>\n",
              "    </tr>\n",
              "    <tr>\n",
              "      <th>WBCMax</th>\n",
              "      <td>11.2</td>\n",
              "      <td>13.30</td>\n",
              "      <td>6.20</td>\n",
              "      <td>11.5</td>\n",
              "      <td>4.8</td>\n",
              "    </tr>\n",
              "    <tr>\n",
              "      <th>WBCFirst</th>\n",
              "      <td>11.2</td>\n",
              "      <td>7.40</td>\n",
              "      <td>4.20</td>\n",
              "      <td>11.5</td>\n",
              "      <td>3.8</td>\n",
              "    </tr>\n",
              "    <tr>\n",
              "      <th>WBCLast</th>\n",
              "      <td>9.4</td>\n",
              "      <td>13.30</td>\n",
              "      <td>6.20</td>\n",
              "      <td>7.9</td>\n",
              "      <td>4.8</td>\n",
              "    </tr>\n",
              "    <tr>\n",
              "      <th>WBCMedian</th>\n",
              "      <td>10.3</td>\n",
              "      <td>13.10</td>\n",
              "      <td>4.20</td>\n",
              "      <td>8.8</td>\n",
              "      <td>4.3</td>\n",
              "    </tr>\n",
              "    <tr>\n",
              "      <th>WeightFirst</th>\n",
              "      <td>NaN</td>\n",
              "      <td>80.60</td>\n",
              "      <td>56.70</td>\n",
              "      <td>84.6</td>\n",
              "      <td>NaN</td>\n",
              "    </tr>\n",
              "    <tr>\n",
              "      <th>WeightLast</th>\n",
              "      <td>NaN</td>\n",
              "      <td>81.60</td>\n",
              "      <td>56.70</td>\n",
              "      <td>84.6</td>\n",
              "      <td>NaN</td>\n",
              "    </tr>\n",
              "    <tr>\n",
              "      <th>WeightInitMedian</th>\n",
              "      <td>NaN</td>\n",
              "      <td>76.00</td>\n",
              "      <td>56.70</td>\n",
              "      <td>84.6</td>\n",
              "      <td>NaN</td>\n",
              "    </tr>\n",
              "    <tr>\n",
              "      <th>pHMin</th>\n",
              "      <td>NaN</td>\n",
              "      <td>7.34</td>\n",
              "      <td>7.47</td>\n",
              "      <td>NaN</td>\n",
              "      <td>NaN</td>\n",
              "    </tr>\n",
              "    <tr>\n",
              "      <th>pHMax</th>\n",
              "      <td>NaN</td>\n",
              "      <td>7.45</td>\n",
              "      <td>7.51</td>\n",
              "      <td>NaN</td>\n",
              "      <td>NaN</td>\n",
              "    </tr>\n",
              "    <tr>\n",
              "      <th>pHFirst</th>\n",
              "      <td>NaN</td>\n",
              "      <td>7.45</td>\n",
              "      <td>7.51</td>\n",
              "      <td>NaN</td>\n",
              "      <td>NaN</td>\n",
              "    </tr>\n",
              "    <tr>\n",
              "      <th>pHLast</th>\n",
              "      <td>NaN</td>\n",
              "      <td>7.37</td>\n",
              "      <td>7.47</td>\n",
              "      <td>NaN</td>\n",
              "      <td>NaN</td>\n",
              "    </tr>\n",
              "    <tr>\n",
              "      <th>pHMedian</th>\n",
              "      <td>NaN</td>\n",
              "      <td>7.40</td>\n",
              "      <td>7.50</td>\n",
              "      <td>NaN</td>\n",
              "      <td>NaN</td>\n",
              "    </tr>\n",
              "    <tr>\n",
              "      <th>MechVentFirst</th>\n",
              "      <td>0.0</td>\n",
              "      <td>1.00</td>\n",
              "      <td>0.00</td>\n",
              "      <td>0.0</td>\n",
              "      <td>0.0</td>\n",
              "    </tr>\n",
              "    <tr>\n",
              "      <th>MechVentLast</th>\n",
              "      <td>0.0</td>\n",
              "      <td>0.00</td>\n",
              "      <td>1.00</td>\n",
              "      <td>0.0</td>\n",
              "      <td>0.0</td>\n",
              "    </tr>\n",
              "    <tr>\n",
              "      <th>MechVentMax</th>\n",
              "      <td>0.0</td>\n",
              "      <td>1.00</td>\n",
              "      <td>1.00</td>\n",
              "      <td>0.0</td>\n",
              "      <td>0.0</td>\n",
              "    </tr>\n",
              "    <tr>\n",
              "      <th>MechVentStartTime</th>\n",
              "      <td>0.0</td>\n",
              "      <td>71.00</td>\n",
              "      <td>617.00</td>\n",
              "      <td>0.0</td>\n",
              "      <td>0.0</td>\n",
              "    </tr>\n",
              "    <tr>\n",
              "      <th>MechVentDuration</th>\n",
              "      <td>0.0</td>\n",
              "      <td>360.00</td>\n",
              "      <td>2160.00</td>\n",
              "      <td>0.0</td>\n",
              "      <td>0.0</td>\n",
              "    </tr>\n",
              "    <tr>\n",
              "      <th>TroponinMeasured</th>\n",
              "      <td>0.0</td>\n",
              "      <td>0.00</td>\n",
              "      <td>0.00</td>\n",
              "      <td>0.0</td>\n",
              "      <td>0.0</td>\n",
              "    </tr>\n",
              "  </tbody>\n",
              "</table>\n",
              "<p>183 rows × 5 columns</p>\n",
              "</div>"
            ],
            "text/plain": [
              "                       0       1        2      3      4\n",
              "hospitalmortality    0.0    0.00     0.00    0.0    0.0\n",
              "ALPMin               NaN     NaN   105.00  105.0    NaN\n",
              "ALPMax               NaN     NaN   127.00  105.0    NaN\n",
              "ALPFirst             NaN     NaN   127.00  105.0    NaN\n",
              "ALPLast              NaN     NaN   105.00  105.0    NaN\n",
              "ALPMedian            NaN     NaN   116.00  105.0    NaN\n",
              "ALTMin               NaN     NaN    75.00   12.0    NaN\n",
              "ALTMax               NaN     NaN    91.00   12.0    NaN\n",
              "ALTFirst             NaN     NaN    91.00   12.0    NaN\n",
              "ALTLast              NaN     NaN    75.00   12.0    NaN\n",
              "ALTMedian            NaN     NaN    83.00   12.0    NaN\n",
              "ASTMin               NaN     NaN   164.00   15.0    NaN\n",
              "ASTMax               NaN     NaN   235.00   15.0    NaN\n",
              "ASTFirst             NaN     NaN   235.00   15.0    NaN\n",
              "ASTLast              NaN     NaN   164.00   15.0    NaN\n",
              "ASTMedian            NaN     NaN   199.50   15.0    NaN\n",
              "Age                 54.0   76.00    44.00   68.0   88.0\n",
              "AlbuminMin           NaN     NaN     2.30    4.4    3.3\n",
              "AlbuminMax           NaN     NaN     2.70    4.4    3.3\n",
              "AlbuminFirst         NaN     NaN     2.70    4.4    3.3\n",
              "AlbuminLast          NaN     NaN     2.30    4.4    3.3\n",
              "AlbuminMedian        NaN     NaN     2.50    4.4    3.3\n",
              "BUNMin               8.0   16.00     3.00   10.0   25.0\n",
              "BUNMax              13.0   21.00     8.00   23.0   45.0\n",
              "BUNFirst            13.0   16.00     8.00   23.0   45.0\n",
              "BUNLast              8.0   21.00     3.00   10.0   25.0\n",
              "BUNMedian           10.5   18.00     3.00   20.0   35.0\n",
              "BilirubinMin         NaN     NaN     2.80    0.2    NaN\n",
              "BilirubinMax         NaN     NaN     3.00    0.2    NaN\n",
              "BilirubinFirst       NaN     NaN     3.00    0.2    NaN\n",
              "...                  ...     ...      ...    ...    ...\n",
              "TempLast            37.8   37.10    37.20   37.0   36.7\n",
              "TempMedian          37.7   37.45    37.85   36.4   37.0\n",
              "TroponinIFirst       NaN     NaN      NaN    NaN    NaN\n",
              "TroponinILast        NaN     NaN      NaN    NaN    NaN\n",
              "TroponinTFirst       NaN     NaN      NaN    NaN    NaN\n",
              "TroponinTLast        NaN     NaN      NaN    NaN    NaN\n",
              "UrineMin             0.0    0.00    18.00  100.0   16.0\n",
              "UrineMax           900.0  770.00   425.00  700.0  220.0\n",
              "UrineFirst         900.0  770.00   100.00  600.0  140.0\n",
              "UrineLast          280.0  220.00    35.00  550.0   80.0\n",
              "UrineMedian        100.0   90.00   100.00  625.0   50.0\n",
              "WBCMin               9.4    7.40     3.70    7.9    3.8\n",
              "WBCMax              11.2   13.30     6.20   11.5    4.8\n",
              "WBCFirst            11.2    7.40     4.20   11.5    3.8\n",
              "WBCLast              9.4   13.30     6.20    7.9    4.8\n",
              "WBCMedian           10.3   13.10     4.20    8.8    4.3\n",
              "WeightFirst          NaN   80.60    56.70   84.6    NaN\n",
              "WeightLast           NaN   81.60    56.70   84.6    NaN\n",
              "WeightInitMedian     NaN   76.00    56.70   84.6    NaN\n",
              "pHMin                NaN    7.34     7.47    NaN    NaN\n",
              "pHMax                NaN    7.45     7.51    NaN    NaN\n",
              "pHFirst              NaN    7.45     7.51    NaN    NaN\n",
              "pHLast               NaN    7.37     7.47    NaN    NaN\n",
              "pHMedian             NaN    7.40     7.50    NaN    NaN\n",
              "MechVentFirst        0.0    1.00     0.00    0.0    0.0\n",
              "MechVentLast         0.0    0.00     1.00    0.0    0.0\n",
              "MechVentMax          0.0    1.00     1.00    0.0    0.0\n",
              "MechVentStartTime    0.0   71.00   617.00    0.0    0.0\n",
              "MechVentDuration     0.0  360.00  2160.00    0.0    0.0\n",
              "TroponinMeasured     0.0    0.00     0.00    0.0    0.0\n",
              "\n",
              "[183 rows x 5 columns]"
            ]
          },
          "metadata": {
            "tags": []
          },
          "execution_count": 11
        }
      ]
    },
    {
      "cell_type": "markdown",
      "metadata": {
        "colab_type": "text",
        "id": "Sswvrj6CGZax"
      },
      "source": [
        "### Missing data imputation\n",
        "\n",
        "In the above transposed view, we can see a few of the missing values for all predictors. \n",
        "There are many methods which can be used for missing data imputation. \n",
        "Of those tools, many of them are available in the `imputer` module of scikit-learn.\n",
        "\n",
        "Here is a [brief tutorial of imputing missing values](http://scikit-learn.org/stable/modules/preprocessing.html#imputation).\n",
        "\n",
        "You can [read more about the imputer module here](http://scikit-learn.org/stable/modules/generated/sklearn.preprocessing.Imputer.html).\n",
        "\n",
        "We choose to take a reasonably simple approach, and replace all missing values (`'NaN'`) with the mean value of observed measurements (`strategy='mean'`)."
      ]
    },
    {
      "cell_type": "code",
      "metadata": {
        "colab_type": "code",
        "id": "Uq9Lo9PVGZ1T",
        "outputId": "ef7e6dce-63e4-4f2f-ff47-226fb670a7f4",
        "colab": {
          "base_uri": "https://localhost:8080/",
          "height": 72
        }
      },
      "source": [
        "# define the method of imputation\n",
        "imp = Imputer(missing_values='NaN', strategy='mean', axis=0)\n",
        "\n",
        "# learn the parameters of that imputation using our data X\n",
        "# i.e., in our case, calculate the means of each column which we will use to impute data\n",
        "imp = imp.fit(X)\n",
        "\n",
        "# apply that imputation\n",
        "X_transform = imp.transform(X)"
      ],
      "execution_count": 0,
      "outputs": [
        {
          "output_type": "stream",
          "text": [
            "/usr/local/lib/python2.7/dist-packages/sklearn/utils/deprecation.py:58: DeprecationWarning: Class Imputer is deprecated; Imputer was deprecated in version 0.20 and will be removed in 0.22. Import impute.SimpleImputer from sklearn instead.\n",
            "  warnings.warn(msg, category=DeprecationWarning)\n"
          ],
          "name": "stderr"
        }
      ]
    },
    {
      "cell_type": "markdown",
      "metadata": {
        "colab_type": "text",
        "id": "tEh-oQJcGe2X"
      },
      "source": [
        "We can now see that our missing data has been replaced:"
      ]
    },
    {
      "cell_type": "code",
      "metadata": {
        "colab_type": "code",
        "id": "VVgBO_WLGbt8",
        "outputId": "ee39e8c2-47ac-4337-c8d6-6189d176fb1d",
        "colab": {
          "base_uri": "https://localhost:8080/",
          "height": 70
        }
      },
      "source": [
        "print('Before:', end='')\n",
        "print(X[0:10, 0])\n",
        "\n",
        "print('After:', end='')\n",
        "print(X_transform[0:10, 3])"
      ],
      "execution_count": 0,
      "outputs": [
        {
          "output_type": "stream",
          "text": [
            "Before:[ nan  nan 105. 105.  nan 101.  nan  47.  nan  nan]\n",
            "After:[104.30236686 104.30236686 105.         105.         104.30236686\n",
            " 101.         104.30236686  47.         104.30236686 104.30236686]\n"
          ],
          "name": "stdout"
        }
      ]
    },
    {
      "cell_type": "markdown",
      "metadata": {
        "colab_type": "text",
        "id": "X0LKlXbCGhz6"
      },
      "source": [
        "For linear models (e.g. logistic regression), this will be roughly equivalent to imputing the average risk for this feature for patients missing that data.\n",
        "\n",
        "We can now train a model on the data!"
      ]
    },
    {
      "cell_type": "code",
      "metadata": {
        "colab_type": "code",
        "id": "ZB_vwBdFGg8W",
        "outputId": "3241a386-edf0-4a4a-9fb1-d78008b601f3",
        "colab": {
          "base_uri": "https://localhost:8080/",
          "height": 142
        }
      },
      "source": [
        "clf = LogisticRegression(fit_intercept=True)\n",
        "clf.fit(X_transform, y)"
      ],
      "execution_count": 0,
      "outputs": [
        {
          "output_type": "stream",
          "text": [
            "/usr/local/lib/python2.7/dist-packages/sklearn/svm/base.py:931: ConvergenceWarning: Liblinear failed to converge, increase the number of iterations.\n",
            "  \"the number of iterations.\", ConvergenceWarning)\n"
          ],
          "name": "stderr"
        },
        {
          "output_type": "execute_result",
          "data": {
            "text/plain": [
              "LogisticRegression(C=1.0, class_weight=None, dual=False, fit_intercept=True,\n",
              "          intercept_scaling=1, max_iter=100, multi_class='warn',\n",
              "          n_jobs=None, penalty='l2', random_state=None, solver='warn',\n",
              "          tol=0.0001, verbose=0, warm_start=False)"
            ]
          },
          "metadata": {
            "tags": []
          },
          "execution_count": 14
        }
      ]
    },
    {
      "cell_type": "markdown",
      "metadata": {
        "colab_type": "text",
        "id": "u_-jhZknGnUL"
      },
      "source": [
        "We then evaluate the model using the AUROC again. \n",
        "An AUROC = 0.5 represents a random classifier making random predictions, while an AUROC = 1.0 represents a perfect classifier which always outputs the correct prediction."
      ]
    },
    {
      "cell_type": "code",
      "metadata": {
        "colab_type": "code",
        "id": "LKMu6Uu3GlTZ",
        "outputId": "a4a017ca-586a-4a46-e490-7e30af86c989",
        "colab": {
          "base_uri": "https://localhost:8080/",
          "height": 35
        }
      },
      "source": [
        "yhat = clf.predict_proba(X_transform)[:,1]\n",
        "auc = metrics.roc_auc_score(y, yhat)\n",
        "\n",
        "print('{:0.3f} - AUROC of model (training set).'.format(auc))"
      ],
      "execution_count": 0,
      "outputs": [
        {
          "output_type": "stream",
          "text": [
            "0.877 - AUROC of model (training set).\n"
          ],
          "name": "stdout"
        }
      ]
    },
    {
      "cell_type": "markdown",
      "metadata": {
        "colab_type": "text",
        "id": "tRgkyC2tGsJE"
      },
      "source": [
        "### Normalizartion / Find the important features\n",
        "\n",
        "Let's dig into the model to determine what is driving the predictions. \n",
        "In healthcare applications, model interpretability is very important as it can be used to validate the model's construct validity."
      ]
    },
    {
      "cell_type": "code",
      "metadata": {
        "colab_type": "code",
        "id": "EA2zqiAyGphk",
        "outputId": "bc4bde90-b2ea-40fd-d0d2-2256176ebcc8",
        "colab": {
          "base_uri": "https://localhost:8080/",
          "height": 245
        }
      },
      "source": [
        "# plot the coefficients\n",
        "coef = np.row_stack([df.columns[1:], clf.coef_]).T\n",
        "\n",
        "idxSort = np.argsort(coef[:,1])\n",
        "\n",
        "print('Top 5 predictors negatively correlated with mortality:')\n",
        "for n in range(5):\n",
        "    print('{:1.2f} - {}'.format(coef[idxSort[n],1], coef[idxSort[n],0]))\n",
        "    \n",
        "print()\n",
        "print('Top 5 predictors positively correlated with mortality:')\n",
        "for n in range(5):\n",
        "    print('{:1.2f} - {}'.format(coef[idxSort[-n-1],1], coef[idxSort[-n-1],0]))"
      ],
      "execution_count": 0,
      "outputs": [
        {
          "output_type": "stream",
          "text": [
            "Top 5 predictors negatively correlated with mortality:\n",
            "-0.35 - TempMedian\n",
            "-0.34 - CSRU\n",
            "-0.29 - BilirubinFirst\n",
            "-0.24 - GCSLast\n",
            "-0.21 - MechVentFirst\n",
            "\n",
            "Top 5 predictors positively correlated with mortality:\n",
            "0.42 - TroponinMeasured\n",
            "0.26 - FiO2Last\n",
            "0.25 - FiO2Median\n",
            "0.22 - SICU\n",
            "0.21 - MICU\n"
          ],
          "name": "stdout"
        }
      ]
    },
    {
      "cell_type": "markdown",
      "metadata": {
        "colab_type": "text",
        "id": "EmZiT6wSGwiq"
      },
      "source": [
        "One issue with these coefficients is that they are unadjusted---that is they are based on the original scale of the data. \n",
        "For example, the coefficient for FiO2, shown in percentage (0-100), will likely be ~100 times higher than the coefficient for mechanical ventilation (0/1). \n",
        "While this is fine for modelling purposes, it also means we can't directly compare the magnitudes of the coefficients to determine the magnitude of the association between the feature and risk.\n",
        "\n",
        "Of course there is a solution! \n",
        "We can scale the data using `StandardScaler` function in scikit-learn."
      ]
    },
    {
      "cell_type": "code",
      "metadata": {
        "colab_type": "code",
        "id": "H0Am8ZdKGuSJ",
        "outputId": "d54508fc-7270-45be-8949-76d648407496",
        "colab": {
          "base_uri": "https://localhost:8080/",
          "height": 72
        }
      },
      "source": [
        "# problem: the above coefficients all operate on different scales\n",
        "# solution: scale the data before we use it in the model\n",
        "imp = Imputer(missing_values='NaN', strategy=\"mean\", axis=0)\n",
        "imp = imp.fit(X)\n",
        "X_transform = imp.transform(X)\n",
        "\n",
        "scale = StandardScaler()\n",
        "scale = scale.fit(X_transform)\n",
        "X_transform = scale.transform(X_transform)"
      ],
      "execution_count": 0,
      "outputs": [
        {
          "output_type": "stream",
          "text": [
            "/usr/local/lib/python2.7/dist-packages/sklearn/utils/deprecation.py:58: DeprecationWarning: Class Imputer is deprecated; Imputer was deprecated in version 0.20 and will be removed in 0.22. Import impute.SimpleImputer from sklearn instead.\n",
            "  warnings.warn(msg, category=DeprecationWarning)\n"
          ],
          "name": "stderr"
        }
      ]
    },
    {
      "cell_type": "code",
      "metadata": {
        "colab_type": "code",
        "id": "82Hx6umqGzUx",
        "outputId": "0aeb28c2-f91a-4c4e-cafe-c3444f033665",
        "colab": {
          "base_uri": "https://localhost:8080/",
          "height": 262
        }
      },
      "source": [
        "# fit the model on scaled data\n",
        "clf = LogisticRegression(fit_intercept=True)\n",
        "clf = clf.fit(X_transform, y)\n",
        "\n",
        "# evaluate the model\n",
        "yhat = clf.predict_proba(X_transform)[:,1]\n",
        "auc = metrics.roc_auc_score(y, yhat)\n",
        "\n",
        "print('{:0.3f} - AUROC of model (training set).'.format(auc))\n",
        "\n",
        "# print the coefficients\n",
        "coef = np.row_stack([df.columns[1:], clf.coef_]).T\n",
        "idxSort = np.argsort(coef[:,1])\n",
        "\n",
        "print('Top 5 predictors negatively correlated with mortality:')\n",
        "for n in range(5):\n",
        "    print('{:1.2f} - {}'.format(coef[idxSort[n],1], coef[idxSort[n],0]))\n",
        "    \n",
        "print()\n",
        "print('Top 5 predictors positively correlated with mortality:')\n",
        "for n in range(5):\n",
        "    print('{:1.2f} - {}'.format(coef[idxSort[-n-1],1], coef[idxSort[-n-1],0]))"
      ],
      "execution_count": 0,
      "outputs": [
        {
          "output_type": "stream",
          "text": [
            "0.881 - AUROC of model (training set).\n",
            "Top 5 predictors negatively correlated with mortality:\n",
            "-0.89 - ALPMax\n",
            "-0.83 - GCSLast\n",
            "-0.79 - pHMin\n",
            "-0.71 - BilirubinFirst\n",
            "-0.58 - ASTFirst\n",
            "\n",
            "Top 5 predictors positively correlated with mortality:\n",
            "0.73 - BilirubinMedian\n",
            "0.69 - ASTMin\n",
            "0.67 - MechVentDuration\n",
            "0.64 - BUNLast\n",
            "0.64 - pHMedian\n"
          ],
          "name": "stdout"
        }
      ]
    },
    {
      "cell_type": "markdown",
      "metadata": {
        "colab_type": "text",
        "id": "_z2pFI-jG879"
      },
      "source": [
        "Let's look at the odds ratios for these coefficients graphically. \n",
        "This will give us a more intuitive comparison between the features. \n",
        "For those which have negative correlation with bad outcome (i.e. higher values indicate better prognosis), we reverse the coefficient on the graph so it is more comparable."
      ]
    },
    {
      "cell_type": "code",
      "metadata": {
        "colab_type": "code",
        "id": "26jIeJxuG3sd",
        "outputId": "d48f4036-09a8-4239-8f44-c63d98a47e41",
        "colab": {
          "base_uri": "https://localhost:8080/",
          "height": 377
        }
      },
      "source": [
        "# plot the top 10 lowest / highest\n",
        "coef = np.row_stack([df.columns[1:], clf.coef_]).T\n",
        "idxSort = np.argsort(coef[:,1])\n",
        "\n",
        "idxTop = idxSort[0:10]\n",
        "idxBot = idxSort[-1:-11:-1]\n",
        "\n",
        "colTop = [0.8906,0.1016,0.1094]\n",
        "colBot = [0.2148,0.4922,0.7188]\n",
        "\n",
        "f = plt.figure(figsize=[10,6])\n",
        "ax1 = f.add_subplot(111)\n",
        "ax1.plot( np.exp(-coef[idxTop,1].astype(float)), range(10), 's', markersize=10, color = colTop)\n",
        "\n",
        "# move negatively correlated ticklabels over to the right\n",
        "ax1.yaxis.tick_right()\n",
        "ax1.yaxis.set_label_position(\"right\")\n",
        "ax1.set_ylim([-1,10])\n",
        "\n",
        "ax1.yaxis.set_ticks(range(10))\n",
        "ax1.yaxis.set_ticklabels(coef[idxTop,0], color=colTop, fontsize=16)\n",
        "plt.ylabel(\"Negatively correlated\", color=colTop, fontsize=16)\n",
        "\n",
        "ax2 = f.add_subplot(111, sharex=ax1, frameon=False)\n",
        "ax2.plot( np.exp(coef[idxBot,1].astype(float)), range(10), 'o', markersize=10, color=colBot )\n",
        "\n",
        "\n",
        "ax2.yaxis.set_ticks(range(10))\n",
        "ax2.yaxis.set_ticklabels(coef[idxBot,0], color=colBot, fontsize=16)\n",
        "ax2.set_ylim([-1,10])\n",
        "plt.ylabel(\"Positively correlated\", color=colBot, fontsize=16)\n",
        "\n",
        "# set axes\n",
        "plt.show()"
      ],
      "execution_count": 0,
      "outputs": [
        {
          "output_type": "display_data",
          "data": {
            "image/png": "[encoded data removed]",
            "text/plain": [
              "<Figure size 720x432 with 2 Axes>"
            ]
          },
          "metadata": {
            "tags": []
          }
        }
      ]
    },
    {
      "cell_type": "markdown",
      "metadata": {
        "colab_type": "text",
        "id": "qEiKUipZU5o5"
      },
      "source": [
        "### Pipeline\n",
        "\n",
        "We can use scikit-learn's pipeline feature to combine together all of these steps (imputation, scaling, and final model building). \n",
        "This is technically the same thing, but syntactically it's a lot cleaner.\n",
        "\n"
      ]
    },
    {
      "cell_type": "code",
      "metadata": {
        "colab_type": "code",
        "id": "9yNgiC9uU3j4",
        "outputId": "b14765fe-a5ee-42d7-d621-2ee3252c705d",
        "colab": {
          "base_uri": "https://localhost:8080/",
          "height": 90
        }
      },
      "source": [
        "# can use pipelines as a nicer way of doing the above\n",
        "estimator = Pipeline([\n",
        "        (\"imputer\", Imputer(missing_values='NaN',\n",
        "                                  strategy=\"mean\",\n",
        "                                  axis=0)),\n",
        "        (\"scaler\", StandardScaler()),\n",
        "        (\"logreg\", LogisticRegression(fit_intercept=True))\n",
        "    ])\n",
        "\n",
        "mdl_pipeline = estimator.fit(X, y)\n",
        "\n",
        "yhat = mdl_pipeline.predict_proba(X)[:,1]\n",
        "\n",
        "auc = metrics.roc_auc_score(y, yhat)\n",
        "print('{:0.3f} - AUROC of model (training set).'.format( auc ))"
      ],
      "execution_count": 0,
      "outputs": [
        {
          "output_type": "stream",
          "text": [
            "/usr/local/lib/python2.7/dist-packages/sklearn/utils/deprecation.py:58: DeprecationWarning: Class Imputer is deprecated; Imputer was deprecated in version 0.20 and will be removed in 0.22. Import impute.SimpleImputer from sklearn instead.\n",
            "  warnings.warn(msg, category=DeprecationWarning)\n"
          ],
          "name": "stderr"
        },
        {
          "output_type": "stream",
          "text": [
            "0.881 - AUROC of model (training set).\n"
          ],
          "name": "stdout"
        }
      ]
    },
    {
      "cell_type": "markdown",
      "metadata": {
        "colab_type": "text",
        "id": "36LIjZCcKEvO"
      },
      "source": [
        "Note that we achieve the same performance as before---again, this is simply a short form of what we have done before.\n",
        "\n",
        "You'll note that in the print statement we keeps stating `\"training set\"`, and may be wondering what this means and why it matters. \n",
        "The training set corresponds to the data used to develop the model.\n",
        "Importantly, this means that the model has seen the data that we are using to estimate how well the model is doing. \n",
        "For the regression model above, the consequences of this may not be obvious. \n",
        "Let's switch to a more flexible model and see what happens."
      ]
    },
    {
      "cell_type": "code",
      "metadata": {
        "colab_type": "code",
        "id": "4qxpTrw5VhOG",
        "outputId": "4842fed0-c552-4213-c822-75d3bce57e88",
        "colab": {
          "base_uri": "https://localhost:8080/",
          "height": 125
        }
      },
      "source": [
        "# can use pipelines as a nicer way of doing the above\n",
        "estimator = Pipeline([\n",
        "        (\"imputer\", Imputer(missing_values='NaN',\n",
        "                                  strategy=\"mean\",\n",
        "                                  axis=0)),\n",
        "        (\"scaler\", StandardScaler()),\n",
        "        (\"rf\", RandomForestClassifier())\n",
        "    ])\n",
        "\n",
        "mdl_pipeline = estimator.fit(X, y)\n",
        "\n",
        "yhat = mdl_pipeline.predict_proba(X)[:,1]\n",
        "\n",
        "auc = metrics.roc_auc_score(y, yhat)\n",
        "print('{:0.3f} - AUROC of model (training set).'.format( auc ))"
      ],
      "execution_count": 0,
      "outputs": [
        {
          "output_type": "stream",
          "text": [
            "/usr/local/lib/python2.7/dist-packages/sklearn/utils/deprecation.py:58: DeprecationWarning: Class Imputer is deprecated; Imputer was deprecated in version 0.20 and will be removed in 0.22. Import impute.SimpleImputer from sklearn instead.\n",
            "  warnings.warn(msg, category=DeprecationWarning)\n",
            "/usr/local/lib/python2.7/dist-packages/sklearn/ensemble/forest.py:246: FutureWarning: The default value of n_estimators will change from 10 in version 0.20 to 100 in 0.22.\n",
            "  \"10 in version 0.20 to 100 in 0.22.\", FutureWarning)\n"
          ],
          "name": "stderr"
        },
        {
          "output_type": "stream",
          "text": [
            "1.000 - AUROC of model (training set).\n"
          ],
          "name": "stdout"
        }
      ]
    },
    {
      "cell_type": "markdown",
      "metadata": {
        "colab_type": "text",
        "id": "GLvdjOk6KP2P"
      },
      "source": [
        "Amazing! \n",
        "We have an AUROC = 1.0, which is perfect, therefore we have a perfect model. \n",
        "Time to go home!\n",
        "\n",
        "Obviously, it's not that simple, though we wish it were :) \n",
        "We have used a model called a Random Forest. \n",
        "Omitting a few details, a random forest is a collection of decision trees. \n",
        "Each decision tree tries to perfectly classify a small subset of the overall data. \n",
        "When combined together, all of these decision trees perfectly classify the entire dataset. \n",
        "However, that does not mean that they work perfectly.\n",
        "\n",
        "How can we check this? \n",
        "Well, let's hide some data from the classifier, and see how well it does on this hidden data. \n",
        "This is a very common concept in machine learning: we have a training set, and we hide a test set to see how we're really doing---as we did for the breast cancer prediction task.\n",
        "\n",
        "You can either use the splitting function in `scikit-learn` (in the breast cancer example), or use the simple random indexing approach to split the data.\n",
        "Here we use the latter approach.\n",
        "\n",
        "We realized that the result of AUC = 1.0 comes from overfitting of training data.\n",
        "You may change to other algorithms in the `Pipeline` and see which algorithm has better generalizability for testing data."
      ]
    },
    {
      "cell_type": "markdown",
      "metadata": {
        "colab_type": "text",
        "id": "AOY5rDb6KS_O"
      },
      "source": [
        "### Prevent from overfitting"
      ]
    },
    {
      "cell_type": "code",
      "metadata": {
        "colab_type": "code",
        "id": "t46MYBDvKJpu",
        "colab": {}
      },
      "source": [
        "# we use 80% data for training and 20% for testing\n",
        "np.random.seed(42)\n",
        "idxTrain = np.random.rand(X.shape[0])\n",
        "idxTest = idxTrain > 0.8\n",
        "idxTrain = ~idxTest\n",
        "\n",
        "X_train = X[idxTrain, :]\n",
        "y_train = y[idxTrain]\n",
        "X_test = X[idxTest, :]\n",
        "y_test = y[idxTest]"
      ],
      "execution_count": 0,
      "outputs": []
    },
    {
      "cell_type": "code",
      "metadata": {
        "colab_type": "code",
        "id": "mNCV-tzGKXeq",
        "outputId": "12c8296d-f230-4b99-825c-f8f3aaf3f3c8",
        "colab": {
          "base_uri": "https://localhost:8080/",
          "height": 107
        }
      },
      "source": [
        "# can use pipelines as a nicer way of doing the above\n",
        "estimator = Pipeline([\n",
        "        (\"imputer\", Imputer(missing_values='NaN',\n",
        "                                  strategy=\"mean\",\n",
        "                                  axis=0)),\n",
        "        (\"scaler\", StandardScaler()),\n",
        "        (\"rf\", RandomForestClassifier())\n",
        "    ])\n",
        "\n",
        "mdl_pipeline = estimator.fit(X_train, y_train)\n",
        "\n",
        "yhat = mdl_pipeline.predict_proba(X_train)[:,1]\n",
        "auc = metrics.roc_auc_score(y_train, yhat)\n",
        "print('{:0.3f} - AUROC of model (training set).'.format(auc))\n",
        "\n",
        "yhat = mdl_pipeline.predict_proba(X_test)[:,1]\n",
        "auc = metrics.roc_auc_score(y_test, yhat)\n",
        "print('{:0.3f} - AUROC of model (test set).'.format(auc))"
      ],
      "execution_count": 0,
      "outputs": [
        {
          "output_type": "stream",
          "text": [
            "/usr/local/lib/python2.7/dist-packages/sklearn/utils/deprecation.py:58: DeprecationWarning: Class Imputer is deprecated; Imputer was deprecated in version 0.20 and will be removed in 0.22. Import impute.SimpleImputer from sklearn instead.\n",
            "  warnings.warn(msg, category=DeprecationWarning)\n"
          ],
          "name": "stderr"
        },
        {
          "output_type": "stream",
          "text": [
            "1.000 - AUROC of model (training set).\n",
            "0.777 - AUROC of model (test set).\n"
          ],
          "name": "stdout"
        }
      ]
    },
    {
      "cell_type": "markdown",
      "metadata": {
        "colab_type": "text",
        "id": "ZO-KpqjfKdwS"
      },
      "source": [
        "### Interpretability\n",
        "\n",
        "Now that we have prevented our model from memorizing the data, we can get a much better estimate of how well we are actually doing. \n",
        "Note that with the more flexible model, we are not necessarily doing better. \n",
        "However, there are many \"hyperparameters\" for the Random Forest (different knobs we can tweak in order for things to work better). \n",
        "With some optimization of these hyperparameters, we may be able to do better. \n",
        "Note that this improvement in performance is at the cost of some interpretability of the model. \n",
        "We no longer have a simple set of coefficients to interpret: we now have hundreds of decision trees simultaneously being used to determine patient outcome.\n",
        "\n",
        "All is not lost! \n",
        "We can still garner some meaning from the models. \n",
        "One common method of interpretting the model is figuring out how important each feature is in the model. \n",
        "The method for doing this is quite intuitive: we can mess up a single column (randomize it), and see how much worse our model does. \n",
        "If that column is very important, then we would expect our model to be much worse. \n",
        "If the column is not that important, then our model performance would be about the same."
      ]
    },
    {
      "cell_type": "code",
      "metadata": {
        "colab_type": "code",
        "id": "09YubqxRKZzF",
        "outputId": "ad623ebb-4b68-4b2e-ee82-aa1bc10f3f04",
        "colab": {
          "base_uri": "https://localhost:8080/",
          "height": 367
        }
      },
      "source": [
        "D = X_test.shape[1]\n",
        "# we should repeat the data shuffling to get a decent estimate of feature importance\n",
        "B = 10\n",
        "feat_importance = np.zeros([B, D], dtype=float)\n",
        "\n",
        "\n",
        "# let's get the baseline performance of our model\n",
        "yhat = mdl_pipeline.predict_proba(X_test)[:,1]\n",
        "loss_base = metrics.log_loss(y_test, yhat)\n",
        "\n",
        "\n",
        "# for each feature\n",
        "for d in range(D):\n",
        "    for b in range(B):\n",
        "        # generate a random shuffle\n",
        "        idxShuffle = np.random.randint(low=0, high=D, size=X_test.shape[0])\n",
        "        # note this random shuffle allows the same row to be selected more than once\n",
        "        # this is intentional, and called \"bootstrapping\", you can read up on it online\n",
        "\n",
        "        X_fi = X_test\n",
        "\n",
        "        # shuffle the data\n",
        "        X_fi[:, d] = X_fi[idxShuffle, d]\n",
        "\n",
        "        # apply our model\n",
        "        yhat = mdl_pipeline.predict_proba(X_fi)[:,1]\n",
        "\n",
        "        # calculate performance on the data with a shuffled column\n",
        "        loss = metrics.log_loss(y_test, yhat)\n",
        "\n",
        "        # store this in the feature importance matrix\n",
        "        # note we subtract this off the baseline AUROC\n",
        "        feat_importance[b,d] = loss_base - loss\n",
        "        \n",
        "    if np.mod(d,10)==0:\n",
        "        print('Finished {:2.1f}% of features.'.format(d*100.0/D))\n",
        "        \n",
        "print('Done!')"
      ],
      "execution_count": 0,
      "outputs": [
        {
          "output_type": "stream",
          "text": [
            "Finished 0.0% of features.\n",
            "Finished 5.5% of features.\n",
            "Finished 11.0% of features.\n",
            "Finished 16.5% of features.\n",
            "Finished 22.0% of features.\n",
            "Finished 27.5% of features.\n",
            "Finished 33.0% of features.\n",
            "Finished 38.5% of features.\n",
            "Finished 44.0% of features.\n",
            "Finished 49.5% of features.\n",
            "Finished 54.9% of features.\n",
            "Finished 60.4% of features.\n",
            "Finished 65.9% of features.\n",
            "Finished 71.4% of features.\n",
            "Finished 76.9% of features.\n",
            "Finished 82.4% of features.\n",
            "Finished 87.9% of features.\n",
            "Finished 93.4% of features.\n",
            "Finished 98.9% of features.\n",
            "Done!\n"
          ],
          "name": "stdout"
        }
      ]
    },
    {
      "cell_type": "markdown",
      "metadata": {
        "colab_type": "text",
        "id": "P290Fi7sKlRZ"
      },
      "source": [
        "Now that we've calculated the importance, let's plot the most important 10 features. \n",
        "We can define the most important features as those which caused the largest degradation in performance."
      ]
    },
    {
      "cell_type": "code",
      "metadata": {
        "colab_type": "code",
        "id": "MMOyXY8lKivX",
        "outputId": "fc97e3b7-ecf7-425d-de5e-d723503f1ebc",
        "colab": {
          "base_uri": "https://localhost:8080/",
          "height": 486
        }
      },
      "source": [
        "# take mean degradation in performance\n",
        "feat_imp_mu = np.mean(feat_importance, axis=0)\n",
        "feat_imp_iqr = np.percentile(feat_importance, 75, axis=0) - np.percentile(feat_importance, 25, axis=0)\n",
        "\n",
        "# sort to get the features which had the most impact\n",
        "idxSort = np.argsort(feat_imp_mu)\n",
        "\n",
        "plt.figure(figsize=[12,8])\n",
        "# note we negate the feature importance - now higher values indicate more important\n",
        "plt.barh(range(10), -feat_imp_mu[idxSort[0:10]], color='r',\n",
        "         yerr = feat_imp_iqr[idxSort[0:10]],\n",
        "        tick_label = X_header[idxSort[0:10]],\n",
        "        align='center')\n",
        "plt.show()"
      ],
      "execution_count": 0,
      "outputs": [
        {
          "output_type": "display_data",
          "data": {
            "image/png": "[encoded data removed]",
            "text/plain": [
              "<Figure size 864x576 with 1 Axes>"
            ]
          },
          "metadata": {
            "tags": []
          }
        }
      ]
    },
    {
      "cell_type": "markdown",
      "metadata": {
        "colab_type": "text",
        "id": "5Q4XSnSsKppn"
      },
      "source": [
        "Note that we have changed our metric from the AUROC to the logistic loss. \n",
        "All of the top 10 features make sense: lab values are useful in determining patient outcome.\n",
        "\n",
        "There are other methods for determining feature importance---in fact, some are included in the random forest model object. \n",
        "The only trick is that they are buried within the pipeline that we used earlier."
      ]
    },
    {
      "cell_type": "code",
      "metadata": {
        "colab_type": "code",
        "id": "g5-IwMnfKnP3",
        "outputId": "27d654f1-5394-425e-f8ef-063b653fdf69",
        "colab": {
          "base_uri": "https://localhost:8080/",
          "height": 486
        }
      },
      "source": [
        "rf_mdl = mdl_pipeline.named_steps['rf']\n",
        "\n",
        "# get feature importances\n",
        "feat_imp_rf = rf_mdl.feature_importances_\n",
        "\n",
        "# same as before - let's plot it!\n",
        "idxSort = np.argsort(feat_imp_rf)\n",
        "\n",
        "plt.figure(figsize=[12,8])\n",
        "plt.barh(range(10), feat_imp_rf[idxSort[0:10]],\n",
        "        tick_label = X_header[idxSort[0:10]],\n",
        "        align='center')\n",
        "plt.show()"
      ],
      "execution_count": 0,
      "outputs": [
        {
          "output_type": "display_data",
          "data": {
            "image/png": "[encoded data removed]",
            "text/plain": [
              "<Figure size 864x576 with 1 Axes>"
            ]
          },
          "metadata": {
            "tags": []
          }
        }
      ]
    },
    {
      "cell_type": "markdown",
      "metadata": {
        "colab_type": "text",
        "id": "0IjSR3xnKxVG"
      },
      "source": [
        "Here we get very different feature importances. \n",
        "Why is this? \n",
        "It helps to understand how these feature importances are derived.\n",
        "\n",
        "The first feature importance (log loss approach) was done based on overall performance: potassium ended up being very useful across all patients in predicting mortality.\n",
        "\n",
        "Alternatively, the second method is based on the Gini importance (in random forest). \n",
        "Remember that a random forest is made up of many trees. \n",
        "This second method says: for each split that uses the feature, how much \"purer\" are the two subsequent nodes. \n",
        "Below, the percentage is the frequency of the outcome, where we start with 50% (equal number of both groups in that node).\n",
        "```\n",
        "50%\n",
        "|\n",
        "| split on feature here\n",
        "|\\\n",
        "| \\\n",
        "|  \\\n",
        "|   \\\n",
        "|    \\\n",
        "25%  75%\n",
        "```\n",
        "Above, after we split on the feature, our nodes are \"purer\". \n",
        "That is, the left node has more negative outcomes (0s), and the right node as more positive outcomes (1s).\n",
        "\n",
        "From this, we can conclude that MAP (mean arterial pressure) is very useful for separating those who survive from those who die, which makes sens.\n",
        "Patients who have low MAP are very ill, and it is an effective indicator of illness. \n",
        "However, not all patients have low MAP. \n",
        "Across all patients, potassium is a more important measure in indicating illness."
      ]
    },
    {
      "cell_type": "markdown",
      "metadata": {
        "colab_type": "text",
        "id": "a8HX6G5RK2sK"
      },
      "source": [
        "### [Optional] K-fold cross-validation (in detail)\n",
        "Finally, let's review a very effective technique for estimating how well our classifier is doing---cross-validation. \n",
        "Recall that we split the dataset into two sets: training and test, specifically 80% training and 20% test. \n",
        "As we tested using a smaller dataset (only 20% of the total records), we likely will end up with a noisier estimate of performance than if we used the entire dataset. \n",
        "Of course we can't use the entire dataset because then our model results aren't believable. \n",
        "Cross-validation is a clever way to use the entire dataset and use held-out data for proper evaluation. \n",
        "Each observation is assigned to a group. \n",
        "Let's say we have $k$ groups. \n",
        "We then can build a model using data in the $k$-th group as the test set, and all other data as the training set. \n",
        "Let's take a look at some code.\n",
        "\n",
        "\n"
      ]
    },
    {
      "cell_type": "code",
      "metadata": {
        "colab_type": "code",
        "id": "nzD3fC4mK4On",
        "outputId": "19596bec-9fb7-46f4-f44a-3eab43ed8547",
        "colab": {
          "base_uri": "https://localhost:8080/",
          "height": 52
        }
      },
      "source": [
        "# create the K fold indices\n",
        "K = 5\n",
        "\n",
        "idxK = np.random.permutation(X.shape[0])\n",
        "idxK = np.mod(idxK,K)\n",
        "\n",
        "print('First 10 observations:',end=' ')\n",
        "print(idxK[0:10])\n",
        "print('idxK shape:',end=' ')\n",
        "print(idxK.shape)"
      ],
      "execution_count": 0,
      "outputs": [
        {
          "output_type": "stream",
          "text": [
            "First 10 observations: [3 3 2 3 3 1 4 0 3 0]\n",
            "idxK shape: (4000,)\n"
          ],
          "name": "stdout"
        }
      ]
    },
    {
      "cell_type": "markdown",
      "metadata": {
        "colab_type": "text",
        "id": "917iTyh-K_sZ"
      },
      "source": [
        "Above you can see we have generated an integer, up to $k-1$ (but including 0), for all observations in the training set. \n",
        "We will now iterate through the unique integers to \"hold out\" a subset of the data for each model training."
      ]
    },
    {
      "cell_type": "code",
      "metadata": {
        "colab_type": "code",
        "id": "LMwAKrfcK9kC",
        "outputId": "751644b0-19c7-4509-8155-091fd0dc503d",
        "colab": {
          "base_uri": "https://localhost:8080/",
          "height": 105
        }
      },
      "source": [
        "xval_auc = list()\n",
        "\n",
        "for k in range(K):\n",
        "    idxTest = idxK == k\n",
        "    idxTrain = idxK != k\n",
        "\n",
        "    X_train = X[idxTrain, :]\n",
        "    y_train = y[idxTrain]\n",
        "    X_test = X[idxTest, :]\n",
        "    y_test = y[idxTest]\n",
        "    \n",
        "    # train the model using all but the kth fold\n",
        "    curr_mdl = estimator.fit(X_train, y_train)\n",
        "    \n",
        "    # evaluate using the kth fold\n",
        "    yhat = curr_mdl.predict_proba(X_test)[:,1]\n",
        "    curr_score = metrics.roc_auc_score(y_test, yhat)\n",
        "    xval_auc.append( curr_score )\n",
        "    \n",
        "\n",
        "    print('{} - Finished fold {} of {}. AUROC {:0.3f}.'.format(dt.datetime.now(),\n",
        "                                                               k+1, K, curr_score))"
      ],
      "execution_count": 0,
      "outputs": [
        {
          "output_type": "stream",
          "text": [
            "2019-10-28 00:13:32.987422 - Finished fold 1 of 5. AUROC 0.779.\n",
            "2019-10-28 00:13:33.242015 - Finished fold 2 of 5. AUROC 0.785.\n",
            "2019-10-28 00:13:33.494560 - Finished fold 3 of 5. AUROC 0.771.\n",
            "2019-10-28 00:13:33.753762 - Finished fold 4 of 5. AUROC 0.765.\n",
            "2019-10-28 00:13:34.005532 - Finished fold 5 of 5. AUROC 0.783.\n"
          ],
          "name": "stdout"
        }
      ]
    },
    {
      "cell_type": "markdown",
      "metadata": {
        "colab_type": "text",
        "id": "OvSgqSEj9wqP"
      },
      "source": [
        "Of course, you can also use the function `cross_val_score` as we used in the breast cancer prediction for cross-validation."
      ]
    },
    {
      "cell_type": "markdown",
      "metadata": {
        "colab_type": "text",
        "id": "LV9JVHoBLEFB"
      },
      "source": [
        "### [Optional] Hyperparameter optimization\n",
        "Let's look at our estimator."
      ]
    },
    {
      "cell_type": "code",
      "metadata": {
        "colab_type": "code",
        "id": "vxW_XzjDLBb4",
        "outputId": "834c8fe6-052b-4242-cfee-83ae6e632c8c",
        "colab": {
          "base_uri": "https://localhost:8080/",
          "height": 195
        }
      },
      "source": [
        "estimator = Pipeline([\n",
        "        (\"imputer\", Imputer(missing_values='NaN',\n",
        "                                  strategy=\"mean\",\n",
        "                                  axis=0)),\n",
        "        (\"scaler\", StandardScaler()),\n",
        "        (\"rf\", RandomForestClassifier())\n",
        "    ])\n",
        "\n",
        "print(estimator.named_steps['rf'])"
      ],
      "execution_count": 0,
      "outputs": [
        {
          "output_type": "stream",
          "text": [
            "RandomForestClassifier(bootstrap=True, class_weight=None, criterion='gini',\n",
            "            max_depth=None, max_features='auto', max_leaf_nodes=None,\n",
            "            min_impurity_decrease=0.0, min_impurity_split=None,\n",
            "            min_samples_leaf=1, min_samples_split=2,\n",
            "            min_weight_fraction_leaf=0.0, n_estimators='warn', n_jobs=None,\n",
            "            oob_score=False, random_state=None, verbose=0,\n",
            "            warm_start=False)\n"
          ],
          "name": "stdout"
        },
        {
          "output_type": "stream",
          "text": [
            "/usr/local/lib/python2.7/dist-packages/sklearn/utils/deprecation.py:58: DeprecationWarning: Class Imputer is deprecated; Imputer was deprecated in version 0.20 and will be removed in 0.22. Import impute.SimpleImputer from sklearn instead.\n",
            "  warnings.warn(msg, category=DeprecationWarning)\n"
          ],
          "name": "stderr"
        }
      ]
    },
    {
      "cell_type": "markdown",
      "metadata": {
        "colab_type": "text",
        "id": "JR5wabnDLJ--"
      },
      "source": [
        "Careful observation will note a few parameters which we could play around with:\n",
        "\n",
        "* criterion - what method to evaluate how well a node is splitting the data\n",
        "* max_depth - a limit on how deep the tree is\n",
        "* max_features - how many to look at for an inidividual tree\n",
        "* max_leaf_nodes - maximum number of leaf or end nodes\n",
        "* min_impurity_split - minimum impurity to allow for a split (the criterion is impurity)\n",
        "* min_samples_leaf - minimum samples in a leaf node\n",
        "* min_samples_split - minimum samples required to split a node\n",
        "* min_weight_fraction_leaf - similar to min_samples_leaf, except sometimes we are using weighted data, and so this takes that into account\n",
        "* n_estimators - the number of trees to learn\n",
        "\n",
        "More details of parameteres can be found in the [`scikit-learn` document about random forest classifier](http://scikit-learn.org/stable/modules/generated/sklearn.ensemble.RandomForestClassifier.html).\n",
        "\n",
        "You'll note that all of these parameters have values - but who is to say these values are optimal? \n",
        "They have been set to sensible defaults - all of which perform well on a variety of problems - but there's no reason that they would perform best on our problem! \n",
        "What we need to do is *hyperparameter optimization*: the above are \"hyperparameters\" (i.e., they are not the parameters the model uses to make decisions, but they are used to configure the model itself). \n",
        "We can optimize these in a few ways, but the simplest to understand is grid search. \n",
        "Grid search is essentially a brute force method of trying a bunch of combinations and picking the one that does best.\n",
        "\n",
        "Happily, `scikit-learn` provides some tools to do grid search using cross-validation, which is exactly what we want to do."
      ]
    },
    {
      "cell_type": "code",
      "metadata": {
        "colab_type": "code",
        "id": "D2Fm9Ex8LKby",
        "outputId": "1770f784-cc1b-47cc-a99d-8e1d49a9add1",
        "colab": {
          "base_uri": "https://localhost:8080/",
          "height": 685
        }
      },
      "source": [
        "params = {'rf__max_depth': [10],\n",
        "         'rf__n_estimators': [10,50]}\n",
        "\n",
        "estimator = Pipeline([\n",
        "        (\"imputer\", Imputer(missing_values='NaN',\n",
        "                                  strategy=\"mean\",\n",
        "                                  axis=0)),\n",
        "        (\"scaler\", StandardScaler()),\n",
        "        (\"rf\", RandomForestClassifier())\n",
        "    ])\n",
        "\n",
        "curr_mdl = model_selection.GridSearchCV(estimator, params,\n",
        "                   scoring='roc_auc',\n",
        "                   verbose=2, refit=True)\n",
        "curr_mdl.fit(X, y)\n",
        "\n",
        "curr_mdl.cv_results_['mean_test_score']"
      ],
      "execution_count": 0,
      "outputs": [
        {
          "output_type": "stream",
          "text": [
            "Fitting 3 folds for each of 2 candidates, totalling 6 fits\n",
            "[CV] rf__max_depth=10, rf__n_estimators=10 ...........................\n"
          ],
          "name": "stdout"
        },
        {
          "output_type": "stream",
          "text": [
            "/usr/local/lib/python2.7/dist-packages/sklearn/utils/deprecation.py:58: DeprecationWarning: Class Imputer is deprecated; Imputer was deprecated in version 0.20 and will be removed in 0.22. Import impute.SimpleImputer from sklearn instead.\n",
            "  warnings.warn(msg, category=DeprecationWarning)\n",
            "/usr/local/lib/python2.7/dist-packages/sklearn/model_selection/_split.py:2053: FutureWarning: You should specify a value for 'cv' instead of relying on the default value. The default value will change from 3 to 5 in version 0.22.\n",
            "  warnings.warn(CV_WARNING, FutureWarning)\n",
            "/usr/local/lib/python2.7/dist-packages/sklearn/utils/deprecation.py:58: DeprecationWarning: Class Imputer is deprecated; Imputer was deprecated in version 0.20 and will be removed in 0.22. Import impute.SimpleImputer from sklearn instead.\n",
            "  warnings.warn(msg, category=DeprecationWarning)\n",
            "[Parallel(n_jobs=1)]: Using backend SequentialBackend with 1 concurrent workers.\n",
            "/usr/local/lib/python2.7/dist-packages/sklearn/utils/deprecation.py:58: DeprecationWarning: Class Imputer is deprecated; Imputer was deprecated in version 0.20 and will be removed in 0.22. Import impute.SimpleImputer from sklearn instead.\n",
            "  warnings.warn(msg, category=DeprecationWarning)\n"
          ],
          "name": "stderr"
        },
        {
          "output_type": "stream",
          "text": [
            "[CV] ............ rf__max_depth=10, rf__n_estimators=10, total=   0.2s\n",
            "[CV] rf__max_depth=10, rf__n_estimators=10 ...........................\n",
            "[CV] ............ rf__max_depth=10, rf__n_estimators=10, total=   0.2s\n",
            "[CV] rf__max_depth=10, rf__n_estimators=10 ...........................\n"
          ],
          "name": "stdout"
        },
        {
          "output_type": "stream",
          "text": [
            "[Parallel(n_jobs=1)]: Done   1 out of   1 | elapsed:    0.2s remaining:    0.0s\n",
            "/usr/local/lib/python2.7/dist-packages/sklearn/utils/deprecation.py:58: DeprecationWarning: Class Imputer is deprecated; Imputer was deprecated in version 0.20 and will be removed in 0.22. Import impute.SimpleImputer from sklearn instead.\n",
            "  warnings.warn(msg, category=DeprecationWarning)\n",
            "/usr/local/lib/python2.7/dist-packages/sklearn/utils/deprecation.py:58: DeprecationWarning: Class Imputer is deprecated; Imputer was deprecated in version 0.20 and will be removed in 0.22. Import impute.SimpleImputer from sklearn instead.\n",
            "  warnings.warn(msg, category=DeprecationWarning)\n"
          ],
          "name": "stderr"
        },
        {
          "output_type": "stream",
          "text": [
            "[CV] ............ rf__max_depth=10, rf__n_estimators=10, total=   0.2s\n",
            "[CV] rf__max_depth=10, rf__n_estimators=50 ...........................\n"
          ],
          "name": "stdout"
        },
        {
          "output_type": "stream",
          "text": [
            "/usr/local/lib/python2.7/dist-packages/sklearn/utils/deprecation.py:58: DeprecationWarning: Class Imputer is deprecated; Imputer was deprecated in version 0.20 and will be removed in 0.22. Import impute.SimpleImputer from sklearn instead.\n",
            "  warnings.warn(msg, category=DeprecationWarning)\n"
          ],
          "name": "stderr"
        },
        {
          "output_type": "stream",
          "text": [
            "[CV] ............ rf__max_depth=10, rf__n_estimators=50, total=   0.6s\n",
            "[CV] rf__max_depth=10, rf__n_estimators=50 ...........................\n"
          ],
          "name": "stdout"
        },
        {
          "output_type": "stream",
          "text": [
            "/usr/local/lib/python2.7/dist-packages/sklearn/utils/deprecation.py:58: DeprecationWarning: Class Imputer is deprecated; Imputer was deprecated in version 0.20 and will be removed in 0.22. Import impute.SimpleImputer from sklearn instead.\n",
            "  warnings.warn(msg, category=DeprecationWarning)\n"
          ],
          "name": "stderr"
        },
        {
          "output_type": "stream",
          "text": [
            "[CV] ............ rf__max_depth=10, rf__n_estimators=50, total=   0.6s\n",
            "[CV] rf__max_depth=10, rf__n_estimators=50 ...........................\n"
          ],
          "name": "stdout"
        },
        {
          "output_type": "stream",
          "text": [
            "/usr/local/lib/python2.7/dist-packages/sklearn/utils/deprecation.py:58: DeprecationWarning: Class Imputer is deprecated; Imputer was deprecated in version 0.20 and will be removed in 0.22. Import impute.SimpleImputer from sklearn instead.\n",
            "  warnings.warn(msg, category=DeprecationWarning)\n"
          ],
          "name": "stderr"
        },
        {
          "output_type": "stream",
          "text": [
            "[CV] ............ rf__max_depth=10, rf__n_estimators=50, total=   0.6s\n"
          ],
          "name": "stdout"
        },
        {
          "output_type": "stream",
          "text": [
            "[Parallel(n_jobs=1)]: Done   6 out of   6 | elapsed:    2.5s finished\n",
            "/usr/local/lib/python2.7/dist-packages/sklearn/utils/deprecation.py:58: DeprecationWarning: Class Imputer is deprecated; Imputer was deprecated in version 0.20 and will be removed in 0.22. Import impute.SimpleImputer from sklearn instead.\n",
            "  warnings.warn(msg, category=DeprecationWarning)\n"
          ],
          "name": "stderr"
        },
        {
          "output_type": "execute_result",
          "data": {
            "text/plain": [
              "array([0.795986  , 0.82845427])"
            ]
          },
          "metadata": {
            "tags": []
          },
          "execution_count": 30
        }
      ]
    },
    {
      "cell_type": "code",
      "metadata": {
        "colab_type": "code",
        "id": "MOSV_jOKLNDw",
        "outputId": "ba43e603-ccc1-4faa-dd1a-c49f28cf0e1e",
        "colab": {
          "base_uri": "https://localhost:8080/",
          "height": 527
        }
      },
      "source": [
        "for x in curr_mdl.cv_results_:\n",
        "    print(x,end=': ')\n",
        "    print(curr_mdl.cv_results_[x])"
      ],
      "execution_count": 0,
      "outputs": [
        {
          "output_type": "stream",
          "text": [
            "std_train_score: [0.00366159 0.00043845]\n",
            "rank_test_score: [2 1]\n",
            "split1_train_score: [0.98850923 0.99508255]\n",
            "split2_train_score: [0.98254005 0.99500623]\n",
            "std_score_time: [0.00127405 0.00054257]\n",
            "split2_test_score: [0.80509582 0.82728943]\n",
            "mean_score_time: [0.01097854 0.01872508]\n",
            "mean_fit_time: [0.14857801 0.59440398]\n",
            "split0_train_score: [0.9797273  0.99597212]\n",
            "std_test_score: [0.01619717 0.00244056]\n",
            "mean_train_score: [0.98359219 0.99535363]\n",
            "split0_test_score: [0.80963705 0.83184908]\n",
            "mean_test_score: [0.795986   0.82845427]\n",
            "params: [{'rf__max_depth': 10, 'rf__n_estimators': 10}, {'rf__max_depth': 10, 'rf__n_estimators': 50}]\n",
            "std_fit_time: [0.00578692 0.00423191]\n",
            "param_rf__max_depth: [10 10]\n",
            "param_rf__n_estimators: [10 50]\n",
            "split1_test_score: [0.77323877 0.82622257]\n"
          ],
          "name": "stdout"
        },
        {
          "output_type": "stream",
          "text": [
            "/usr/local/lib/python2.7/dist-packages/sklearn/utils/deprecation.py:125: FutureWarning: You are accessing a training score ('std_train_score'), which will not be available by default any more in 0.21. If you need training scores, please set return_train_score=True\n",
            "  warnings.warn(*warn_args, **warn_kwargs)\n",
            "/usr/local/lib/python2.7/dist-packages/sklearn/utils/deprecation.py:125: FutureWarning: You are accessing a training score ('split1_train_score'), which will not be available by default any more in 0.21. If you need training scores, please set return_train_score=True\n",
            "  warnings.warn(*warn_args, **warn_kwargs)\n",
            "/usr/local/lib/python2.7/dist-packages/sklearn/utils/deprecation.py:125: FutureWarning: You are accessing a training score ('split2_train_score'), which will not be available by default any more in 0.21. If you need training scores, please set return_train_score=True\n",
            "  warnings.warn(*warn_args, **warn_kwargs)\n",
            "/usr/local/lib/python2.7/dist-packages/sklearn/utils/deprecation.py:125: FutureWarning: You are accessing a training score ('split0_train_score'), which will not be available by default any more in 0.21. If you need training scores, please set return_train_score=True\n",
            "  warnings.warn(*warn_args, **warn_kwargs)\n",
            "/usr/local/lib/python2.7/dist-packages/sklearn/utils/deprecation.py:125: FutureWarning: You are accessing a training score ('mean_train_score'), which will not be available by default any more in 0.21. If you need training scores, please set return_train_score=True\n",
            "  warnings.warn(*warn_args, **warn_kwargs)\n"
          ],
          "name": "stderr"
        }
      ]
    },
    {
      "cell_type": "markdown",
      "metadata": {
        "colab_type": "text",
        "id": "p5nlGiznLRA-"
      },
      "source": [
        "### More models!\n",
        "\n",
        "We are now armed with the ability to train and effectively evaluate our models. \n",
        "Now the fun begins. \n",
        "Let's evaluate a few different models to see which one does best.\n",
        "\n",
        "We use all techniques and tips above in this chunk for modeling.\n",
        "You can even find algorithms you like in the [`scikit-learn` document](http://scikit-learn.org/stable/supervised_learning.html#supervised-learning), add them into `models`, and fine-tune the hyperparameters.\n",
        "Or you can also change the $k$ value for cross-validation.\n",
        "\n"
      ]
    },
    {
      "cell_type": "code",
      "metadata": {
        "colab_type": "code",
        "id": "mT4GRjojLOqj",
        "outputId": "f5056c9d-19be-4dee-d817-95c35ced9daf",
        "colab": {
          "base_uri": "https://localhost:8080/",
          "height": 1000
        }
      },
      "source": [
        "# Rough timing info:\n",
        "#     rf - 3 seconds per fold\n",
        "# logreg - 4 seconds per fold\n",
        "#  lasso - 8 seconds per fold\n",
        "models = {'l1': LogisticRegression(penalty='l1', multi_class='ovr', n_jobs=-1),\n",
        "          'l2': LogisticRegression(penalty='l2', multi_class='ovr', n_jobs=-1), \n",
        "          #'nb': MultinomialNB(), \n",
        "          'svc': CalibratedClassifierCV(base_estimator=LinearSVC(penalty='l2', loss='squared_hinge', C=1.0, multi_class='ovr', random_state=0, max_iter=1000), cv=5), \n",
        "          'rbf': SVC(kernel='rbf', probability=True, decision_function_shape='ovr'), \n",
        "          'rf': RandomForestClassifier(n_estimators=100, n_jobs=-1), \n",
        "          'adab': AdaBoostClassifier(n_estimators=100), \n",
        "          'gb': GradientBoostingClassifier(n_estimators=100, learning_rate=1.0, max_depth=1, random_state=0),\n",
        "          'mlp':MLPClassifier(solver='adam', alpha=1e-5, hidden_layer_sizes=(128, 64, 32), random_state=42)\n",
        "         }       \n",
        "                \n",
        "# create k-fold indices\n",
        "K = 5 # number of folds\n",
        "idxK = np.random.permutation(X.shape[0])\n",
        "idxK = np.mod(idxK,K)\n",
        "\n",
        "mdl_val = dict()\n",
        "results_val = dict()\n",
        "pred_val = dict()\n",
        "tar_val = dict()\n",
        "\n",
        "for mdl in models:\n",
        "    print('=============== {} ==============='.format(mdl))\n",
        "    mdl_val[mdl] = list()\n",
        "    results_val[mdl] = list() # initialize list for scores\n",
        "    pred_val[mdl] = list()\n",
        "    tar_val[mdl] = list()\n",
        "\n",
        "    if mdl == 'xgb':\n",
        "        # no pre-processing of data necessary for xgb\n",
        "        estimator = Pipeline([(mdl, models[mdl])])\n",
        "\n",
        "    else:\n",
        "        estimator = Pipeline([(\"imputer\", Imputer(missing_values='NaN',\n",
        "                                          strategy=\"mean\",\n",
        "                                          axis=0)),\n",
        "                      (\"scaler\", StandardScaler()),\n",
        "                      (mdl, models[mdl])]) \n",
        "\n",
        "    for k in range(K):\n",
        "        # train the model using all but the kth fold\n",
        "        curr_mdl = estimator.fit(X[idxK != k, :],y[idxK != k])\n",
        "\n",
        "        # get prediction on this dataset\n",
        "        if mdl == 'lasso':\n",
        "            curr_prob = curr_mdl.predict(X[idxK == k, :])\n",
        "        else:\n",
        "            curr_prob = curr_mdl.predict_proba(X[idxK == k, :])\n",
        "            curr_prob = curr_prob[:,1]\n",
        "        \n",
        "        pred_val[mdl].append(curr_prob)\n",
        "        tar_val[mdl].append(y[idxK == k])\n",
        "        \n",
        "        # calculate score (AUROC)\n",
        "        curr_score = metrics.roc_auc_score(y[idxK == k], curr_prob)\n",
        "\n",
        "        # add score to list of scores\n",
        "        results_val[mdl].append(curr_score)\n",
        "\n",
        "        # save the current model\n",
        "        mdl_val[mdl].append(curr_mdl)\n",
        "        \n",
        "        print('{} - Finished fold {} of {}. AUROC {:0.3f}.'.format(dt.datetime.now(), k+1, K, curr_score))\n",
        "    "
      ],
      "execution_count": 0,
      "outputs": [
        {
          "output_type": "stream",
          "text": [
            "=============== rf ===============\n"
          ],
          "name": "stdout"
        },
        {
          "output_type": "stream",
          "text": [
            "/usr/local/lib/python2.7/dist-packages/sklearn/utils/deprecation.py:58: DeprecationWarning: Class Imputer is deprecated; Imputer was deprecated in version 0.20 and will be removed in 0.22. Import impute.SimpleImputer from sklearn instead.\n",
            "  warnings.warn(msg, category=DeprecationWarning)\n"
          ],
          "name": "stderr"
        },
        {
          "output_type": "stream",
          "text": [
            "2019-10-28 00:13:40.216936 - Finished fold 1 of 5. AUROC 0.838.\n",
            "2019-10-28 00:13:41.932331 - Finished fold 2 of 5. AUROC 0.822.\n",
            "2019-10-28 00:13:43.790577 - Finished fold 3 of 5. AUROC 0.847.\n",
            "2019-10-28 00:13:45.616734 - Finished fold 4 of 5. AUROC 0.814.\n",
            "2019-10-28 00:13:47.420740 - Finished fold 5 of 5. AUROC 0.861.\n",
            "=============== l2 ===============\n"
          ],
          "name": "stdout"
        },
        {
          "output_type": "stream",
          "text": [
            "/usr/local/lib/python2.7/dist-packages/sklearn/utils/deprecation.py:58: DeprecationWarning: Class Imputer is deprecated; Imputer was deprecated in version 0.20 and will be removed in 0.22. Import impute.SimpleImputer from sklearn instead.\n",
            "  warnings.warn(msg, category=DeprecationWarning)\n",
            "/usr/local/lib/python2.7/dist-packages/sklearn/linear_model/logistic.py:1300: UserWarning: 'n_jobs' > 1 does not have any effect when 'solver' is set to 'liblinear'. Got 'n_jobs' = 2.\n",
            "  \" = {}.\".format(effective_n_jobs(self.n_jobs)))\n"
          ],
          "name": "stderr"
        },
        {
          "output_type": "stream",
          "text": [
            "2019-10-28 00:13:48.042798 - Finished fold 1 of 5. AUROC 0.825.\n",
            "2019-10-28 00:13:48.514781 - Finished fold 2 of 5. AUROC 0.793.\n",
            "2019-10-28 00:13:49.040842 - Finished fold 3 of 5. AUROC 0.809.\n",
            "2019-10-28 00:13:49.622839 - Finished fold 4 of 5. AUROC 0.783.\n",
            "2019-10-28 00:13:50.120693 - Finished fold 5 of 5. AUROC 0.866.\n",
            "=============== gb ===============\n"
          ],
          "name": "stdout"
        },
        {
          "output_type": "stream",
          "text": [
            "/usr/local/lib/python2.7/dist-packages/sklearn/utils/deprecation.py:58: DeprecationWarning: Class Imputer is deprecated; Imputer was deprecated in version 0.20 and will be removed in 0.22. Import impute.SimpleImputer from sklearn instead.\n",
            "  warnings.warn(msg, category=DeprecationWarning)\n"
          ],
          "name": "stderr"
        },
        {
          "output_type": "stream",
          "text": [
            "2019-10-28 00:13:50.889823 - Finished fold 1 of 5. AUROC 0.828.\n",
            "2019-10-28 00:13:51.638068 - Finished fold 2 of 5. AUROC 0.793.\n",
            "2019-10-28 00:13:52.380480 - Finished fold 3 of 5. AUROC 0.800.\n",
            "2019-10-28 00:13:53.134682 - Finished fold 4 of 5. AUROC 0.779.\n",
            "2019-10-28 00:13:53.850086 - Finished fold 5 of 5. AUROC 0.809.\n",
            "=============== l1 ===============\n"
          ],
          "name": "stdout"
        },
        {
          "output_type": "stream",
          "text": [
            "/usr/local/lib/python2.7/dist-packages/sklearn/utils/deprecation.py:58: DeprecationWarning: Class Imputer is deprecated; Imputer was deprecated in version 0.20 and will be removed in 0.22. Import impute.SimpleImputer from sklearn instead.\n",
            "  warnings.warn(msg, category=DeprecationWarning)\n"
          ],
          "name": "stderr"
        },
        {
          "output_type": "stream",
          "text": [
            "2019-10-28 00:13:55.000772 - Finished fold 1 of 5. AUROC 0.830.\n",
            "2019-10-28 00:13:57.484818 - Finished fold 2 of 5. AUROC 0.791.\n",
            "2019-10-28 00:13:59.181776 - Finished fold 3 of 5. AUROC 0.811.\n",
            "2019-10-28 00:14:00.905864 - Finished fold 4 of 5. AUROC 0.793.\n",
            "2019-10-28 00:14:02.448739 - Finished fold 5 of 5. AUROC 0.871.\n",
            "=============== rbf ===============\n"
          ],
          "name": "stdout"
        },
        {
          "output_type": "stream",
          "text": [
            "/usr/local/lib/python2.7/dist-packages/sklearn/utils/deprecation.py:58: DeprecationWarning: Class Imputer is deprecated; Imputer was deprecated in version 0.20 and will be removed in 0.22. Import impute.SimpleImputer from sklearn instead.\n",
            "  warnings.warn(msg, category=DeprecationWarning)\n"
          ],
          "name": "stderr"
        },
        {
          "output_type": "stream",
          "text": [
            "2019-10-28 00:14:09.157558 - Finished fold 1 of 5. AUROC 0.853.\n",
            "2019-10-28 00:14:15.683782 - Finished fold 2 of 5. AUROC 0.812.\n",
            "2019-10-28 00:14:22.349605 - Finished fold 3 of 5. AUROC 0.815.\n",
            "2019-10-28 00:14:28.930472 - Finished fold 4 of 5. AUROC 0.800.\n",
            "2019-10-28 00:14:35.637983 - Finished fold 5 of 5. AUROC 0.827.\n",
            "=============== adab ===============\n"
          ],
          "name": "stdout"
        },
        {
          "output_type": "stream",
          "text": [
            "/usr/local/lib/python2.7/dist-packages/sklearn/utils/deprecation.py:58: DeprecationWarning: Class Imputer is deprecated; Imputer was deprecated in version 0.20 and will be removed in 0.22. Import impute.SimpleImputer from sklearn instead.\n",
            "  warnings.warn(msg, category=DeprecationWarning)\n"
          ],
          "name": "stderr"
        },
        {
          "output_type": "stream",
          "text": [
            "2019-10-28 00:14:38.208213 - Finished fold 1 of 5. AUROC 0.815.\n",
            "2019-10-28 00:14:40.757594 - Finished fold 2 of 5. AUROC 0.811.\n",
            "2019-10-28 00:14:43.320086 - Finished fold 3 of 5. AUROC 0.806.\n",
            "2019-10-28 00:14:46.008424 - Finished fold 4 of 5. AUROC 0.772.\n",
            "2019-10-28 00:14:48.587226 - Finished fold 5 of 5. AUROC 0.853.\n",
            "=============== svc ===============\n"
          ],
          "name": "stdout"
        },
        {
          "output_type": "stream",
          "text": [
            "/usr/local/lib/python2.7/dist-packages/sklearn/utils/deprecation.py:58: DeprecationWarning: Class Imputer is deprecated; Imputer was deprecated in version 0.20 and will be removed in 0.22. Import impute.SimpleImputer from sklearn instead.\n",
            "  warnings.warn(msg, category=DeprecationWarning)\n"
          ],
          "name": "stderr"
        },
        {
          "output_type": "stream",
          "text": [
            "2019-10-28 00:14:53.490860 - Finished fold 1 of 5. AUROC 0.821.\n",
            "2019-10-28 00:14:58.443602 - Finished fold 2 of 5. AUROC 0.796.\n",
            "2019-10-28 00:15:03.652459 - Finished fold 3 of 5. AUROC 0.804.\n",
            "2019-10-28 00:15:08.534071 - Finished fold 4 of 5. AUROC 0.778.\n",
            "2019-10-28 00:15:13.770988 - Finished fold 5 of 5. AUROC 0.859.\n",
            "=============== mlp ===============\n"
          ],
          "name": "stdout"
        },
        {
          "output_type": "stream",
          "text": [
            "/usr/local/lib/python2.7/dist-packages/sklearn/utils/deprecation.py:58: DeprecationWarning: Class Imputer is deprecated; Imputer was deprecated in version 0.20 and will be removed in 0.22. Import impute.SimpleImputer from sklearn instead.\n",
            "  warnings.warn(msg, category=DeprecationWarning)\n"
          ],
          "name": "stderr"
        },
        {
          "output_type": "stream",
          "text": [
            "2019-10-28 00:15:16.836235 - Finished fold 1 of 5. AUROC 0.810.\n",
            "2019-10-28 00:15:19.838775 - Finished fold 2 of 5. AUROC 0.755.\n",
            "2019-10-28 00:15:22.836776 - Finished fold 3 of 5. AUROC 0.759.\n",
            "2019-10-28 00:15:25.843542 - Finished fold 4 of 5. AUROC 0.762.\n",
            "2019-10-28 00:15:29.061015 - Finished fold 5 of 5. AUROC 0.796.\n"
          ],
          "name": "stdout"
        }
      ]
    },
    {
      "cell_type": "markdown",
      "metadata": {
        "colab_type": "text",
        "id": "c6tWfOcRLX80"
      },
      "source": [
        "## More data!\n",
        "\n",
        "Finally, we learned some machine learning techniques and toolkits, and played on two simple datasets.\n",
        "Now it's your turn trying to extract variables and outcomes from [MIMIC dataset](https://mimic.physionet.org/) and build the model for your own clinical questions."
      ]
    },
    {
      "cell_type": "code",
      "metadata": {
        "id": "ZPjZR68itgx-",
        "colab_type": "code",
        "colab": {}
      },
      "source": [
        ""
      ],
      "execution_count": 0,
      "outputs": []
    }
  ]
}